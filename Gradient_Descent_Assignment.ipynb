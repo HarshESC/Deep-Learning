{
  "nbformat": 4,
  "nbformat_minor": 0,
  "metadata": {
    "colab": {
      "name": "Gradient Descent Assignment.ipynb",
      "provenance": [],
      "collapsed_sections": [],
      "authorship_tag": "ABX9TyO+N4+8m8oy07ky6nedSlOU",
      "include_colab_link": true
    },
    "kernelspec": {
      "display_name": "Python 3",
      "name": "python3"
    },
    "language_info": {
      "name": "python"
    }
  },
  "cells": [
    {
      "cell_type": "markdown",
      "metadata": {
        "id": "view-in-github",
        "colab_type": "text"
      },
      "source": [
        "<a href=\"https://colab.research.google.com/github/HarshESC/HarshESC/blob/main/Gradient_Descent_Assignment.ipynb\" target=\"_parent\"><img src=\"https://colab.research.google.com/assets/colab-badge.svg\" alt=\"Open In Colab\"/></a>"
      ]
    },
    {
      "cell_type": "code",
      "metadata": {
        "id": "z_WLvsdS4KYx"
      },
      "source": [
        "import warnings\n",
        "warnings.filterwarnings(\"ignore\")\n",
        "\n",
        "from tensorflow.keras.datasets import mnist\n",
        "from tensorflow.keras.utils import to_categorical\n",
        "from tensorflow.keras.models import Sequential \n",
        "from tensorflow.keras.layers import Dense"
      ],
      "execution_count": null,
      "outputs": []
    },
    {
      "cell_type": "code",
      "metadata": {
        "id": "X-_sfXju4X_v",
        "colab": {
          "base_uri": "https://localhost:8080/"
        },
        "outputId": "5d616c86-d2da-4c13-f886-d5622f670cce"
      },
      "source": [
        "(X_train, y_train), (X_test, y_test) = mnist.load_data()\n",
        "\n",
        "input_dim = 784  # 28*28\n",
        "output_dim = nb_classes = 10\n",
        "nb_epoch = 20\n",
        "\n",
        "X_train = X_train.reshape(60000, input_dim)\n",
        "X_test = X_test.reshape(10000, input_dim)\n",
        "X_train = X_train.astype('float32')\n",
        "X_test = X_test.astype('float32')\n",
        "X_train /= 255\n",
        "X_test /= 255"
      ],
      "execution_count": null,
      "outputs": [
        {
          "output_type": "stream",
          "name": "stdout",
          "text": [
            "Downloading data from https://storage.googleapis.com/tensorflow/tf-keras-datasets/mnist.npz\n",
            "11493376/11490434 [==============================] - 0s 0us/step\n",
            "11501568/11490434 [==============================] - 0s 0us/step\n"
          ]
        }
      ]
    },
    {
      "cell_type": "code",
      "metadata": {
        "id": "ApDhBxu84Z7-"
      },
      "source": [
        "Y_train = to_categorical(y_train, nb_classes)\n",
        "Y_test = to_categorical(y_test, nb_classes)"
      ],
      "execution_count": null,
      "outputs": []
    },
    {
      "cell_type": "markdown",
      "metadata": {
        "id": "hZcmSiD_4b9d"
      },
      "source": [
        "## 1. In this task, you'll implement several ANN models with different batch sizes. Specifically:"
      ]
    },
    {
      "cell_type": "markdown",
      "metadata": {
        "id": "1xoF9Auv4eWV"
      },
      "source": [
        "### Implement a three layer ANN model with 128, 64 and 10 neurons in the layers using 8 as the mini batch size.\n"
      ]
    },
    {
      "cell_type": "code",
      "metadata": {
        "colab": {
          "base_uri": "https://localhost:8080/"
        },
        "id": "I98xKrY54gCm",
        "outputId": "4ab5e886-9721-4879-c2bb-e787bbdbb4b9"
      },
      "source": [
        "model = Sequential()\n",
        "# our first dense layer\n",
        "model.add(Dense(128, input_shape=(784,), activation=\"relu\"))\n",
        "# our second dense layer\n",
        "model.add(Dense(64, activation=\"relu\"))\n",
        "# last layer is the output layer.\n",
        "model.add(Dense(10, activation=\"softmax\"))\n",
        "\n",
        "model.compile(optimizer='sgd', loss='categorical_crossentropy',\n",
        "              metrics=['accuracy'])\n",
        "\n",
        "# setting verbose=1 prints out some results after each epoch\n",
        "model.fit(X_train, Y_train, batch_size=8, epochs=20, verbose=1)"
      ],
      "execution_count": null,
      "outputs": [
        {
          "output_type": "stream",
          "name": "stdout",
          "text": [
            "Epoch 1/20\n",
            "7500/7500 [==============================] - 14s 2ms/step - loss: 0.3690 - accuracy: 0.8960\n",
            "Epoch 2/20\n",
            "7500/7500 [==============================] - 13s 2ms/step - loss: 0.1702 - accuracy: 0.9506\n",
            "Epoch 3/20\n",
            "7500/7500 [==============================] - 13s 2ms/step - loss: 0.1214 - accuracy: 0.9644\n",
            "Epoch 4/20\n",
            "7500/7500 [==============================] - 13s 2ms/step - loss: 0.0944 - accuracy: 0.9722\n",
            "Epoch 5/20\n",
            "7500/7500 [==============================] - 13s 2ms/step - loss: 0.0764 - accuracy: 0.9777\n",
            "Epoch 6/20\n",
            "7500/7500 [==============================] - 13s 2ms/step - loss: 0.0636 - accuracy: 0.9815\n",
            "Epoch 7/20\n",
            "7500/7500 [==============================] - 13s 2ms/step - loss: 0.0541 - accuracy: 0.9843\n",
            "Epoch 8/20\n",
            "7500/7500 [==============================] - 13s 2ms/step - loss: 0.0466 - accuracy: 0.9863\n",
            "Epoch 9/20\n",
            "7500/7500 [==============================] - 13s 2ms/step - loss: 0.0398 - accuracy: 0.9887\n",
            "Epoch 10/20\n",
            "7500/7500 [==============================] - 13s 2ms/step - loss: 0.0344 - accuracy: 0.9898\n",
            "Epoch 11/20\n",
            "7500/7500 [==============================] - 13s 2ms/step - loss: 0.0290 - accuracy: 0.9918\n",
            "Epoch 12/20\n",
            "7500/7500 [==============================] - 13s 2ms/step - loss: 0.0257 - accuracy: 0.9928\n",
            "Epoch 13/20\n",
            "7500/7500 [==============================] - 12s 2ms/step - loss: 0.0218 - accuracy: 0.9943\n",
            "Epoch 14/20\n",
            "7500/7500 [==============================] - 13s 2ms/step - loss: 0.0191 - accuracy: 0.9950\n",
            "Epoch 15/20\n",
            "7500/7500 [==============================] - 13s 2ms/step - loss: 0.0164 - accuracy: 0.9962\n",
            "Epoch 16/20\n",
            "7500/7500 [==============================] - 13s 2ms/step - loss: 0.0135 - accuracy: 0.9969\n",
            "Epoch 17/20\n",
            "7500/7500 [==============================] - 12s 2ms/step - loss: 0.0123 - accuracy: 0.9971\n",
            "Epoch 18/20\n",
            "7500/7500 [==============================] - 13s 2ms/step - loss: 0.0100 - accuracy: 0.9983\n",
            "Epoch 19/20\n",
            "7500/7500 [==============================] - 13s 2ms/step - loss: 0.0082 - accuracy: 0.9988\n",
            "Epoch 20/20\n",
            "7500/7500 [==============================] - 13s 2ms/step - loss: 0.0074 - accuracy: 0.9989\n"
          ]
        },
        {
          "output_type": "execute_result",
          "data": {
            "text/plain": [
              "<keras.callbacks.History at 0x7f450112a090>"
            ]
          },
          "metadata": {},
          "execution_count": 4
        }
      ]
    },
    {
      "cell_type": "code",
      "metadata": {
        "colab": {
          "base_uri": "https://localhost:8080/"
        },
        "id": "3Ml6zO1z4mlO",
        "outputId": "9b5ccdde-20e9-429d-c38e-8f216a369205"
      },
      "source": [
        "score = model.evaluate(X_test, Y_test, verbose=0)\n",
        "print('Test score:', score[0])\n",
        "print('Test accuracy:', score[1])"
      ],
      "execution_count": null,
      "outputs": [
        {
          "output_type": "stream",
          "name": "stdout",
          "text": [
            "Test score: 0.07496469467878342\n",
            "Test accuracy: 0.9800000190734863\n"
          ]
        }
      ]
    },
    {
      "cell_type": "markdown",
      "metadata": {
        "id": "5AVEE10k4rLG"
      },
      "source": [
        "### Implement a three layer ANN model with 128, 64 and 10 neurons in the layers using 128 as the mini batch size.\n"
      ]
    },
    {
      "cell_type": "code",
      "metadata": {
        "colab": {
          "base_uri": "https://localhost:8080/"
        },
        "id": "dXtw0M7y4rkd",
        "outputId": "9fef3c5e-7a50-445a-d71b-622b82a8329d"
      },
      "source": [
        "model = Sequential()\n",
        "# our first dense layer\n",
        "model.add(Dense(128, input_shape=(784,), activation=\"relu\"))\n",
        "# our second dense layer\n",
        "model.add(Dense(64, activation=\"relu\"))\n",
        "# last layer is the output layer.\n",
        "model.add(Dense(10, activation=\"softmax\"))\n",
        "\n",
        "model.compile(optimizer='sgd', loss='categorical_crossentropy',\n",
        "              metrics=['accuracy'])\n",
        "\n",
        "# setting verbose=1 prints out some results after each epoch\n",
        "model.fit(X_train, Y_train, batch_size=128, epochs=20, verbose=1)"
      ],
      "execution_count": null,
      "outputs": [
        {
          "output_type": "stream",
          "name": "stdout",
          "text": [
            "Epoch 1/20\n",
            "469/469 [==============================] - 2s 3ms/step - loss: 1.2373 - accuracy: 0.6905\n",
            "Epoch 2/20\n",
            "469/469 [==============================] - 2s 3ms/step - loss: 0.4933 - accuracy: 0.8747\n",
            "Epoch 3/20\n",
            "469/469 [==============================] - 2s 3ms/step - loss: 0.3892 - accuracy: 0.8934\n",
            "Epoch 4/20\n",
            "469/469 [==============================] - 2s 3ms/step - loss: 0.3443 - accuracy: 0.9047\n",
            "Epoch 5/20\n",
            "469/469 [==============================] - 2s 3ms/step - loss: 0.3163 - accuracy: 0.9116\n",
            "Epoch 6/20\n",
            "469/469 [==============================] - 2s 3ms/step - loss: 0.2952 - accuracy: 0.9171\n",
            "Epoch 7/20\n",
            "469/469 [==============================] - 2s 3ms/step - loss: 0.2781 - accuracy: 0.9220\n",
            "Epoch 8/20\n",
            "469/469 [==============================] - 2s 3ms/step - loss: 0.2635 - accuracy: 0.9257\n",
            "Epoch 9/20\n",
            "469/469 [==============================] - 2s 3ms/step - loss: 0.2507 - accuracy: 0.9295\n",
            "Epoch 10/20\n",
            "469/469 [==============================] - 2s 3ms/step - loss: 0.2393 - accuracy: 0.9331\n",
            "Epoch 11/20\n",
            "469/469 [==============================] - 2s 3ms/step - loss: 0.2286 - accuracy: 0.9362\n",
            "Epoch 12/20\n",
            "469/469 [==============================] - 2s 3ms/step - loss: 0.2188 - accuracy: 0.9388\n",
            "Epoch 13/20\n",
            "469/469 [==============================] - 2s 4ms/step - loss: 0.2102 - accuracy: 0.9413\n",
            "Epoch 14/20\n",
            "469/469 [==============================] - 2s 3ms/step - loss: 0.2019 - accuracy: 0.9434\n",
            "Epoch 15/20\n",
            "469/469 [==============================] - 2s 3ms/step - loss: 0.1945 - accuracy: 0.9455\n",
            "Epoch 16/20\n",
            "469/469 [==============================] - 2s 3ms/step - loss: 0.1874 - accuracy: 0.9475\n",
            "Epoch 17/20\n",
            "469/469 [==============================] - 2s 3ms/step - loss: 0.1809 - accuracy: 0.9491\n",
            "Epoch 18/20\n",
            "469/469 [==============================] - 2s 3ms/step - loss: 0.1749 - accuracy: 0.9509\n",
            "Epoch 19/20\n",
            "469/469 [==============================] - 2s 3ms/step - loss: 0.1693 - accuracy: 0.9527\n",
            "Epoch 20/20\n",
            "469/469 [==============================] - 2s 3ms/step - loss: 0.1639 - accuracy: 0.9538\n"
          ]
        },
        {
          "output_type": "execute_result",
          "data": {
            "text/plain": [
              "<keras.callbacks.History at 0x7f44ff914e50>"
            ]
          },
          "metadata": {},
          "execution_count": 6
        }
      ]
    },
    {
      "cell_type": "code",
      "metadata": {
        "colab": {
          "base_uri": "https://localhost:8080/"
        },
        "id": "yiB4kJ424wyG",
        "outputId": "fb84f099-e6c1-4068-e622-ba561c96f46e"
      },
      "source": [
        "score = model.evaluate(X_test, Y_test, verbose=0)\n",
        "print('Test score:', score[0])\n",
        "print('Test accuracy:', score[1])"
      ],
      "execution_count": null,
      "outputs": [
        {
          "output_type": "stream",
          "name": "stdout",
          "text": [
            "Test score: 0.16117346286773682\n",
            "Test accuracy: 0.9534000158309937\n"
          ]
        }
      ]
    },
    {
      "cell_type": "markdown",
      "metadata": {
        "id": "dzT5Jxcl42PW"
      },
      "source": [
        "### Implement a three layer ANN model with 128, 64 and 10 neurons in the layers using the full sample as the batch.\n"
      ]
    },
    {
      "cell_type": "code",
      "metadata": {
        "colab": {
          "base_uri": "https://localhost:8080/"
        },
        "id": "qEtm4WCf4245",
        "outputId": "fc22f262-32e4-4185-adff-ccbb1afcd30b"
      },
      "source": [
        "model = Sequential()\n",
        "# our first dense layer\n",
        "model.add(Dense(128, input_shape=(784,), activation=\"relu\"))\n",
        "# our second dense layer\n",
        "model.add(Dense(64, activation=\"relu\"))\n",
        "# last layer is the output layer.\n",
        "model.add(Dense(10, activation=\"softmax\"))\n",
        "\n",
        "model.compile(optimizer='sgd', loss='categorical_crossentropy',\n",
        "              metrics=['accuracy'])\n",
        "\n",
        "# setting verbose=1 prints out some results after each epoch\n",
        "model.fit(X_train, Y_train, batch_size=X_train.shape[0], epochs=20, verbose=1)"
      ],
      "execution_count": null,
      "outputs": [
        {
          "output_type": "stream",
          "name": "stdout",
          "text": [
            "Epoch 1/20\n",
            "1/1 [==============================] - 1s 1s/step - loss: 2.3265 - accuracy: 0.1156\n",
            "Epoch 2/20\n",
            "1/1 [==============================] - 1s 694ms/step - loss: 2.3172 - accuracy: 0.1186\n",
            "Epoch 3/20\n",
            "1/1 [==============================] - 1s 690ms/step - loss: 2.3083 - accuracy: 0.1219\n",
            "Epoch 4/20\n",
            "1/1 [==============================] - 1s 653ms/step - loss: 2.2998 - accuracy: 0.1265\n",
            "Epoch 5/20\n",
            "1/1 [==============================] - 1s 654ms/step - loss: 2.2917 - accuracy: 0.1309\n",
            "Epoch 6/20\n",
            "1/1 [==============================] - 1s 649ms/step - loss: 2.2838 - accuracy: 0.1351\n",
            "Epoch 7/20\n",
            "1/1 [==============================] - 1s 639ms/step - loss: 2.2763 - accuracy: 0.1404\n",
            "Epoch 8/20\n",
            "1/1 [==============================] - 1s 653ms/step - loss: 2.2690 - accuracy: 0.1461\n",
            "Epoch 9/20\n",
            "1/1 [==============================] - 1s 644ms/step - loss: 2.2619 - accuracy: 0.1527\n",
            "Epoch 10/20\n",
            "1/1 [==============================] - 1s 634ms/step - loss: 2.2550 - accuracy: 0.1585\n",
            "Epoch 11/20\n",
            "1/1 [==============================] - 1s 643ms/step - loss: 2.2483 - accuracy: 0.1657\n",
            "Epoch 12/20\n",
            "1/1 [==============================] - 1s 635ms/step - loss: 2.2418 - accuracy: 0.1729\n",
            "Epoch 13/20\n",
            "1/1 [==============================] - 1s 659ms/step - loss: 2.2354 - accuracy: 0.1799\n",
            "Epoch 14/20\n",
            "1/1 [==============================] - 1s 650ms/step - loss: 2.2292 - accuracy: 0.1870\n",
            "Epoch 15/20\n",
            "1/1 [==============================] - 1s 635ms/step - loss: 2.2231 - accuracy: 0.1949\n",
            "Epoch 16/20\n",
            "1/1 [==============================] - 1s 659ms/step - loss: 2.2171 - accuracy: 0.2025\n",
            "Epoch 17/20\n",
            "1/1 [==============================] - 1s 645ms/step - loss: 2.2113 - accuracy: 0.2108\n",
            "Epoch 18/20\n",
            "1/1 [==============================] - 1s 632ms/step - loss: 2.2055 - accuracy: 0.2193\n",
            "Epoch 19/20\n",
            "1/1 [==============================] - 1s 596ms/step - loss: 2.1998 - accuracy: 0.2270\n",
            "Epoch 20/20\n",
            "1/1 [==============================] - 1s 587ms/step - loss: 2.1942 - accuracy: 0.2347\n"
          ]
        },
        {
          "output_type": "execute_result",
          "data": {
            "text/plain": [
              "<keras.callbacks.History at 0x7f4500f94850>"
            ]
          },
          "metadata": {},
          "execution_count": 8
        }
      ]
    },
    {
      "cell_type": "code",
      "metadata": {
        "colab": {
          "base_uri": "https://localhost:8080/"
        },
        "id": "GtIY-l9s49Tf",
        "outputId": "acd58e4a-82d9-4d91-f829-8a4046b32ee3"
      },
      "source": [
        "score = model.evaluate(X_test, Y_test, verbose=0)\n",
        "print('Test score:', score[0])\n",
        "print('Test accuracy:', score[1])"
      ],
      "execution_count": null,
      "outputs": [
        {
          "output_type": "stream",
          "name": "stdout",
          "text": [
            "Test score: 2.1847429275512695\n",
            "Test accuracy: 0.24660000205039978\n"
          ]
        }
      ]
    },
    {
      "cell_type": "markdown",
      "metadata": {
        "id": "g0PLlcvA4_oA"
      },
      "source": [
        "### Compare the result of each model with each other. Which batch size did perform better?"
      ]
    },
    {
      "cell_type": "markdown",
      "metadata": {
        "id": "9PASNNjQ5Bab"
      },
      "source": [
        "The best performance both in training and test sets are achieved using 8 as the mini batch size. However, the difference between the scores of the training and test sets are relatively large compared to the scores achieved when using 128 as mini batch size. Since the scores achieved when using 128 as the mini batch size are close to those that are achieved when using 8 as the mini batch size, one can go with 128 because of the overfitting concerns. "
      ]
    },
    {
      "cell_type": "markdown",
      "metadata": {
        "id": "YVFCvd9D5FdX"
      },
      "source": [
        "## 2. In this task, you'll implement several ANN models with different learning rates for the stochastic gradient descent. In all of the models below, use 128 as your mini batch size.\n"
      ]
    },
    {
      "cell_type": "code",
      "metadata": {
        "id": "m3F14ufG5E1f"
      },
      "source": [
        "from tensorflow.keras import optimizers\n",
        "sgd_001 = optimizers.SGD(lr=0.01)\n",
        "sgd_100 = optimizers.SGD(lr=100)\n",
        "sgd_00000001 = optimizers.SGD(lr=0.0000001)"
      ],
      "execution_count": null,
      "outputs": []
    },
    {
      "cell_type": "markdown",
      "metadata": {
        "id": "sUVFWrP-5Lo4"
      },
      "source": [
        "### Implement a three layer ANN model with 128, 64 and 10 neurons in the layers using 0.01 as the learning rate.\n"
      ]
    },
    {
      "cell_type": "code",
      "metadata": {
        "colab": {
          "base_uri": "https://localhost:8080/"
        },
        "id": "i0ZoS_Ma5L-9",
        "outputId": "d7c71465-6967-4039-e74b-6417c2e1bbca"
      },
      "source": [
        "model = Sequential()\n",
        "# our first dense layer\n",
        "model.add(Dense(128, input_shape=(784,), activation=\"relu\"))\n",
        "# our second dense layer\n",
        "model.add(Dense(64, activation=\"relu\"))\n",
        "# last layer is the output layer.\n",
        "model.add(Dense(10, activation=\"softmax\"))\n",
        "\n",
        "model.compile(optimizer=sgd_001, loss='categorical_crossentropy',\n",
        "              metrics=['accuracy'])\n",
        "\n",
        "# setting verbose=1 prints out some results after each epoch\n",
        "model.fit(X_train, Y_train, batch_size=128, epochs=20, verbose=1)"
      ],
      "execution_count": null,
      "outputs": [
        {
          "output_type": "stream",
          "name": "stdout",
          "text": [
            "Epoch 1/20\n",
            "469/469 [==============================] - 3s 6ms/step - loss: 1.2282 - accuracy: 0.6840\n",
            "Epoch 2/20\n",
            "469/469 [==============================] - 3s 6ms/step - loss: 0.4964 - accuracy: 0.8703\n",
            "Epoch 3/20\n",
            "469/469 [==============================] - 3s 6ms/step - loss: 0.3847 - accuracy: 0.8942\n",
            "Epoch 4/20\n",
            "469/469 [==============================] - 2s 5ms/step - loss: 0.3392 - accuracy: 0.9040\n",
            "Epoch 5/20\n",
            "469/469 [==============================] - 3s 5ms/step - loss: 0.3114 - accuracy: 0.9106\n",
            "Epoch 6/20\n",
            "469/469 [==============================] - 2s 5ms/step - loss: 0.2911 - accuracy: 0.9164\n",
            "Epoch 7/20\n",
            "469/469 [==============================] - 2s 5ms/step - loss: 0.2745 - accuracy: 0.9208\n",
            "Epoch 8/20\n",
            "469/469 [==============================] - 2s 5ms/step - loss: 0.2608 - accuracy: 0.9249\n",
            "Epoch 9/20\n",
            "469/469 [==============================] - 2s 5ms/step - loss: 0.2487 - accuracy: 0.9282\n",
            "Epoch 10/20\n",
            "469/469 [==============================] - 2s 5ms/step - loss: 0.2380 - accuracy: 0.9318\n",
            "Epoch 11/20\n",
            "469/469 [==============================] - 2s 5ms/step - loss: 0.2283 - accuracy: 0.9344\n",
            "Epoch 12/20\n",
            "469/469 [==============================] - 2s 5ms/step - loss: 0.2197 - accuracy: 0.9366\n",
            "Epoch 13/20\n",
            "469/469 [==============================] - 2s 5ms/step - loss: 0.2116 - accuracy: 0.9392\n",
            "Epoch 14/20\n",
            "469/469 [==============================] - 2s 5ms/step - loss: 0.2041 - accuracy: 0.9419\n",
            "Epoch 15/20\n",
            "469/469 [==============================] - 3s 6ms/step - loss: 0.1973 - accuracy: 0.9437\n",
            "Epoch 16/20\n",
            "469/469 [==============================] - 3s 5ms/step - loss: 0.1909 - accuracy: 0.9452\n",
            "Epoch 17/20\n",
            "469/469 [==============================] - 3s 6ms/step - loss: 0.1849 - accuracy: 0.9472\n",
            "Epoch 18/20\n",
            "469/469 [==============================] - 3s 6ms/step - loss: 0.1794 - accuracy: 0.9488\n",
            "Epoch 19/20\n",
            "469/469 [==============================] - 2s 5ms/step - loss: 0.1741 - accuracy: 0.9505\n",
            "Epoch 20/20\n",
            "469/469 [==============================] - 3s 6ms/step - loss: 0.1692 - accuracy: 0.9524\n"
          ]
        },
        {
          "output_type": "execute_result",
          "data": {
            "text/plain": [
              "<keras.callbacks.History at 0x7f4500e5d950>"
            ]
          },
          "metadata": {},
          "execution_count": 11
        }
      ]
    },
    {
      "cell_type": "code",
      "metadata": {
        "colab": {
          "base_uri": "https://localhost:8080/"
        },
        "id": "irWxvlGH5Rsm",
        "outputId": "8f526712-b893-4445-b6ad-43979a59cc87"
      },
      "source": [
        "score = model.evaluate(X_test, Y_test, verbose=0)\n",
        "print('Test score:', score[0])\n",
        "print('Test accuracy:', score[1])"
      ],
      "execution_count": null,
      "outputs": [
        {
          "output_type": "stream",
          "name": "stdout",
          "text": [
            "Test score: 0.17185305058956146\n",
            "Test accuracy: 0.9492999911308289\n"
          ]
        }
      ]
    },
    {
      "cell_type": "markdown",
      "metadata": {
        "id": "HyDHfHGA5RAx"
      },
      "source": [
        "### Implement a three layer ANN model with 128, 64 and 10 neurons in the layers using 100 as the learning rate.\n"
      ]
    },
    {
      "cell_type": "code",
      "metadata": {
        "colab": {
          "base_uri": "https://localhost:8080/"
        },
        "id": "xT6y3b_M5WJw",
        "outputId": "37ce092e-95b7-4849-98ee-6fe9e2c4ecec"
      },
      "source": [
        "model = Sequential()\n",
        "# our first dense layer\n",
        "model.add(Dense(128, input_shape=(784,), activation=\"relu\"))\n",
        "# our second dense layer\n",
        "model.add(Dense(64, activation=\"relu\"))\n",
        "# last layer is the output layer.\n",
        "model.add(Dense(10, activation=\"softmax\"))\n",
        "\n",
        "model.compile(optimizer=sgd_100, loss='categorical_crossentropy',\n",
        "              metrics=['accuracy'])\n",
        "\n",
        "# setting verbose=1 prints out some results after each epoch\n",
        "model.fit(X_train, Y_train, batch_size=128, epochs=20, verbose=1)"
      ],
      "execution_count": null,
      "outputs": [
        {
          "output_type": "stream",
          "name": "stdout",
          "text": [
            "Epoch 1/20\n",
            "469/469 [==============================] - 3s 5ms/step - loss: 360710921526519529472.0000 - accuracy: 0.0999\n",
            "Epoch 2/20\n",
            "469/469 [==============================] - 2s 5ms/step - loss: 40.5017 - accuracy: 0.1010\n",
            "Epoch 3/20\n",
            "469/469 [==============================] - 2s 5ms/step - loss: 40.7527 - accuracy: 0.1022\n",
            "Epoch 4/20\n",
            "469/469 [==============================] - 2s 5ms/step - loss: 40.5534 - accuracy: 0.1001\n",
            "Epoch 5/20\n",
            "469/469 [==============================] - 2s 5ms/step - loss: 40.2201 - accuracy: 0.1006\n",
            "Epoch 6/20\n",
            "469/469 [==============================] - 2s 5ms/step - loss: 40.0495 - accuracy: 0.1011\n",
            "Epoch 7/20\n",
            "469/469 [==============================] - 2s 5ms/step - loss: 40.3304 - accuracy: 0.1016\n",
            "Epoch 8/20\n",
            "469/469 [==============================] - 2s 5ms/step - loss: 40.4686 - accuracy: 0.0989\n",
            "Epoch 9/20\n",
            "469/469 [==============================] - 2s 5ms/step - loss: 40.2078 - accuracy: 0.0989\n",
            "Epoch 10/20\n",
            "469/469 [==============================] - 2s 5ms/step - loss: 40.2148 - accuracy: 0.1002\n",
            "Epoch 11/20\n",
            "469/469 [==============================] - 2s 5ms/step - loss: 40.0375 - accuracy: 0.1018\n",
            "Epoch 12/20\n",
            "469/469 [==============================] - 2s 5ms/step - loss: 40.7204 - accuracy: 0.1001\n",
            "Epoch 13/20\n",
            "469/469 [==============================] - 2s 5ms/step - loss: 39.7044 - accuracy: 0.1006\n",
            "Epoch 14/20\n",
            "469/469 [==============================] - 2s 5ms/step - loss: 39.9951 - accuracy: 0.1016\n",
            "Epoch 15/20\n",
            "469/469 [==============================] - 2s 5ms/step - loss: 40.3943 - accuracy: 0.1018\n",
            "Epoch 16/20\n",
            "469/469 [==============================] - 2s 5ms/step - loss: 40.3827 - accuracy: 0.0995\n",
            "Epoch 17/20\n",
            "469/469 [==============================] - 2s 5ms/step - loss: 40.3047 - accuracy: 0.1005\n",
            "Epoch 18/20\n",
            "469/469 [==============================] - 2s 5ms/step - loss: 40.1312 - accuracy: 0.1016\n",
            "Epoch 19/20\n",
            "469/469 [==============================] - 3s 5ms/step - loss: 40.2052 - accuracy: 0.0999\n",
            "Epoch 20/20\n",
            "469/469 [==============================] - 2s 5ms/step - loss: 39.5595 - accuracy: 0.1009\n"
          ]
        },
        {
          "output_type": "execute_result",
          "data": {
            "text/plain": [
              "<keras.callbacks.History at 0x7f4500d1f150>"
            ]
          },
          "metadata": {},
          "execution_count": 13
        }
      ]
    },
    {
      "cell_type": "code",
      "metadata": {
        "colab": {
          "base_uri": "https://localhost:8080/"
        },
        "id": "L97_rXkJ5ZHC",
        "outputId": "8f8707d4-2722-4d87-c3a0-ad7deeba4bdb"
      },
      "source": [
        "score = model.evaluate(X_test, Y_test, verbose=0)\n",
        "print('Test score:', score[0])\n",
        "print('Test accuracy:', score[1])"
      ],
      "execution_count": null,
      "outputs": [
        {
          "output_type": "stream",
          "name": "stdout",
          "text": [
            "Test score: 30.737991333007812\n",
            "Test accuracy: 0.0982000008225441\n"
          ]
        }
      ]
    },
    {
      "cell_type": "markdown",
      "metadata": {
        "id": "SAq8iOIs5Zq5"
      },
      "source": [
        "### Implement a three layer ANN model with 128, 64 and 10 neurons in the layers using 0.0000001 as the learning rate.\n"
      ]
    },
    {
      "cell_type": "code",
      "metadata": {
        "colab": {
          "base_uri": "https://localhost:8080/"
        },
        "id": "Zhyl5g0M5bJJ",
        "outputId": "e4c92704-3f87-426b-91ae-3fa558427175"
      },
      "source": [
        "model = Sequential()\n",
        "# our first dense layer\n",
        "model.add(Dense(128, input_shape=(784,), activation=\"relu\"))\n",
        "# our second dense layer\n",
        "model.add(Dense(64, activation=\"relu\"))\n",
        "# last layer is the output layer.\n",
        "model.add(Dense(10, activation=\"softmax\"))\n",
        "\n",
        "model.compile(optimizer=sgd_00000001, loss='categorical_crossentropy',\n",
        "              metrics=['accuracy'])\n",
        "\n",
        "# setting verbose=1 prints out some results after each epoch\n",
        "model.fit(X_train, Y_train, batch_size=128, epochs=20, verbose=1)"
      ],
      "execution_count": null,
      "outputs": [
        {
          "output_type": "stream",
          "name": "stdout",
          "text": [
            "Epoch 1/20\n",
            "469/469 [==============================] - 3s 5ms/step - loss: 2.3819 - accuracy: 0.0870\n",
            "Epoch 2/20\n",
            "469/469 [==============================] - 3s 6ms/step - loss: 2.3819 - accuracy: 0.0870\n",
            "Epoch 3/20\n",
            "469/469 [==============================] - 3s 5ms/step - loss: 2.3819 - accuracy: 0.0870\n",
            "Epoch 4/20\n",
            "469/469 [==============================] - 2s 5ms/step - loss: 2.3818 - accuracy: 0.0870\n",
            "Epoch 5/20\n",
            "469/469 [==============================] - 2s 5ms/step - loss: 2.3818 - accuracy: 0.0870\n",
            "Epoch 6/20\n",
            "469/469 [==============================] - 2s 5ms/step - loss: 2.3818 - accuracy: 0.0870\n",
            "Epoch 7/20\n",
            "469/469 [==============================] - 2s 5ms/step - loss: 2.3818 - accuracy: 0.0870\n",
            "Epoch 8/20\n",
            "469/469 [==============================] - 2s 5ms/step - loss: 2.3818 - accuracy: 0.0870\n",
            "Epoch 9/20\n",
            "469/469 [==============================] - 2s 5ms/step - loss: 2.3818 - accuracy: 0.0870\n",
            "Epoch 10/20\n",
            "469/469 [==============================] - 2s 5ms/step - loss: 2.3818 - accuracy: 0.0870\n",
            "Epoch 11/20\n",
            "469/469 [==============================] - 3s 5ms/step - loss: 2.3817 - accuracy: 0.0870\n",
            "Epoch 12/20\n",
            "469/469 [==============================] - 3s 6ms/step - loss: 2.3817 - accuracy: 0.0870\n",
            "Epoch 13/20\n",
            "469/469 [==============================] - 3s 6ms/step - loss: 2.3817 - accuracy: 0.0870\n",
            "Epoch 14/20\n",
            "469/469 [==============================] - 3s 5ms/step - loss: 2.3817 - accuracy: 0.0870\n",
            "Epoch 15/20\n",
            "469/469 [==============================] - 2s 5ms/step - loss: 2.3817 - accuracy: 0.0870\n",
            "Epoch 16/20\n",
            "469/469 [==============================] - 2s 5ms/step - loss: 2.3817 - accuracy: 0.0870\n",
            "Epoch 17/20\n",
            "469/469 [==============================] - 2s 5ms/step - loss: 2.3816 - accuracy: 0.0870\n",
            "Epoch 18/20\n",
            "469/469 [==============================] - 2s 5ms/step - loss: 2.3816 - accuracy: 0.0870\n",
            "Epoch 19/20\n",
            "469/469 [==============================] - 2s 5ms/step - loss: 2.3816 - accuracy: 0.0870\n",
            "Epoch 20/20\n",
            "469/469 [==============================] - 2s 4ms/step - loss: 2.3816 - accuracy: 0.0870\n"
          ]
        },
        {
          "output_type": "execute_result",
          "data": {
            "text/plain": [
              "<keras.callbacks.History at 0x7f4500be67d0>"
            ]
          },
          "metadata": {},
          "execution_count": 15
        }
      ]
    },
    {
      "cell_type": "code",
      "metadata": {
        "id": "yACE_ehA5jxY",
        "colab": {
          "base_uri": "https://localhost:8080/"
        },
        "outputId": "a9b5c697-016b-4b72-c4a7-30efca16a79e"
      },
      "source": [
        "score = model.evaluate(X_test, Y_test, verbose=0)\n",
        "print('Test score:', score[0])\n",
        "print('Test accuracy:', score[1])"
      ],
      "execution_count": null,
      "outputs": [
        {
          "output_type": "stream",
          "name": "stdout",
          "text": [
            "Test score: 2.386749505996704\n",
            "Test accuracy: 0.08709999918937683\n"
          ]
        }
      ]
    },
    {
      "cell_type": "markdown",
      "metadata": {
        "id": "V0zlc9is5lfJ"
      },
      "source": [
        "### Compare the result of each model with each other. Which learning rate did perform better?"
      ]
    },
    {
      "cell_type": "markdown",
      "metadata": {
        "id": "Lu4h3QDX5oLB"
      },
      "source": [
        "The model converged when using 0.01 as the learning rate. However, it diverged when using 100, because that value deemed to be too large. Using 0.0000001 as the learning rate causes the model to improve very slowly. Hence the accuracy improved very little. So, it deemed to be too low."
      ]
    }
  ]
}