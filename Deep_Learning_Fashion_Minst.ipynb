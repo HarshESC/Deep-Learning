{
  "nbformat": 4,
  "nbformat_minor": 0,
  "metadata": {
    "colab": {
      "name": "Deep Learning Fashion Minst.ipynb",
      "provenance": [],
      "collapsed_sections": [],
      "authorship_tag": "ABX9TyOKINrhJz/sAD0QRtW81Plf",
      "include_colab_link": true
    },
    "kernelspec": {
      "name": "python3",
      "display_name": "Python 3"
    },
    "language_info": {
      "name": "python"
    },
    "accelerator": "GPU"
  },
  "cells": [
    {
      "cell_type": "markdown",
      "metadata": {
        "id": "view-in-github",
        "colab_type": "text"
      },
      "source": [
        "<a href=\"https://colab.research.google.com/github/HarshESC/Deep-Learning/blob/main/Deep_Learning_Fashion_Minst.ipynb\" target=\"_parent\"><img src=\"https://colab.research.google.com/assets/colab-badge.svg\" alt=\"Open In Colab\"/></a>"
      ]
    },
    {
      "cell_type": "code",
      "metadata": {
        "id": "XLe0rA7N5lFu"
      },
      "source": [
        "\n",
        "import warnings\n",
        "\n",
        "warnings.filterwarnings(\"ignore\")\n",
        "\n",
        "from tensorflow.keras.datasets import mnist\n",
        "from tensorflow.keras.utils import to_categorical\n",
        "from tensorflow.keras.models import Sequential\n",
        "from tensorflow.keras.layers import Dense\n",
        "from tensorflow.keras.optimizers import SGD\n",
        "\n"
      ],
      "execution_count": 1,
      "outputs": []
    },
    {
      "cell_type": "code",
      "metadata": {
        "id": "vvRlu_uJ5lxu",
        "colab": {
          "base_uri": "https://localhost:8080/"
        },
        "outputId": "fc8e8682-f14d-455e-ce5f-8d51f210c9b3"
      },
      "source": [
        "(X_train, y_train), (X_test, y_test) = mnist.load_data()\n",
        "input_dim = 784  # 28*28\n",
        "output_dim = nb_classes = 10\n",
        "batch_size = 128\n",
        "nb_epoch = 20\n",
        "\n",
        "X_train = X_train.reshape(60000, input_dim)\n",
        "X_test = X_test.reshape(10000, input_dim)\n",
        "X_train = X_train.astype(\"float32\")\n",
        "X_test = X_test.astype(\"float32\")\n",
        "X_train /= 255\n",
        "X_test /= 255\n",
        "\n",
        "y_train = to_categorical(y_train, nb_classes)\n",
        "y_test = to_categorical(y_test, nb_classes)\n"
      ],
      "execution_count": 2,
      "outputs": [
        {
          "output_type": "stream",
          "name": "stdout",
          "text": [
            "Downloading data from https://storage.googleapis.com/tensorflow/tf-keras-datasets/mnist.npz\n",
            "11493376/11490434 [==============================] - 0s 0us/step\n",
            "11501568/11490434 [==============================] - 0s 0us/step\n"
          ]
        }
      ]
    },
    {
      "cell_type": "code",
      "metadata": {
        "id": "-9XkYnkc8uhc"
      },
      "source": [
        "# 3 Layers\n",
        "model = Sequential()\n",
        "model.add(Dense(128, input_dim=X_train.shape[1], activation=\"relu\"))\n",
        "model.add(Dense(64, activation=\"relu\"))\n",
        "model.add(Dense(10, activation=\"softmax\"))\n"
      ],
      "execution_count": 3,
      "outputs": []
    },
    {
      "cell_type": "code",
      "metadata": {
        "id": "_IvlaDKb8vkV"
      },
      "source": [
        "model.compile(optimizer=\"sgd\", loss=\"categorical_crossentropy\", metrics=[\"accuracy\"])\n"
      ],
      "execution_count": 4,
      "outputs": []
    },
    {
      "cell_type": "code",
      "metadata": {
        "colab": {
          "base_uri": "https://localhost:8080/"
        },
        "id": "7PkZ-2J_8zOM",
        "outputId": "71dbdd23-6a7e-4069-bc8a-4577bd51aeb0"
      },
      "source": [
        "model.fit(X_train, y_train, batch_size=128, epochs=20, verbose=1)\n"
      ],
      "execution_count": 5,
      "outputs": [
        {
          "output_type": "stream",
          "name": "stdout",
          "text": [
            "Epoch 1/20\n",
            "469/469 [==============================] - 4s 4ms/step - loss: 1.3185 - accuracy: 0.6564\n",
            "Epoch 2/20\n",
            "469/469 [==============================] - 2s 4ms/step - loss: 0.5093 - accuracy: 0.8690\n",
            "Epoch 3/20\n",
            "469/469 [==============================] - 2s 4ms/step - loss: 0.3894 - accuracy: 0.8933\n",
            "Epoch 4/20\n",
            "469/469 [==============================] - 2s 4ms/step - loss: 0.3421 - accuracy: 0.9035\n",
            "Epoch 5/20\n",
            "469/469 [==============================] - 2s 4ms/step - loss: 0.3144 - accuracy: 0.9109\n",
            "Epoch 6/20\n",
            "469/469 [==============================] - 2s 4ms/step - loss: 0.2945 - accuracy: 0.9166\n",
            "Epoch 7/20\n",
            "469/469 [==============================] - 2s 4ms/step - loss: 0.2787 - accuracy: 0.9209\n",
            "Epoch 8/20\n",
            "469/469 [==============================] - 2s 4ms/step - loss: 0.2654 - accuracy: 0.9244\n",
            "Epoch 9/20\n",
            "469/469 [==============================] - 2s 4ms/step - loss: 0.2541 - accuracy: 0.9280\n",
            "Epoch 10/20\n",
            "469/469 [==============================] - 2s 4ms/step - loss: 0.2439 - accuracy: 0.9309\n",
            "Epoch 11/20\n",
            "469/469 [==============================] - 2s 4ms/step - loss: 0.2347 - accuracy: 0.9338\n",
            "Epoch 12/20\n",
            "469/469 [==============================] - 2s 4ms/step - loss: 0.2261 - accuracy: 0.9361\n",
            "Epoch 13/20\n",
            "469/469 [==============================] - 2s 4ms/step - loss: 0.2182 - accuracy: 0.9389\n",
            "Epoch 14/20\n",
            "469/469 [==============================] - 2s 4ms/step - loss: 0.2108 - accuracy: 0.9410\n",
            "Epoch 15/20\n",
            "469/469 [==============================] - 2s 4ms/step - loss: 0.2040 - accuracy: 0.9427\n",
            "Epoch 16/20\n",
            "469/469 [==============================] - 2s 4ms/step - loss: 0.1977 - accuracy: 0.9444\n",
            "Epoch 17/20\n",
            "469/469 [==============================] - 2s 4ms/step - loss: 0.1916 - accuracy: 0.9458\n",
            "Epoch 18/20\n",
            "469/469 [==============================] - 2s 4ms/step - loss: 0.1860 - accuracy: 0.9474\n",
            "Epoch 19/20\n",
            "469/469 [==============================] - 2s 4ms/step - loss: 0.1809 - accuracy: 0.9483\n",
            "Epoch 20/20\n",
            "469/469 [==============================] - 2s 4ms/step - loss: 0.1758 - accuracy: 0.9502\n"
          ]
        },
        {
          "output_type": "execute_result",
          "data": {
            "text/plain": [
              "<keras.callbacks.History at 0x7fcb40207ad0>"
            ]
          },
          "metadata": {},
          "execution_count": 5
        }
      ]
    },
    {
      "cell_type": "code",
      "metadata": {
        "colab": {
          "base_uri": "https://localhost:8080/"
        },
        "id": "2yUQBELk839Z",
        "outputId": "ee6e6ac3-55c8-4831-a8c8-0e99a1ed6ce3"
      },
      "source": [
        "score = model.evaluate(X_test, y_test, verbose=0)\n",
        "print(\"Test score:\", score[0])\n",
        "print(\"Test accuracy:\", score[1])\n"
      ],
      "execution_count": 6,
      "outputs": [
        {
          "output_type": "stream",
          "name": "stdout",
          "text": [
            "Test score: 0.1763189136981964\n",
            "Test accuracy: 0.9506999850273132\n"
          ]
        }
      ]
    },
    {
      "cell_type": "code",
      "metadata": {
        "colab": {
          "base_uri": "https://localhost:8080/"
        },
        "id": "yXTNnzMg86KT",
        "outputId": "899c8f84-5e21-4e09-fa90-7e32e32e7996"
      },
      "source": [
        "# 5 Layers\n",
        "model = Sequential()\n",
        "model.add(Dense(128, input_dim=X_train.shape[1], activation=\"relu\"))\n",
        "model.add(Dense(64, activation=\"relu\"))\n",
        "model.add(Dense(32, activation=\"relu\"))\n",
        "model.add(Dense(16, activation=\"relu\"))\n",
        "model.add(Dense(10, activation=\"softmax\"))\n",
        "\n",
        "model.compile(optimizer=\"sgd\", loss=\"categorical_crossentropy\", metrics=[\"accuracy\"])\n",
        "\n",
        "model.fit(X_train, y_train, batch_size=128, epochs=20, verbose=1)\n"
      ],
      "execution_count": 7,
      "outputs": [
        {
          "output_type": "stream",
          "name": "stdout",
          "text": [
            "Epoch 1/20\n",
            "469/469 [==============================] - 2s 4ms/step - loss: 1.9751 - accuracy: 0.3263\n",
            "Epoch 2/20\n",
            "469/469 [==============================] - 2s 4ms/step - loss: 0.9627 - accuracy: 0.7364\n",
            "Epoch 3/20\n",
            "469/469 [==============================] - 2s 4ms/step - loss: 0.4909 - accuracy: 0.8581\n",
            "Epoch 4/20\n",
            "469/469 [==============================] - 2s 4ms/step - loss: 0.3856 - accuracy: 0.8878\n",
            "Epoch 5/20\n",
            "469/469 [==============================] - 2s 4ms/step - loss: 0.3326 - accuracy: 0.9030\n",
            "Epoch 6/20\n",
            "469/469 [==============================] - 2s 4ms/step - loss: 0.2978 - accuracy: 0.9123\n",
            "Epoch 7/20\n",
            "469/469 [==============================] - 2s 4ms/step - loss: 0.2722 - accuracy: 0.9204\n",
            "Epoch 8/20\n",
            "469/469 [==============================] - 2s 4ms/step - loss: 0.2506 - accuracy: 0.9269\n",
            "Epoch 9/20\n",
            "469/469 [==============================] - 2s 4ms/step - loss: 0.2329 - accuracy: 0.9327\n",
            "Epoch 10/20\n",
            "469/469 [==============================] - 2s 4ms/step - loss: 0.2175 - accuracy: 0.9371\n",
            "Epoch 11/20\n",
            "469/469 [==============================] - 2s 4ms/step - loss: 0.2036 - accuracy: 0.9410\n",
            "Epoch 12/20\n",
            "469/469 [==============================] - 2s 4ms/step - loss: 0.1919 - accuracy: 0.9445\n",
            "Epoch 13/20\n",
            "469/469 [==============================] - 2s 4ms/step - loss: 0.1811 - accuracy: 0.9478\n",
            "Epoch 14/20\n",
            "469/469 [==============================] - 2s 4ms/step - loss: 0.1709 - accuracy: 0.9495\n",
            "Epoch 15/20\n",
            "469/469 [==============================] - 2s 4ms/step - loss: 0.1623 - accuracy: 0.9524\n",
            "Epoch 16/20\n",
            "469/469 [==============================] - 2s 4ms/step - loss: 0.1537 - accuracy: 0.9543\n",
            "Epoch 17/20\n",
            "469/469 [==============================] - 2s 4ms/step - loss: 0.1462 - accuracy: 0.9570\n",
            "Epoch 18/20\n",
            "469/469 [==============================] - 2s 4ms/step - loss: 0.1392 - accuracy: 0.9586\n",
            "Epoch 19/20\n",
            "469/469 [==============================] - 2s 4ms/step - loss: 0.1336 - accuracy: 0.9607\n",
            "Epoch 20/20\n",
            "469/469 [==============================] - 2s 4ms/step - loss: 0.1277 - accuracy: 0.9624\n"
          ]
        },
        {
          "output_type": "execute_result",
          "data": {
            "text/plain": [
              "<keras.callbacks.History at 0x7fcad2f8ad50>"
            ]
          },
          "metadata": {},
          "execution_count": 7
        }
      ]
    },
    {
      "cell_type": "code",
      "metadata": {
        "colab": {
          "base_uri": "https://localhost:8080/"
        },
        "id": "bIJFczxU88gU",
        "outputId": "79216770-3c6d-4bd9-9c36-3910a99b2848"
      },
      "source": [
        "score = model.evaluate(X_test, y_test, verbose=0)\n",
        "print(\"Test score:\", score[0])\n",
        "print(\"Test accuracy:\", score[1])\n"
      ],
      "execution_count": 8,
      "outputs": [
        {
          "output_type": "stream",
          "name": "stdout",
          "text": [
            "Test score: 0.1418158859014511\n",
            "Test accuracy: 0.9585999846458435\n"
          ]
        }
      ]
    },
    {
      "cell_type": "code",
      "metadata": {
        "colab": {
          "base_uri": "https://localhost:8080/"
        },
        "id": "SxEXSqRz8-Rd",
        "outputId": "3d91a145-bc5b-4d13-ce8c-d59efd12b388"
      },
      "source": [
        "# 7 Layers\n",
        "model = Sequential()\n",
        "model.add(Dense(512, input_dim=X_train.shape[1], activation=\"relu\"))\n",
        "model.add(Dense(256, activation=\"relu\"))\n",
        "model.add(Dense(128, activation=\"relu\"))\n",
        "model.add(Dense(64, activation=\"relu\"))\n",
        "model.add(Dense(32, activation=\"relu\"))\n",
        "model.add(Dense(16, activation=\"relu\"))\n",
        "model.add(Dense(10, activation=\"softmax\"))\n",
        "\n",
        "model.compile(optimizer=\"sgd\", loss=\"categorical_crossentropy\", metrics=[\"accuracy\"])\n",
        "\n",
        "model.fit(X_train, y_train, batch_size=128, epochs=20, verbose=1)\n"
      ],
      "execution_count": 9,
      "outputs": [
        {
          "output_type": "stream",
          "name": "stdout",
          "text": [
            "Epoch 1/20\n",
            "469/469 [==============================] - 3s 5ms/step - loss: 2.1151 - accuracy: 0.2144\n",
            "Epoch 2/20\n",
            "469/469 [==============================] - 2s 5ms/step - loss: 0.9204 - accuracy: 0.7230\n",
            "Epoch 3/20\n",
            "469/469 [==============================] - 2s 5ms/step - loss: 0.4385 - accuracy: 0.8749\n",
            "Epoch 4/20\n",
            "469/469 [==============================] - 2s 5ms/step - loss: 0.3185 - accuracy: 0.9081\n",
            "Epoch 5/20\n",
            "469/469 [==============================] - 2s 5ms/step - loss: 0.2552 - accuracy: 0.9280\n",
            "Epoch 6/20\n",
            "469/469 [==============================] - 2s 5ms/step - loss: 0.2142 - accuracy: 0.9387\n",
            "Epoch 7/20\n",
            "469/469 [==============================] - 2s 5ms/step - loss: 0.1831 - accuracy: 0.9472\n",
            "Epoch 8/20\n",
            "469/469 [==============================] - 2s 5ms/step - loss: 0.1607 - accuracy: 0.9537\n",
            "Epoch 9/20\n",
            "469/469 [==============================] - 2s 5ms/step - loss: 0.1431 - accuracy: 0.9589\n",
            "Epoch 10/20\n",
            "469/469 [==============================] - 2s 5ms/step - loss: 0.1288 - accuracy: 0.9632\n",
            "Epoch 11/20\n",
            "469/469 [==============================] - 2s 5ms/step - loss: 0.1177 - accuracy: 0.9667\n",
            "Epoch 12/20\n",
            "469/469 [==============================] - 2s 5ms/step - loss: 0.1061 - accuracy: 0.9699\n",
            "Epoch 13/20\n",
            "469/469 [==============================] - 2s 5ms/step - loss: 0.0970 - accuracy: 0.9717\n",
            "Epoch 14/20\n",
            "469/469 [==============================] - 2s 5ms/step - loss: 0.0899 - accuracy: 0.9737\n",
            "Epoch 15/20\n",
            "469/469 [==============================] - 2s 5ms/step - loss: 0.0819 - accuracy: 0.9767\n",
            "Epoch 16/20\n",
            "469/469 [==============================] - 2s 5ms/step - loss: 0.0763 - accuracy: 0.9779\n",
            "Epoch 17/20\n",
            "469/469 [==============================] - 2s 5ms/step - loss: 0.0695 - accuracy: 0.9800\n",
            "Epoch 18/20\n",
            "469/469 [==============================] - 2s 5ms/step - loss: 0.0640 - accuracy: 0.9812\n",
            "Epoch 19/20\n",
            "469/469 [==============================] - 2s 5ms/step - loss: 0.0620 - accuracy: 0.9819\n",
            "Epoch 20/20\n",
            "469/469 [==============================] - 2s 5ms/step - loss: 0.0540 - accuracy: 0.9846\n"
          ]
        },
        {
          "output_type": "execute_result",
          "data": {
            "text/plain": [
              "<keras.callbacks.History at 0x7fcad2e03a10>"
            ]
          },
          "metadata": {},
          "execution_count": 9
        }
      ]
    },
    {
      "cell_type": "code",
      "metadata": {
        "colab": {
          "base_uri": "https://localhost:8080/"
        },
        "id": "NgGLLLji9B5E",
        "outputId": "2d5f01da-4ca2-42c4-be9c-bd2eb5d82855"
      },
      "source": [
        "score = model.evaluate(X_test, y_test, verbose=0)\n",
        "print(\"Test score:\", score[0])\n",
        "print(\"Test accuracy:\", score[1])\n"
      ],
      "execution_count": 10,
      "outputs": [
        {
          "output_type": "stream",
          "name": "stdout",
          "text": [
            "Test score: 0.10351189970970154\n",
            "Test accuracy: 0.9703999757766724\n"
          ]
        }
      ]
    },
    {
      "cell_type": "code",
      "metadata": {
        "colab": {
          "base_uri": "https://localhost:8080/"
        },
        "id": "t-ddTGcn9D00",
        "outputId": "90d1aed2-094e-42a4-88e3-78ae0fc7aed9"
      },
      "source": [
        "# 9 Layers\n",
        "model = Sequential()\n",
        "model.add(Dense(2048, input_dim=X_train.shape[1], activation=\"relu\"))\n",
        "model.add(Dense(1024, activation=\"relu\"))\n",
        "model.add(Dense(512, activation=\"relu\"))\n",
        "model.add(Dense(256, activation=\"relu\"))\n",
        "model.add(Dense(128, activation=\"relu\"))\n",
        "model.add(Dense(64, activation=\"relu\"))\n",
        "model.add(Dense(32, activation=\"relu\"))\n",
        "model.add(Dense(16, activation=\"relu\"))\n",
        "model.add(Dense(10, activation=\"softmax\"))\n",
        "\n",
        "model.compile(optimizer=\"sgd\", loss=\"categorical_crossentropy\", metrics=[\"accuracy\"])\n",
        "\n",
        "model.fit(X_train, y_train, batch_size=128, epochs=20, verbose=1)\n"
      ],
      "execution_count": 11,
      "outputs": [
        {
          "output_type": "stream",
          "name": "stdout",
          "text": [
            "Epoch 1/20\n",
            "469/469 [==============================] - 4s 8ms/step - loss: 1.6487 - accuracy: 0.4416\n",
            "Epoch 2/20\n",
            "469/469 [==============================] - 4s 8ms/step - loss: 0.4682 - accuracy: 0.8644\n",
            "Epoch 3/20\n",
            "469/469 [==============================] - 4s 8ms/step - loss: 0.2855 - accuracy: 0.9185\n",
            "Epoch 4/20\n",
            "469/469 [==============================] - 4s 8ms/step - loss: 0.2153 - accuracy: 0.9379\n",
            "Epoch 5/20\n",
            "469/469 [==============================] - 4s 8ms/step - loss: 0.1714 - accuracy: 0.9503\n",
            "Epoch 6/20\n",
            "469/469 [==============================] - 4s 8ms/step - loss: 0.1446 - accuracy: 0.9585\n",
            "Epoch 7/20\n",
            "469/469 [==============================] - 4s 8ms/step - loss: 0.1227 - accuracy: 0.9653\n",
            "Epoch 8/20\n",
            "469/469 [==============================] - 4s 8ms/step - loss: 0.1044 - accuracy: 0.9697\n",
            "Epoch 9/20\n",
            "469/469 [==============================] - 4s 8ms/step - loss: 0.0900 - accuracy: 0.9740\n",
            "Epoch 10/20\n",
            "469/469 [==============================] - 4s 8ms/step - loss: 0.0785 - accuracy: 0.9777\n",
            "Epoch 11/20\n",
            "469/469 [==============================] - 4s 8ms/step - loss: 0.0684 - accuracy: 0.9809\n",
            "Epoch 12/20\n",
            "469/469 [==============================] - 4s 8ms/step - loss: 0.0608 - accuracy: 0.9825\n",
            "Epoch 13/20\n",
            "469/469 [==============================] - 4s 9ms/step - loss: 0.0522 - accuracy: 0.9852\n",
            "Epoch 14/20\n",
            "469/469 [==============================] - 4s 8ms/step - loss: 0.0453 - accuracy: 0.9876\n",
            "Epoch 15/20\n",
            "469/469 [==============================] - 4s 8ms/step - loss: 0.0383 - accuracy: 0.9895\n",
            "Epoch 16/20\n",
            "469/469 [==============================] - 4s 8ms/step - loss: 0.0342 - accuracy: 0.9909\n",
            "Epoch 17/20\n",
            "469/469 [==============================] - 4s 8ms/step - loss: 0.0723 - accuracy: 0.9840\n",
            "Epoch 18/20\n",
            "469/469 [==============================] - 4s 8ms/step - loss: 0.0277 - accuracy: 0.9932\n",
            "Epoch 19/20\n",
            "469/469 [==============================] - 4s 8ms/step - loss: 0.0208 - accuracy: 0.9954\n",
            "Epoch 20/20\n",
            "469/469 [==============================] - 4s 8ms/step - loss: 0.0169 - accuracy: 0.9962\n"
          ]
        },
        {
          "output_type": "execute_result",
          "data": {
            "text/plain": [
              "<keras.callbacks.History at 0x7fcad2c5a7d0>"
            ]
          },
          "metadata": {},
          "execution_count": 11
        }
      ]
    },
    {
      "cell_type": "code",
      "metadata": {
        "colab": {
          "base_uri": "https://localhost:8080/"
        },
        "id": "c5-radBF9EwV",
        "outputId": "bf3d8b55-8dcb-4e51-99f3-264c8f3dd347"
      },
      "source": [
        "score = model.evaluate(X_test, y_test, verbose=0)\n",
        "print(\"Test score:\", score[0])\n",
        "print(\"Test accuracy:\", score[1])\n"
      ],
      "execution_count": 12,
      "outputs": [
        {
          "output_type": "stream",
          "name": "stdout",
          "text": [
            "Test score: 0.0821097269654274\n",
            "Test accuracy: 0.9761999845504761\n"
          ]
        }
      ]
    },
    {
      "cell_type": "markdown",
      "metadata": {
        "id": "23A2Peub9KT1"
      },
      "source": [
        "The most accurate model came from using 9 layers. The speed of the model was much slower. The run time of a 7 layer model was noticeably faster but performed with a worse accuracy.\n",
        "\n"
      ]
    },
    {
      "cell_type": "markdown",
      "metadata": {
        "id": "oHAH81Sz9Oc8"
      },
      "source": [
        "# Tanh activation and SGD loss\n"
      ]
    },
    {
      "cell_type": "code",
      "metadata": {
        "id": "Zk-fsMJz9N28"
      },
      "source": [
        "# 3 Layers\n",
        "model = Sequential()\n",
        "model.add(Dense(128, input_dim=X_train.shape[1], activation=\"tanh\"))\n",
        "model.add(Dense(64, activation=\"tanh\"))\n",
        "model.add(Dense(10, activation=\"softmax\"))\n"
      ],
      "execution_count": 13,
      "outputs": []
    },
    {
      "cell_type": "code",
      "metadata": {
        "id": "eYKd8s-29X0s"
      },
      "source": [
        "model.compile(optimizer=\"sgd\", loss=\"categorical_crossentropy\", metrics=[\"accuracy\"])\n"
      ],
      "execution_count": 14,
      "outputs": []
    },
    {
      "cell_type": "code",
      "metadata": {
        "colab": {
          "base_uri": "https://localhost:8080/"
        },
        "id": "1-qdvUuN9ZGl",
        "outputId": "f355da2e-5978-4bc7-e2bb-99a3998f6c4c"
      },
      "source": [
        "model.fit(X_train, y_train, batch_size=128, epochs=20, verbose=1)\n"
      ],
      "execution_count": 15,
      "outputs": [
        {
          "output_type": "stream",
          "name": "stdout",
          "text": [
            "Epoch 1/20\n",
            "469/469 [==============================] - 2s 4ms/step - loss: 1.0531 - accuracy: 0.7479\n",
            "Epoch 2/20\n",
            "469/469 [==============================] - 2s 4ms/step - loss: 0.5291 - accuracy: 0.8702\n",
            "Epoch 3/20\n",
            "469/469 [==============================] - 2s 4ms/step - loss: 0.4246 - accuracy: 0.8887\n",
            "Epoch 4/20\n",
            "469/469 [==============================] - 2s 4ms/step - loss: 0.3763 - accuracy: 0.8974\n",
            "Epoch 5/20\n",
            "469/469 [==============================] - 2s 4ms/step - loss: 0.3472 - accuracy: 0.9034\n",
            "Epoch 6/20\n",
            "469/469 [==============================] - 2s 4ms/step - loss: 0.3267 - accuracy: 0.9081\n",
            "Epoch 7/20\n",
            "469/469 [==============================] - 2s 4ms/step - loss: 0.3110 - accuracy: 0.9116\n",
            "Epoch 8/20\n",
            "469/469 [==============================] - 2s 4ms/step - loss: 0.2981 - accuracy: 0.9151\n",
            "Epoch 9/20\n",
            "469/469 [==============================] - 2s 4ms/step - loss: 0.2872 - accuracy: 0.9177\n",
            "Epoch 10/20\n",
            "469/469 [==============================] - 2s 4ms/step - loss: 0.2776 - accuracy: 0.9206\n",
            "Epoch 11/20\n",
            "469/469 [==============================] - 2s 4ms/step - loss: 0.2690 - accuracy: 0.9227\n",
            "Epoch 12/20\n",
            "469/469 [==============================] - 2s 4ms/step - loss: 0.2612 - accuracy: 0.9250\n",
            "Epoch 13/20\n",
            "469/469 [==============================] - 2s 4ms/step - loss: 0.2539 - accuracy: 0.9272\n",
            "Epoch 14/20\n",
            "469/469 [==============================] - 2s 4ms/step - loss: 0.2471 - accuracy: 0.9294\n",
            "Epoch 15/20\n",
            "469/469 [==============================] - 2s 4ms/step - loss: 0.2408 - accuracy: 0.9311\n",
            "Epoch 16/20\n",
            "469/469 [==============================] - 2s 4ms/step - loss: 0.2348 - accuracy: 0.9331\n",
            "Epoch 17/20\n",
            "469/469 [==============================] - 2s 4ms/step - loss: 0.2292 - accuracy: 0.9346\n",
            "Epoch 18/20\n",
            "469/469 [==============================] - 2s 4ms/step - loss: 0.2237 - accuracy: 0.9363\n",
            "Epoch 19/20\n",
            "469/469 [==============================] - 2s 4ms/step - loss: 0.2185 - accuracy: 0.9376\n",
            "Epoch 20/20\n",
            "469/469 [==============================] - 2s 4ms/step - loss: 0.2137 - accuracy: 0.9392\n"
          ]
        },
        {
          "output_type": "execute_result",
          "data": {
            "text/plain": [
              "<keras.callbacks.History at 0x7fcad2a6e1d0>"
            ]
          },
          "metadata": {},
          "execution_count": 15
        }
      ]
    },
    {
      "cell_type": "code",
      "metadata": {
        "colab": {
          "base_uri": "https://localhost:8080/"
        },
        "id": "vnLueM3G9apG",
        "outputId": "37f4dc72-9d4c-41c1-ef76-59326b9516f0"
      },
      "source": [
        "score = model.evaluate(X_test, y_test, verbose=0)\n",
        "print(\"Test score:\", score[0])\n",
        "print(\"Test accuracy:\", score[1])\n"
      ],
      "execution_count": 16,
      "outputs": [
        {
          "output_type": "stream",
          "name": "stdout",
          "text": [
            "Test score: 0.21235273778438568\n",
            "Test accuracy: 0.9384999871253967\n"
          ]
        }
      ]
    },
    {
      "cell_type": "code",
      "metadata": {
        "colab": {
          "base_uri": "https://localhost:8080/"
        },
        "id": "xt3VeELJ9cje",
        "outputId": "5107b0f1-caf8-4487-b957-b17ac77182fb"
      },
      "source": [
        "# 5 Layers\n",
        "model = Sequential()\n",
        "model.add(Dense(128, input_dim=X_train.shape[1], activation=\"tanh\"))\n",
        "model.add(Dense(64, activation=\"tanh\"))\n",
        "model.add(Dense(32, activation=\"tanh\"))\n",
        "model.add(Dense(16, activation=\"tanh\"))\n",
        "model.add(Dense(10, activation=\"softmax\"))\n",
        "\n",
        "model.compile(optimizer=\"sgd\", loss=\"categorical_crossentropy\", metrics=[\"accuracy\"])\n",
        "\n",
        "model.fit(X_train, y_train, batch_size=128, epochs=20, verbose=1)\n"
      ],
      "execution_count": 17,
      "outputs": [
        {
          "output_type": "stream",
          "name": "stdout",
          "text": [
            "Epoch 1/20\n",
            "469/469 [==============================] - 2s 4ms/step - loss: 1.3666 - accuracy: 0.6505\n",
            "Epoch 2/20\n",
            "469/469 [==============================] - 2s 4ms/step - loss: 0.7486 - accuracy: 0.8396\n",
            "Epoch 3/20\n",
            "469/469 [==============================] - 2s 4ms/step - loss: 0.5529 - accuracy: 0.8728\n",
            "Epoch 4/20\n",
            "469/469 [==============================] - 2s 4ms/step - loss: 0.4585 - accuracy: 0.8893\n",
            "Epoch 5/20\n",
            "469/469 [==============================] - 2s 4ms/step - loss: 0.4011 - accuracy: 0.9003\n",
            "Epoch 6/20\n",
            "469/469 [==============================] - 2s 4ms/step - loss: 0.3615 - accuracy: 0.9077\n",
            "Epoch 7/20\n",
            "469/469 [==============================] - 2s 4ms/step - loss: 0.3315 - accuracy: 0.9140\n",
            "Epoch 8/20\n",
            "469/469 [==============================] - 2s 4ms/step - loss: 0.3078 - accuracy: 0.9191\n",
            "Epoch 9/20\n",
            "469/469 [==============================] - 2s 4ms/step - loss: 0.2881 - accuracy: 0.9239\n",
            "Epoch 10/20\n",
            "469/469 [==============================] - 2s 4ms/step - loss: 0.2711 - accuracy: 0.9280\n",
            "Epoch 11/20\n",
            "469/469 [==============================] - 2s 4ms/step - loss: 0.2563 - accuracy: 0.9309\n",
            "Epoch 12/20\n",
            "469/469 [==============================] - 2s 4ms/step - loss: 0.2431 - accuracy: 0.9346\n",
            "Epoch 13/20\n",
            "469/469 [==============================] - 2s 4ms/step - loss: 0.2311 - accuracy: 0.9379\n",
            "Epoch 14/20\n",
            "469/469 [==============================] - 2s 4ms/step - loss: 0.2203 - accuracy: 0.9403\n",
            "Epoch 15/20\n",
            "469/469 [==============================] - 2s 4ms/step - loss: 0.2103 - accuracy: 0.9431\n",
            "Epoch 16/20\n",
            "469/469 [==============================] - 2s 4ms/step - loss: 0.2012 - accuracy: 0.9458\n",
            "Epoch 17/20\n",
            "469/469 [==============================] - 2s 4ms/step - loss: 0.1929 - accuracy: 0.9478\n",
            "Epoch 18/20\n",
            "469/469 [==============================] - 2s 4ms/step - loss: 0.1853 - accuracy: 0.9498\n",
            "Epoch 19/20\n",
            "469/469 [==============================] - 2s 4ms/step - loss: 0.1779 - accuracy: 0.9519\n",
            "Epoch 20/20\n",
            "469/469 [==============================] - 2s 4ms/step - loss: 0.1711 - accuracy: 0.9538\n"
          ]
        },
        {
          "output_type": "execute_result",
          "data": {
            "text/plain": [
              "<keras.callbacks.History at 0x7fcad2946690>"
            ]
          },
          "metadata": {},
          "execution_count": 17
        }
      ]
    },
    {
      "cell_type": "code",
      "metadata": {
        "colab": {
          "base_uri": "https://localhost:8080/"
        },
        "id": "hQARLOYw9eQs",
        "outputId": "b85892a0-2446-4f8c-ac4b-8b7cbb1b8aba"
      },
      "source": [
        "score = model.evaluate(X_test, y_test, verbose=0)\n",
        "print(\"Test score:\", score[0])\n",
        "print(\"Test accuracy:\", score[1])\n"
      ],
      "execution_count": 18,
      "outputs": [
        {
          "output_type": "stream",
          "name": "stdout",
          "text": [
            "Test score: 0.17822496592998505\n",
            "Test accuracy: 0.9502000212669373\n"
          ]
        }
      ]
    },
    {
      "cell_type": "code",
      "metadata": {
        "colab": {
          "base_uri": "https://localhost:8080/"
        },
        "id": "AOcd488y9ekd",
        "outputId": "8f0c3ec0-1814-4c9d-d167-4717dc8a194c"
      },
      "source": [
        "# 7 Layers\n",
        "model = Sequential()\n",
        "model.add(Dense(512, input_dim=X_train.shape[1], activation=\"tanh\"))\n",
        "model.add(Dense(256, activation=\"tanh\"))\n",
        "model.add(Dense(128, activation=\"tanh\"))\n",
        "model.add(Dense(64, activation=\"tanh\"))\n",
        "model.add(Dense(32, activation=\"tanh\"))\n",
        "model.add(Dense(16, activation=\"tanh\"))\n",
        "model.add(Dense(10, activation=\"softmax\"))\n",
        "\n",
        "model.compile(optimizer=\"sgd\", loss=\"categorical_crossentropy\", metrics=[\"accuracy\"])\n",
        "\n",
        "model.fit(X_train, y_train, batch_size=128, epochs=20, verbose=1)\n"
      ],
      "execution_count": 19,
      "outputs": [
        {
          "output_type": "stream",
          "name": "stdout",
          "text": [
            "Epoch 1/20\n",
            "469/469 [==============================] - 3s 5ms/step - loss: 1.0918 - accuracy: 0.7685\n",
            "Epoch 2/20\n",
            "469/469 [==============================] - 2s 5ms/step - loss: 0.5886 - accuracy: 0.8812\n",
            "Epoch 3/20\n",
            "469/469 [==============================] - 2s 5ms/step - loss: 0.4305 - accuracy: 0.9020\n",
            "Epoch 4/20\n",
            "469/469 [==============================] - 2s 5ms/step - loss: 0.3530 - accuracy: 0.9148\n",
            "Epoch 5/20\n",
            "469/469 [==============================] - 2s 5ms/step - loss: 0.3050 - accuracy: 0.9238\n",
            "Epoch 6/20\n",
            "469/469 [==============================] - 2s 5ms/step - loss: 0.2705 - accuracy: 0.9308\n",
            "Epoch 7/20\n",
            "469/469 [==============================] - 2s 5ms/step - loss: 0.2439 - accuracy: 0.9371\n",
            "Epoch 8/20\n",
            "469/469 [==============================] - 2s 5ms/step - loss: 0.2223 - accuracy: 0.9421\n",
            "Epoch 9/20\n",
            "469/469 [==============================] - 2s 5ms/step - loss: 0.2036 - accuracy: 0.9462\n",
            "Epoch 10/20\n",
            "469/469 [==============================] - 2s 5ms/step - loss: 0.1877 - accuracy: 0.9501\n",
            "Epoch 11/20\n",
            "469/469 [==============================] - 2s 5ms/step - loss: 0.1740 - accuracy: 0.9532\n",
            "Epoch 12/20\n",
            "469/469 [==============================] - 2s 5ms/step - loss: 0.1620 - accuracy: 0.9571\n",
            "Epoch 13/20\n",
            "469/469 [==============================] - 2s 5ms/step - loss: 0.1513 - accuracy: 0.9599\n",
            "Epoch 14/20\n",
            "469/469 [==============================] - 2s 5ms/step - loss: 0.1422 - accuracy: 0.9624\n",
            "Epoch 15/20\n",
            "469/469 [==============================] - 2s 5ms/step - loss: 0.1339 - accuracy: 0.9646\n",
            "Epoch 16/20\n",
            "469/469 [==============================] - 2s 5ms/step - loss: 0.1260 - accuracy: 0.9669\n",
            "Epoch 17/20\n",
            "469/469 [==============================] - 2s 5ms/step - loss: 0.1189 - accuracy: 0.9690\n",
            "Epoch 18/20\n",
            "469/469 [==============================] - 2s 5ms/step - loss: 0.1126 - accuracy: 0.9710\n",
            "Epoch 19/20\n",
            "469/469 [==============================] - 2s 5ms/step - loss: 0.1068 - accuracy: 0.9722\n",
            "Epoch 20/20\n",
            "469/469 [==============================] - 2s 5ms/step - loss: 0.1020 - accuracy: 0.9739\n"
          ]
        },
        {
          "output_type": "execute_result",
          "data": {
            "text/plain": [
              "<keras.callbacks.History at 0x7fcb4b506990>"
            ]
          },
          "metadata": {},
          "execution_count": 19
        }
      ]
    },
    {
      "cell_type": "code",
      "metadata": {
        "colab": {
          "base_uri": "https://localhost:8080/"
        },
        "id": "W8ah0qJn9gRd",
        "outputId": "daa6e361-6349-4d28-d866-a5381756a9e1"
      },
      "source": [
        "score = model.evaluate(X_test, y_test, verbose=0)\n",
        "print(\"Test score:\", score[0])\n",
        "print(\"Test accuracy:\", score[1])\n"
      ],
      "execution_count": 20,
      "outputs": [
        {
          "output_type": "stream",
          "name": "stdout",
          "text": [
            "Test score: 0.11343056708574295\n",
            "Test accuracy: 0.9675999879837036\n"
          ]
        }
      ]
    },
    {
      "cell_type": "code",
      "metadata": {
        "colab": {
          "base_uri": "https://localhost:8080/"
        },
        "id": "QMQzEIlD9i_9",
        "outputId": "5bd7d412-fbab-4be2-c2bf-64e93170254d"
      },
      "source": [
        "# 9 Layers\n",
        "model = Sequential()\n",
        "model.add(Dense(2048, input_dim=X_train.shape[1], activation=\"tanh\"))\n",
        "model.add(Dense(1024, activation=\"tanh\"))\n",
        "model.add(Dense(512, activation=\"tanh\"))\n",
        "model.add(Dense(256, activation=\"tanh\"))\n",
        "model.add(Dense(128, activation=\"tanh\"))\n",
        "model.add(Dense(64, activation=\"tanh\"))\n",
        "model.add(Dense(32, activation=\"tanh\"))\n",
        "model.add(Dense(16, activation=\"tanh\"))\n",
        "model.add(Dense(10, activation=\"softmax\"))\n",
        "\n",
        "model.compile(optimizer=\"sgd\", loss=\"categorical_crossentropy\", metrics=[\"accuracy\"])\n",
        "\n",
        "model.fit(X_train, y_train, batch_size=128, epochs=20, verbose=1)\n"
      ],
      "execution_count": 21,
      "outputs": [
        {
          "output_type": "stream",
          "name": "stdout",
          "text": [
            "Epoch 1/20\n",
            "469/469 [==============================] - 4s 8ms/step - loss: 0.9598 - accuracy: 0.8180\n",
            "Epoch 2/20\n",
            "469/469 [==============================] - 4s 8ms/step - loss: 0.4948 - accuracy: 0.8995\n",
            "Epoch 3/20\n",
            "469/469 [==============================] - 4s 8ms/step - loss: 0.3602 - accuracy: 0.9180\n",
            "Epoch 4/20\n",
            "469/469 [==============================] - 4s 8ms/step - loss: 0.2920 - accuracy: 0.9300\n",
            "Epoch 5/20\n",
            "469/469 [==============================] - 4s 8ms/step - loss: 0.2469 - accuracy: 0.9401\n",
            "Epoch 6/20\n",
            "469/469 [==============================] - 4s 8ms/step - loss: 0.2140 - accuracy: 0.9477\n",
            "Epoch 7/20\n",
            "469/469 [==============================] - 4s 8ms/step - loss: 0.1881 - accuracy: 0.9536\n",
            "Epoch 8/20\n",
            "469/469 [==============================] - 4s 8ms/step - loss: 0.1670 - accuracy: 0.9588\n",
            "Epoch 9/20\n",
            "469/469 [==============================] - 4s 8ms/step - loss: 0.1500 - accuracy: 0.9627\n",
            "Epoch 10/20\n",
            "469/469 [==============================] - 4s 8ms/step - loss: 0.1360 - accuracy: 0.9653\n",
            "Epoch 11/20\n",
            "469/469 [==============================] - 4s 8ms/step - loss: 0.1238 - accuracy: 0.9695\n",
            "Epoch 12/20\n",
            "469/469 [==============================] - 4s 8ms/step - loss: 0.1139 - accuracy: 0.9721\n",
            "Epoch 13/20\n",
            "469/469 [==============================] - 4s 8ms/step - loss: 0.1051 - accuracy: 0.9739\n",
            "Epoch 14/20\n",
            "469/469 [==============================] - 4s 8ms/step - loss: 0.0973 - accuracy: 0.9760\n",
            "Epoch 15/20\n",
            "469/469 [==============================] - 4s 8ms/step - loss: 0.0906 - accuracy: 0.9777\n",
            "Epoch 16/20\n",
            "469/469 [==============================] - 4s 8ms/step - loss: 0.0842 - accuracy: 0.9797\n",
            "Epoch 17/20\n",
            "469/469 [==============================] - 4s 8ms/step - loss: 0.0785 - accuracy: 0.9810\n",
            "Epoch 18/20\n",
            "469/469 [==============================] - 4s 8ms/step - loss: 0.0735 - accuracy: 0.9823\n",
            "Epoch 19/20\n",
            "469/469 [==============================] - 4s 8ms/step - loss: 0.0686 - accuracy: 0.9834\n",
            "Epoch 20/20\n",
            "469/469 [==============================] - 4s 8ms/step - loss: 0.0645 - accuracy: 0.9851\n"
          ]
        },
        {
          "output_type": "execute_result",
          "data": {
            "text/plain": [
              "<keras.callbacks.History at 0x7fcac9f4cf90>"
            ]
          },
          "metadata": {},
          "execution_count": 21
        }
      ]
    },
    {
      "cell_type": "code",
      "metadata": {
        "colab": {
          "base_uri": "https://localhost:8080/"
        },
        "id": "dBfGYPSB9mo1",
        "outputId": "01ecfe80-1e53-4604-99ff-7c75246c3807"
      },
      "source": [
        "score = model.evaluate(X_test, y_test, verbose=0)\n",
        "print(\"Test score:\", score[0])\n",
        "print(\"Test accuracy:\", score[1])\n"
      ],
      "execution_count": 22,
      "outputs": [
        {
          "output_type": "stream",
          "name": "stdout",
          "text": [
            "Test score: 0.09278957545757294\n",
            "Test accuracy: 0.9739999771118164\n"
          ]
        }
      ]
    },
    {
      "cell_type": "markdown",
      "metadata": {
        "id": "e1XmBTTj-SOt"
      },
      "source": [
        "The model with 9 layers had the best test accuracy, however it was noticeably slower. Additionally, the accuracy was only better by around 0.01. Using tanh activation provided very similar results and the accuracy was just barely lower than when using ReLU.\n",
        "\n"
      ]
    },
    {
      "cell_type": "markdown",
      "metadata": {
        "id": "B5ewmij492Qu"
      },
      "source": [
        "# Sigmoid activation and SGD loss¶\n"
      ]
    },
    {
      "cell_type": "code",
      "metadata": {
        "colab": {
          "base_uri": "https://localhost:8080/"
        },
        "id": "WvWSJeiR91uG",
        "outputId": "bf04efad-ffad-4c7f-d6d6-952877aa2383"
      },
      "source": [
        "# 3 Layers\n",
        "model = Sequential()\n",
        "model.add(Dense(128, input_dim=X_train.shape[1], activation=\"sigmoid\"))\n",
        "model.add(Dense(64, activation=\"sigmoid\"))\n",
        "model.add(Dense(10, activation=\"softmax\"))\n",
        "\n",
        "model.compile(optimizer=\"sgd\", loss=\"categorical_crossentropy\", metrics=[\"accuracy\"])\n",
        "model.fit(X_train, y_train, batch_size=128, epochs=20, verbose=1)\n"
      ],
      "execution_count": 23,
      "outputs": [
        {
          "output_type": "stream",
          "name": "stdout",
          "text": [
            "Epoch 1/20\n",
            "469/469 [==============================] - 2s 4ms/step - loss: 2.2775 - accuracy: 0.1776\n",
            "Epoch 2/20\n",
            "469/469 [==============================] - 2s 4ms/step - loss: 2.2277 - accuracy: 0.3408\n",
            "Epoch 3/20\n",
            "469/469 [==============================] - 2s 4ms/step - loss: 2.1674 - accuracy: 0.4741\n",
            "Epoch 4/20\n",
            "469/469 [==============================] - 2s 4ms/step - loss: 2.0816 - accuracy: 0.5420\n",
            "Epoch 5/20\n",
            "469/469 [==============================] - 2s 4ms/step - loss: 1.9591 - accuracy: 0.5692\n",
            "Epoch 6/20\n",
            "469/469 [==============================] - 2s 4ms/step - loss: 1.7976 - accuracy: 0.6012\n",
            "Epoch 7/20\n",
            "469/469 [==============================] - 2s 4ms/step - loss: 1.6120 - accuracy: 0.6327\n",
            "Epoch 8/20\n",
            "469/469 [==============================] - 2s 4ms/step - loss: 1.4292 - accuracy: 0.6633\n",
            "Epoch 9/20\n",
            "469/469 [==============================] - 2s 4ms/step - loss: 1.2697 - accuracy: 0.6965\n",
            "Epoch 10/20\n",
            "469/469 [==============================] - 2s 4ms/step - loss: 1.1393 - accuracy: 0.7252\n",
            "Epoch 11/20\n",
            "469/469 [==============================] - 2s 4ms/step - loss: 1.0340 - accuracy: 0.7495\n",
            "Epoch 12/20\n",
            "469/469 [==============================] - 2s 4ms/step - loss: 0.9479 - accuracy: 0.7680\n",
            "Epoch 13/20\n",
            "469/469 [==============================] - 2s 4ms/step - loss: 0.8760 - accuracy: 0.7847\n",
            "Epoch 14/20\n",
            "469/469 [==============================] - 2s 4ms/step - loss: 0.8153 - accuracy: 0.7984\n",
            "Epoch 15/20\n",
            "469/469 [==============================] - 2s 4ms/step - loss: 0.7637 - accuracy: 0.8097\n",
            "Epoch 16/20\n",
            "469/469 [==============================] - 2s 4ms/step - loss: 0.7195 - accuracy: 0.8192\n",
            "Epoch 17/20\n",
            "469/469 [==============================] - 2s 4ms/step - loss: 0.6816 - accuracy: 0.8263\n",
            "Epoch 18/20\n",
            "469/469 [==============================] - 2s 4ms/step - loss: 0.6487 - accuracy: 0.8336\n",
            "Epoch 19/20\n",
            "469/469 [==============================] - 2s 4ms/step - loss: 0.6201 - accuracy: 0.8392\n",
            "Epoch 20/20\n",
            "469/469 [==============================] - 2s 4ms/step - loss: 0.5950 - accuracy: 0.8447\n"
          ]
        },
        {
          "output_type": "execute_result",
          "data": {
            "text/plain": [
              "<keras.callbacks.History at 0x7fcac9513ad0>"
            ]
          },
          "metadata": {},
          "execution_count": 23
        }
      ]
    },
    {
      "cell_type": "code",
      "metadata": {
        "colab": {
          "base_uri": "https://localhost:8080/"
        },
        "id": "Mv2Di1tc981l",
        "outputId": "35e161cb-50ef-4882-8ae7-0e6ffdfcf841"
      },
      "source": [
        "score = model.evaluate(X_test, y_test, verbose=0)\n",
        "print(\"Test score:\", score[0])\n",
        "print(\"Test accuracy:\", score[1])\n"
      ],
      "execution_count": 24,
      "outputs": [
        {
          "output_type": "stream",
          "name": "stdout",
          "text": [
            "Test score: 0.5689396262168884\n",
            "Test accuracy: 0.8528000116348267\n"
          ]
        }
      ]
    },
    {
      "cell_type": "code",
      "metadata": {
        "colab": {
          "base_uri": "https://localhost:8080/"
        },
        "id": "xRHFilFW9_tE",
        "outputId": "1f927879-b0de-4ecf-e738-fa74cb2bb353"
      },
      "source": [
        "# 5 Layers\n",
        "model = Sequential()\n",
        "model.add(Dense(128, input_dim=X_train.shape[1], activation=\"sigmoid\"))\n",
        "model.add(Dense(64, activation=\"sigmoid\"))\n",
        "model.add(Dense(32, activation=\"sigmoid\"))\n",
        "model.add(Dense(16, activation=\"sigmoid\"))\n",
        "model.add(Dense(10, activation=\"softmax\"))\n",
        "\n",
        "model.compile(optimizer=\"sgd\", loss=\"categorical_crossentropy\", metrics=[\"accuracy\"])\n",
        "\n",
        "model.fit(X_train, y_train, batch_size=128, epochs=20, verbose=1)\n"
      ],
      "execution_count": 25,
      "outputs": [
        {
          "output_type": "stream",
          "name": "stdout",
          "text": [
            "Epoch 1/20\n",
            "469/469 [==============================] - 2s 4ms/step - loss: 2.3196 - accuracy: 0.1071\n",
            "Epoch 2/20\n",
            "469/469 [==============================] - 2s 4ms/step - loss: 2.3007 - accuracy: 0.1124\n",
            "Epoch 3/20\n",
            "469/469 [==============================] - 2s 4ms/step - loss: 2.3004 - accuracy: 0.1124\n",
            "Epoch 4/20\n",
            "469/469 [==============================] - 2s 4ms/step - loss: 2.3002 - accuracy: 0.1124\n",
            "Epoch 5/20\n",
            "469/469 [==============================] - 2s 4ms/step - loss: 2.3000 - accuracy: 0.1124\n",
            "Epoch 6/20\n",
            "469/469 [==============================] - 2s 4ms/step - loss: 2.2998 - accuracy: 0.1124\n",
            "Epoch 7/20\n",
            "469/469 [==============================] - 2s 4ms/step - loss: 2.2996 - accuracy: 0.1124\n",
            "Epoch 8/20\n",
            "469/469 [==============================] - 2s 4ms/step - loss: 2.2994 - accuracy: 0.1124\n",
            "Epoch 9/20\n",
            "469/469 [==============================] - 2s 4ms/step - loss: 2.2992 - accuracy: 0.1124\n",
            "Epoch 10/20\n",
            "469/469 [==============================] - 2s 4ms/step - loss: 2.2989 - accuracy: 0.1124\n",
            "Epoch 11/20\n",
            "469/469 [==============================] - 2s 4ms/step - loss: 2.2987 - accuracy: 0.1124\n",
            "Epoch 12/20\n",
            "469/469 [==============================] - 2s 4ms/step - loss: 2.2985 - accuracy: 0.1124\n",
            "Epoch 13/20\n",
            "469/469 [==============================] - 2s 4ms/step - loss: 2.2982 - accuracy: 0.1124\n",
            "Epoch 14/20\n",
            "469/469 [==============================] - 2s 4ms/step - loss: 2.2979 - accuracy: 0.1124\n",
            "Epoch 15/20\n",
            "469/469 [==============================] - 2s 4ms/step - loss: 2.2977 - accuracy: 0.1124\n",
            "Epoch 16/20\n",
            "469/469 [==============================] - 2s 4ms/step - loss: 2.2973 - accuracy: 0.1124\n",
            "Epoch 17/20\n",
            "469/469 [==============================] - 2s 4ms/step - loss: 2.2970 - accuracy: 0.1124\n",
            "Epoch 18/20\n",
            "469/469 [==============================] - 2s 4ms/step - loss: 2.2967 - accuracy: 0.1124\n",
            "Epoch 19/20\n",
            "469/469 [==============================] - 2s 4ms/step - loss: 2.2963 - accuracy: 0.1124\n",
            "Epoch 20/20\n",
            "469/469 [==============================] - 2s 4ms/step - loss: 2.2959 - accuracy: 0.1124\n"
          ]
        },
        {
          "output_type": "execute_result",
          "data": {
            "text/plain": [
              "<keras.callbacks.History at 0x7fcac93e96d0>"
            ]
          },
          "metadata": {},
          "execution_count": 25
        }
      ]
    },
    {
      "cell_type": "code",
      "metadata": {
        "colab": {
          "base_uri": "https://localhost:8080/"
        },
        "id": "lbahrZi8-B_t",
        "outputId": "1dedf453-994d-4fe7-88d1-4b8b2b8c4262"
      },
      "source": [
        "score = model.evaluate(X_test, y_test, verbose=0)\n",
        "print(\"Test score:\", score[0])\n",
        "print(\"Test accuracy:\", score[1])\n"
      ],
      "execution_count": 26,
      "outputs": [
        {
          "output_type": "stream",
          "name": "stdout",
          "text": [
            "Test score: 2.2951602935791016\n",
            "Test accuracy: 0.11349999904632568\n"
          ]
        }
      ]
    },
    {
      "cell_type": "code",
      "metadata": {
        "colab": {
          "base_uri": "https://localhost:8080/"
        },
        "id": "ykVz95S2-DjI",
        "outputId": "b22d0c7a-03be-4876-93a9-cecb395a122d"
      },
      "source": [
        "# 7 Layers\n",
        "model = Sequential()\n",
        "model.add(Dense(512, input_dim=X_train.shape[1], activation=\"sigmoid\"))\n",
        "model.add(Dense(256, activation=\"sigmoid\"))\n",
        "model.add(Dense(128, activation=\"sigmoid\"))\n",
        "model.add(Dense(64, activation=\"sigmoid\"))\n",
        "model.add(Dense(32, activation=\"sigmoid\"))\n",
        "model.add(Dense(16, activation=\"sigmoid\"))\n",
        "model.add(Dense(10, activation=\"softmax\"))\n",
        "\n",
        "model.compile(optimizer=\"sgd\", loss=\"categorical_crossentropy\", metrics=[\"accuracy\"])\n",
        "\n",
        "model.fit(X_train, y_train, batch_size=128, epochs=20, verbose=1)\n"
      ],
      "execution_count": 27,
      "outputs": [
        {
          "output_type": "stream",
          "name": "stdout",
          "text": [
            "Epoch 1/20\n",
            "469/469 [==============================] - 3s 5ms/step - loss: 2.3298 - accuracy: 0.0962\n",
            "Epoch 2/20\n",
            "469/469 [==============================] - 2s 5ms/step - loss: 2.3015 - accuracy: 0.1124\n",
            "Epoch 3/20\n",
            "469/469 [==============================] - 2s 5ms/step - loss: 2.3013 - accuracy: 0.1124\n",
            "Epoch 4/20\n",
            "469/469 [==============================] - 2s 5ms/step - loss: 2.3013 - accuracy: 0.1124\n",
            "Epoch 5/20\n",
            "469/469 [==============================] - 2s 5ms/step - loss: 2.3013 - accuracy: 0.1124\n",
            "Epoch 6/20\n",
            "469/469 [==============================] - 2s 5ms/step - loss: 2.3013 - accuracy: 0.1124\n",
            "Epoch 7/20\n",
            "469/469 [==============================] - 2s 5ms/step - loss: 2.3013 - accuracy: 0.1124\n",
            "Epoch 8/20\n",
            "469/469 [==============================] - 2s 5ms/step - loss: 2.3013 - accuracy: 0.1124\n",
            "Epoch 9/20\n",
            "469/469 [==============================] - 2s 5ms/step - loss: 2.3013 - accuracy: 0.1124\n",
            "Epoch 10/20\n",
            "469/469 [==============================] - 2s 5ms/step - loss: 2.3013 - accuracy: 0.1124\n",
            "Epoch 11/20\n",
            "469/469 [==============================] - 2s 5ms/step - loss: 2.3013 - accuracy: 0.1124\n",
            "Epoch 12/20\n",
            "469/469 [==============================] - 2s 5ms/step - loss: 2.3013 - accuracy: 0.1124\n",
            "Epoch 13/20\n",
            "469/469 [==============================] - 2s 5ms/step - loss: 2.3013 - accuracy: 0.1124\n",
            "Epoch 14/20\n",
            "469/469 [==============================] - 2s 5ms/step - loss: 2.3013 - accuracy: 0.1124\n",
            "Epoch 15/20\n",
            "469/469 [==============================] - 2s 5ms/step - loss: 2.3013 - accuracy: 0.1124\n",
            "Epoch 16/20\n",
            "469/469 [==============================] - 2s 5ms/step - loss: 2.3013 - accuracy: 0.1124\n",
            "Epoch 17/20\n",
            "469/469 [==============================] - 2s 5ms/step - loss: 2.3013 - accuracy: 0.1124\n",
            "Epoch 18/20\n",
            "469/469 [==============================] - 2s 5ms/step - loss: 2.3013 - accuracy: 0.1124\n",
            "Epoch 19/20\n",
            "469/469 [==============================] - 2s 5ms/step - loss: 2.3013 - accuracy: 0.1124\n",
            "Epoch 20/20\n",
            "469/469 [==============================] - 2s 5ms/step - loss: 2.3013 - accuracy: 0.1124\n"
          ]
        },
        {
          "output_type": "execute_result",
          "data": {
            "text/plain": [
              "<keras.callbacks.History at 0x7fcac92670d0>"
            ]
          },
          "metadata": {},
          "execution_count": 27
        }
      ]
    },
    {
      "cell_type": "code",
      "metadata": {
        "colab": {
          "base_uri": "https://localhost:8080/"
        },
        "id": "vfNtTUry-FOt",
        "outputId": "934cf527-77da-4e0e-bd9e-c733bf36ad33"
      },
      "source": [
        "score = model.evaluate(X_test, y_test, verbose=0)\n",
        "print(\"Test score:\", score[0])\n",
        "print(\"Test accuracy:\", score[1])\n"
      ],
      "execution_count": 28,
      "outputs": [
        {
          "output_type": "stream",
          "name": "stdout",
          "text": [
            "Test score: 2.3010759353637695\n",
            "Test accuracy: 0.11349999904632568\n"
          ]
        }
      ]
    },
    {
      "cell_type": "code",
      "metadata": {
        "colab": {
          "base_uri": "https://localhost:8080/"
        },
        "id": "InVtspCJ-Gxd",
        "outputId": "c60db402-4f52-4a39-f33d-6584cd6b4fa2"
      },
      "source": [
        "# 9 Layers\n",
        "model = Sequential()\n",
        "model.add(Dense(2048, input_dim=X_train.shape[1], activation=\"sigmoid\"))\n",
        "model.add(Dense(1024, activation=\"sigmoid\"))\n",
        "model.add(Dense(512, activation=\"sigmoid\"))\n",
        "model.add(Dense(256, activation=\"sigmoid\"))\n",
        "model.add(Dense(128, activation=\"sigmoid\"))\n",
        "model.add(Dense(64, activation=\"sigmoid\"))\n",
        "model.add(Dense(32, activation=\"sigmoid\"))\n",
        "model.add(Dense(16, activation=\"sigmoid\"))\n",
        "model.add(Dense(10, activation=\"softmax\"))\n",
        "\n",
        "model.compile(optimizer=\"sgd\", loss=\"categorical_crossentropy\", metrics=[\"accuracy\"])\n",
        "\n",
        "model.fit(X_train, y_train, batch_size=128, epochs=20, verbose=1)\n"
      ],
      "execution_count": 29,
      "outputs": [
        {
          "output_type": "stream",
          "name": "stdout",
          "text": [
            "Epoch 1/20\n",
            "469/469 [==============================] - 4s 8ms/step - loss: 2.3357 - accuracy: 0.1100\n",
            "Epoch 2/20\n",
            "469/469 [==============================] - 4s 8ms/step - loss: 2.3015 - accuracy: 0.1124\n",
            "Epoch 3/20\n",
            "469/469 [==============================] - 4s 8ms/step - loss: 2.3013 - accuracy: 0.1124\n",
            "Epoch 4/20\n",
            "469/469 [==============================] - 4s 8ms/step - loss: 2.3013 - accuracy: 0.1124\n",
            "Epoch 5/20\n",
            "469/469 [==============================] - 4s 8ms/step - loss: 2.3013 - accuracy: 0.1124\n",
            "Epoch 6/20\n",
            "469/469 [==============================] - 4s 8ms/step - loss: 2.3013 - accuracy: 0.1124\n",
            "Epoch 7/20\n",
            "469/469 [==============================] - 4s 8ms/step - loss: 2.3014 - accuracy: 0.1124\n",
            "Epoch 8/20\n",
            "469/469 [==============================] - 4s 8ms/step - loss: 2.3013 - accuracy: 0.1124\n",
            "Epoch 9/20\n",
            "469/469 [==============================] - 4s 8ms/step - loss: 2.3013 - accuracy: 0.1124\n",
            "Epoch 10/20\n",
            "469/469 [==============================] - 4s 8ms/step - loss: 2.3013 - accuracy: 0.1124\n",
            "Epoch 11/20\n",
            "469/469 [==============================] - 4s 8ms/step - loss: 2.3013 - accuracy: 0.1124\n",
            "Epoch 12/20\n",
            "469/469 [==============================] - 4s 8ms/step - loss: 2.3013 - accuracy: 0.1124\n",
            "Epoch 13/20\n",
            "469/469 [==============================] - 4s 8ms/step - loss: 2.3013 - accuracy: 0.1124\n",
            "Epoch 14/20\n",
            "469/469 [==============================] - 4s 8ms/step - loss: 2.3013 - accuracy: 0.1124\n",
            "Epoch 15/20\n",
            "469/469 [==============================] - 4s 8ms/step - loss: 2.3013 - accuracy: 0.1124\n",
            "Epoch 16/20\n",
            "469/469 [==============================] - 4s 8ms/step - loss: 2.3013 - accuracy: 0.1124\n",
            "Epoch 17/20\n",
            "469/469 [==============================] - 4s 8ms/step - loss: 2.3013 - accuracy: 0.1124\n",
            "Epoch 18/20\n",
            "469/469 [==============================] - 4s 8ms/step - loss: 2.3013 - accuracy: 0.1124\n",
            "Epoch 19/20\n",
            "469/469 [==============================] - 4s 8ms/step - loss: 2.3013 - accuracy: 0.1124\n",
            "Epoch 20/20\n",
            "469/469 [==============================] - 4s 8ms/step - loss: 2.3013 - accuracy: 0.1124\n"
          ]
        },
        {
          "output_type": "execute_result",
          "data": {
            "text/plain": [
              "<keras.callbacks.History at 0x7fcac910dc50>"
            ]
          },
          "metadata": {},
          "execution_count": 29
        }
      ]
    },
    {
      "cell_type": "code",
      "metadata": {
        "colab": {
          "base_uri": "https://localhost:8080/"
        },
        "id": "QVuO3bHx-IpJ",
        "outputId": "f2da7a2f-2e7d-46f3-edb7-3c0087d54f5f"
      },
      "source": [
        "score = model.evaluate(X_test, y_test, verbose=0)\n",
        "print(\"Test score:\", score[0])\n",
        "print(\"Test accuracy:\", score[1])\n"
      ],
      "execution_count": 30,
      "outputs": [
        {
          "output_type": "stream",
          "name": "stdout",
          "text": [
            "Test score: 2.301055431365967\n",
            "Test accuracy: 0.11349999904632568\n"
          ]
        }
      ]
    },
    {
      "cell_type": "markdown",
      "metadata": {
        "id": "xX6ayGic-KJe"
      },
      "source": [
        "The test accuracy for the sigmoid tests are all pretty low. It appears using sigmoid activation is not a good idea for this model.\n",
        "\n"
      ]
    },
    {
      "cell_type": "markdown",
      "metadata": {
        "id": "mq5WpCBQ-0Gm"
      },
      "source": [
        "#ReLU activation and SGD loss Changing Batch Sizes¶\n"
      ]
    },
    {
      "cell_type": "code",
      "metadata": {
        "colab": {
          "base_uri": "https://localhost:8080/"
        },
        "id": "yHO1jc0W-1an",
        "outputId": "868350fd-56d7-4e24-e789-a5a6e11b77e4"
      },
      "source": [
        "# Using 64 as a batch size\n",
        "model = Sequential()\n",
        "model.add(Dense(512, input_dim=X_train.shape[1], activation=\"relu\"))\n",
        "model.add(Dense(256, activation=\"relu\"))\n",
        "model.add(Dense(128, activation=\"relu\"))\n",
        "model.add(Dense(64, activation=\"relu\"))\n",
        "model.add(Dense(32, activation=\"relu\"))\n",
        "model.add(Dense(16, activation=\"relu\"))\n",
        "model.add(Dense(10, activation=\"softmax\"))\n",
        "\n",
        "model.compile(optimizer=\"sgd\", loss=\"categorical_crossentropy\", metrics=[\"accuracy\"])\n",
        "\n",
        "model.fit(X_train, y_train, batch_size=64, epochs=20, verbose=1)\n"
      ],
      "execution_count": 31,
      "outputs": [
        {
          "output_type": "stream",
          "name": "stdout",
          "text": [
            "Epoch 1/20\n",
            "938/938 [==============================] - 5s 4ms/step - loss: 1.1610 - accuracy: 0.6131\n",
            "Epoch 2/20\n",
            "938/938 [==============================] - 4s 4ms/step - loss: 0.3354 - accuracy: 0.9029\n",
            "Epoch 3/20\n",
            "938/938 [==============================] - 4s 4ms/step - loss: 0.2329 - accuracy: 0.9331\n",
            "Epoch 4/20\n",
            "938/938 [==============================] - 4s 4ms/step - loss: 0.1788 - accuracy: 0.9484\n",
            "Epoch 5/20\n",
            "938/938 [==============================] - 4s 4ms/step - loss: 0.1459 - accuracy: 0.9571\n",
            "Epoch 6/20\n",
            "938/938 [==============================] - 4s 4ms/step - loss: 0.1231 - accuracy: 0.9632\n",
            "Epoch 7/20\n",
            "938/938 [==============================] - 4s 5ms/step - loss: 0.1056 - accuracy: 0.9686\n",
            "Epoch 8/20\n",
            "938/938 [==============================] - 4s 4ms/step - loss: 0.0907 - accuracy: 0.9732\n",
            "Epoch 9/20\n",
            "938/938 [==============================] - 4s 4ms/step - loss: 0.0790 - accuracy: 0.9765\n",
            "Epoch 10/20\n",
            "938/938 [==============================] - 4s 4ms/step - loss: 0.0687 - accuracy: 0.9797\n",
            "Epoch 11/20\n",
            "938/938 [==============================] - 4s 4ms/step - loss: 0.0601 - accuracy: 0.9825\n",
            "Epoch 12/20\n",
            "938/938 [==============================] - 4s 4ms/step - loss: 0.0520 - accuracy: 0.9850\n",
            "Epoch 13/20\n",
            "938/938 [==============================] - 4s 4ms/step - loss: 0.0451 - accuracy: 0.9866\n",
            "Epoch 14/20\n",
            "938/938 [==============================] - 4s 4ms/step - loss: 0.0397 - accuracy: 0.9888\n",
            "Epoch 15/20\n",
            "938/938 [==============================] - 4s 4ms/step - loss: 0.0339 - accuracy: 0.9908\n",
            "Epoch 16/20\n",
            "938/938 [==============================] - 4s 4ms/step - loss: 0.0298 - accuracy: 0.9922\n",
            "Epoch 17/20\n",
            "938/938 [==============================] - 4s 4ms/step - loss: 0.0247 - accuracy: 0.9936\n",
            "Epoch 18/20\n",
            "938/938 [==============================] - 4s 4ms/step - loss: 0.0216 - accuracy: 0.9944\n",
            "Epoch 19/20\n",
            "938/938 [==============================] - 4s 4ms/step - loss: 0.0178 - accuracy: 0.9959\n",
            "Epoch 20/20\n",
            "938/938 [==============================] - 4s 4ms/step - loss: 0.0150 - accuracy: 0.9969\n"
          ]
        },
        {
          "output_type": "execute_result",
          "data": {
            "text/plain": [
              "<keras.callbacks.History at 0x7fcac46a24d0>"
            ]
          },
          "metadata": {},
          "execution_count": 31
        }
      ]
    },
    {
      "cell_type": "code",
      "metadata": {
        "colab": {
          "base_uri": "https://localhost:8080/"
        },
        "id": "hFjxv6oQ-4e2",
        "outputId": "1ad9089d-6efc-4abc-b506-8101bd5f7edb"
      },
      "source": [
        "score = model.evaluate(X_test, y_test, verbose=0)\n",
        "print(\"Test score:\", score[0])\n",
        "print(\"Test accuracy:\", score[1])\n"
      ],
      "execution_count": 32,
      "outputs": [
        {
          "output_type": "stream",
          "name": "stdout",
          "text": [
            "Test score: 0.09467988461256027\n",
            "Test accuracy: 0.9768999814987183\n"
          ]
        }
      ]
    },
    {
      "cell_type": "code",
      "metadata": {
        "colab": {
          "base_uri": "https://localhost:8080/"
        },
        "id": "Fx1d_g1p-6aZ",
        "outputId": "ce9bc667-ef09-4b7c-9fa3-af19fee3b611"
      },
      "source": [
        "# Using 32 as a batch size\n",
        "model = Sequential()\n",
        "model.add(Dense(512, input_dim=X_train.shape[1], activation=\"relu\"))\n",
        "model.add(Dense(256, activation=\"relu\"))\n",
        "model.add(Dense(128, activation=\"relu\"))\n",
        "model.add(Dense(64, activation=\"relu\"))\n",
        "model.add(Dense(32, activation=\"relu\"))\n",
        "model.add(Dense(16, activation=\"relu\"))\n",
        "model.add(Dense(10, activation=\"softmax\"))\n",
        "\n",
        "model.compile(optimizer=\"sgd\", loss=\"categorical_crossentropy\", metrics=[\"accuracy\"])\n",
        "\n",
        "model.fit(X_train, y_train, batch_size=32, epochs=20, verbose=1)\n"
      ],
      "execution_count": 33,
      "outputs": [
        {
          "output_type": "stream",
          "name": "stdout",
          "text": [
            "Epoch 1/20\n",
            "1875/1875 [==============================] - 8s 4ms/step - loss: 0.7273 - accuracy: 0.7735\n",
            "Epoch 2/20\n",
            "1875/1875 [==============================] - 8s 4ms/step - loss: 0.2070 - accuracy: 0.9399\n",
            "Epoch 3/20\n",
            "1875/1875 [==============================] - 8s 4ms/step - loss: 0.1392 - accuracy: 0.9591\n",
            "Epoch 4/20\n",
            "1875/1875 [==============================] - 8s 4ms/step - loss: 0.1054 - accuracy: 0.9686\n",
            "Epoch 5/20\n",
            "1875/1875 [==============================] - 8s 4ms/step - loss: 0.0821 - accuracy: 0.9761\n",
            "Epoch 6/20\n",
            "1875/1875 [==============================] - 8s 4ms/step - loss: 0.0672 - accuracy: 0.9802\n",
            "Epoch 7/20\n",
            "1875/1875 [==============================] - 8s 4ms/step - loss: 0.0534 - accuracy: 0.9841\n",
            "Epoch 8/20\n",
            "1875/1875 [==============================] - 7s 4ms/step - loss: 0.0417 - accuracy: 0.9882\n",
            "Epoch 9/20\n",
            "1875/1875 [==============================] - 8s 4ms/step - loss: 0.0335 - accuracy: 0.9910\n",
            "Epoch 10/20\n",
            "1875/1875 [==============================] - 7s 4ms/step - loss: 0.0272 - accuracy: 0.9926\n",
            "Epoch 11/20\n",
            "1875/1875 [==============================] - 7s 4ms/step - loss: 0.0213 - accuracy: 0.9942\n",
            "Epoch 12/20\n",
            "1875/1875 [==============================] - 7s 4ms/step - loss: 0.0159 - accuracy: 0.9960\n",
            "Epoch 13/20\n",
            "1875/1875 [==============================] - 7s 4ms/step - loss: 0.0125 - accuracy: 0.9966\n",
            "Epoch 14/20\n",
            "1875/1875 [==============================] - 7s 4ms/step - loss: 0.0102 - accuracy: 0.9974\n",
            "Epoch 15/20\n",
            "1875/1875 [==============================] - 7s 4ms/step - loss: 0.0065 - accuracy: 0.9989\n",
            "Epoch 16/20\n",
            "1875/1875 [==============================] - 8s 4ms/step - loss: 0.0047 - accuracy: 0.9992\n",
            "Epoch 17/20\n",
            "1875/1875 [==============================] - 8s 4ms/step - loss: 0.0035 - accuracy: 0.9994\n",
            "Epoch 18/20\n",
            "1875/1875 [==============================] - 7s 4ms/step - loss: 0.0018 - accuracy: 0.9998\n",
            "Epoch 19/20\n",
            "1875/1875 [==============================] - 7s 4ms/step - loss: 0.0011 - accuracy: 1.0000\n",
            "Epoch 20/20\n",
            "1875/1875 [==============================] - 8s 4ms/step - loss: 8.9831e-04 - accuracy: 1.0000\n"
          ]
        },
        {
          "output_type": "execute_result",
          "data": {
            "text/plain": [
              "<keras.callbacks.History at 0x7fcac3d8ced0>"
            ]
          },
          "metadata": {},
          "execution_count": 33
        }
      ]
    },
    {
      "cell_type": "code",
      "metadata": {
        "colab": {
          "base_uri": "https://localhost:8080/"
        },
        "id": "ZOyBcu2--9ym",
        "outputId": "1070360b-2cae-442c-dbe6-1878feb9e0f4"
      },
      "source": [
        "score = model.evaluate(X_test, y_test, verbose=0)\n",
        "print(\"Test score:\", score[0])\n",
        "print(\"Test accuracy:\", score[1])\n"
      ],
      "execution_count": 34,
      "outputs": [
        {
          "output_type": "stream",
          "name": "stdout",
          "text": [
            "Test score: 0.10023392736911774\n",
            "Test accuracy: 0.9782999753952026\n"
          ]
        }
      ]
    },
    {
      "cell_type": "code",
      "metadata": {
        "colab": {
          "base_uri": "https://localhost:8080/"
        },
        "id": "vDQtg0wA-_y_",
        "outputId": "d2ba7b29-50d3-4467-a09a-5529ea893cc3"
      },
      "source": [
        "# Using 16 as a batch size\n",
        "model = Sequential()\n",
        "model.add(Dense(512, input_dim=X_train.shape[1], activation=\"relu\"))\n",
        "model.add(Dense(256, activation=\"relu\"))\n",
        "model.add(Dense(128, activation=\"relu\"))\n",
        "model.add(Dense(64, activation=\"relu\"))\n",
        "model.add(Dense(32, activation=\"relu\"))\n",
        "model.add(Dense(16, activation=\"relu\"))\n",
        "model.add(Dense(10, activation=\"softmax\"))\n",
        "\n",
        "model.compile(optimizer=\"sgd\", loss=\"categorical_crossentropy\", metrics=[\"accuracy\"])\n",
        "\n",
        "model.fit(X_train, y_train, batch_size=16, epochs=20, verbose=1)\n"
      ],
      "execution_count": 35,
      "outputs": [
        {
          "output_type": "stream",
          "name": "stdout",
          "text": [
            "Epoch 1/20\n",
            "3750/3750 [==============================] - 15s 4ms/step - loss: 0.4971 - accuracy: 0.8438\n",
            "Epoch 2/20\n",
            "3750/3750 [==============================] - 15s 4ms/step - loss: 0.1447 - accuracy: 0.9571\n",
            "Epoch 3/20\n",
            "3750/3750 [==============================] - 15s 4ms/step - loss: 0.0944 - accuracy: 0.9722\n",
            "Epoch 4/20\n",
            "3750/3750 [==============================] - 15s 4ms/step - loss: 0.0702 - accuracy: 0.9789\n",
            "Epoch 5/20\n",
            "3750/3750 [==============================] - 15s 4ms/step - loss: 0.0517 - accuracy: 0.9841\n",
            "Epoch 6/20\n",
            "3750/3750 [==============================] - 15s 4ms/step - loss: 0.0384 - accuracy: 0.9884\n",
            "Epoch 7/20\n",
            "3750/3750 [==============================] - 15s 4ms/step - loss: 0.0284 - accuracy: 0.9916\n",
            "Epoch 8/20\n",
            "3750/3750 [==============================] - 15s 4ms/step - loss: 0.0214 - accuracy: 0.9936\n",
            "Epoch 9/20\n",
            "3750/3750 [==============================] - 15s 4ms/step - loss: 0.0163 - accuracy: 0.9951\n",
            "Epoch 10/20\n",
            "3750/3750 [==============================] - 15s 4ms/step - loss: 0.0141 - accuracy: 0.9957\n",
            "Epoch 11/20\n",
            "3750/3750 [==============================] - 15s 4ms/step - loss: 0.0101 - accuracy: 0.9971\n",
            "Epoch 12/20\n",
            "3750/3750 [==============================] - 15s 4ms/step - loss: 0.0067 - accuracy: 0.9982\n",
            "Epoch 13/20\n",
            "3750/3750 [==============================] - 15s 4ms/step - loss: 0.0049 - accuracy: 0.9987\n",
            "Epoch 14/20\n",
            "3750/3750 [==============================] - 15s 4ms/step - loss: 0.0023 - accuracy: 0.9995\n",
            "Epoch 15/20\n",
            "3750/3750 [==============================] - 15s 4ms/step - loss: 9.7738e-04 - accuracy: 0.9999\n",
            "Epoch 16/20\n",
            "3750/3750 [==============================] - 15s 4ms/step - loss: 5.0162e-04 - accuracy: 1.0000\n",
            "Epoch 17/20\n",
            "3750/3750 [==============================] - 15s 4ms/step - loss: 3.4280e-04 - accuracy: 1.0000\n",
            "Epoch 18/20\n",
            "3750/3750 [==============================] - 15s 4ms/step - loss: 2.5487e-04 - accuracy: 1.0000\n",
            "Epoch 19/20\n",
            "3750/3750 [==============================] - 15s 4ms/step - loss: 2.1279e-04 - accuracy: 1.0000\n",
            "Epoch 20/20\n",
            "3750/3750 [==============================] - 15s 4ms/step - loss: 1.8412e-04 - accuracy: 1.0000\n"
          ]
        },
        {
          "output_type": "execute_result",
          "data": {
            "text/plain": [
              "<keras.callbacks.History at 0x7fcac3ba6250>"
            ]
          },
          "metadata": {},
          "execution_count": 35
        }
      ]
    },
    {
      "cell_type": "code",
      "metadata": {
        "colab": {
          "base_uri": "https://localhost:8080/"
        },
        "id": "MUaYxHsR_ATQ",
        "outputId": "0cb03eb9-4499-4f51-9598-f96b279ce718"
      },
      "source": [
        "score = model.evaluate(X_test, y_test, verbose=0)\n",
        "print(\"Test score:\", score[0])\n",
        "print(\"Test accuracy:\", score[1])\n"
      ],
      "execution_count": 36,
      "outputs": [
        {
          "output_type": "stream",
          "name": "stdout",
          "text": [
            "Test score: 0.09272510558366776\n",
            "Test accuracy: 0.9814000129699707\n"
          ]
        }
      ]
    },
    {
      "cell_type": "code",
      "metadata": {
        "colab": {
          "base_uri": "https://localhost:8080/"
        },
        "id": "qL_rJbzo_CxN",
        "outputId": "c356df37-2c52-4d18-a9cd-7ca48088e4d2"
      },
      "source": [
        "# Using 8 as a batch size\n",
        "model = Sequential()\n",
        "model.add(Dense(512, input_dim=X_train.shape[1], activation=\"relu\"))\n",
        "model.add(Dense(256, activation=\"relu\"))\n",
        "model.add(Dense(128, activation=\"relu\"))\n",
        "model.add(Dense(64, activation=\"relu\"))\n",
        "model.add(Dense(32, activation=\"relu\"))\n",
        "model.add(Dense(16, activation=\"relu\"))\n",
        "model.add(Dense(10, activation=\"softmax\"))\n",
        "\n",
        "model.compile(optimizer=\"sgd\", loss=\"categorical_crossentropy\", metrics=[\"accuracy\"])\n",
        "\n",
        "model.fit(X_train, y_train, batch_size=8, epochs=20, verbose=1)\n"
      ],
      "execution_count": 37,
      "outputs": [
        {
          "output_type": "stream",
          "name": "stdout",
          "text": [
            "Epoch 1/20\n",
            "7500/7500 [==============================] - 30s 4ms/step - loss: 0.3846 - accuracy: 0.8823\n",
            "Epoch 2/20\n",
            "7500/7500 [==============================] - 29s 4ms/step - loss: 0.1219 - accuracy: 0.9627\n",
            "Epoch 3/20\n",
            "7500/7500 [==============================] - 29s 4ms/step - loss: 0.0787 - accuracy: 0.9759\n",
            "Epoch 4/20\n",
            "7500/7500 [==============================] - 29s 4ms/step - loss: 0.0544 - accuracy: 0.9835\n",
            "Epoch 5/20\n",
            "7500/7500 [==============================] - 29s 4ms/step - loss: 0.0419 - accuracy: 0.9872\n",
            "Epoch 6/20\n",
            "7500/7500 [==============================] - 29s 4ms/step - loss: 0.0313 - accuracy: 0.9906\n",
            "Epoch 7/20\n",
            "7500/7500 [==============================] - 29s 4ms/step - loss: 0.0237 - accuracy: 0.9928\n",
            "Epoch 8/20\n",
            "7500/7500 [==============================] - 29s 4ms/step - loss: 0.0192 - accuracy: 0.9942\n",
            "Epoch 9/20\n",
            "7500/7500 [==============================] - 29s 4ms/step - loss: 0.0165 - accuracy: 0.9948\n",
            "Epoch 10/20\n",
            "7500/7500 [==============================] - 29s 4ms/step - loss: 0.0136 - accuracy: 0.9958\n",
            "Epoch 11/20\n",
            "7500/7500 [==============================] - 29s 4ms/step - loss: 0.0104 - accuracy: 0.9967\n",
            "Epoch 12/20\n",
            "7500/7500 [==============================] - 29s 4ms/step - loss: 0.0091 - accuracy: 0.9972\n",
            "Epoch 13/20\n",
            "7500/7500 [==============================] - 28s 4ms/step - loss: 0.0070 - accuracy: 0.9980\n",
            "Epoch 14/20\n",
            "7500/7500 [==============================] - 28s 4ms/step - loss: 0.0072 - accuracy: 0.9980\n",
            "Epoch 15/20\n",
            "7500/7500 [==============================] - 28s 4ms/step - loss: 0.0096 - accuracy: 0.9969\n",
            "Epoch 16/20\n",
            "7500/7500 [==============================] - 28s 4ms/step - loss: 0.0046 - accuracy: 0.9986\n",
            "Epoch 17/20\n",
            "7500/7500 [==============================] - 28s 4ms/step - loss: 0.0034 - accuracy: 0.9990\n",
            "Epoch 18/20\n",
            "7500/7500 [==============================] - 29s 4ms/step - loss: 0.0022 - accuracy: 0.9995\n",
            "Epoch 19/20\n",
            "7500/7500 [==============================] - 28s 4ms/step - loss: 6.9830e-04 - accuracy: 0.9999\n",
            "Epoch 20/20\n",
            "7500/7500 [==============================] - 28s 4ms/step - loss: 3.3577e-04 - accuracy: 0.9999\n"
          ]
        },
        {
          "output_type": "execute_result",
          "data": {
            "text/plain": [
              "<keras.callbacks.History at 0x7fcac39f6850>"
            ]
          },
          "metadata": {},
          "execution_count": 37
        }
      ]
    },
    {
      "cell_type": "code",
      "metadata": {
        "colab": {
          "base_uri": "https://localhost:8080/"
        },
        "id": "ZN4r3J40_E3I",
        "outputId": "8711e5ec-1b69-439b-f93a-6792abaa4df0"
      },
      "source": [
        "score = model.evaluate(X_test, y_test, verbose=0)\n",
        "print(\"Test score:\", score[0])\n",
        "print(\"Test accuracy:\", score[1])\n"
      ],
      "execution_count": 38,
      "outputs": [
        {
          "output_type": "stream",
          "name": "stdout",
          "text": [
            "Test score: 0.09115327149629593\n",
            "Test accuracy: 0.9837999939918518\n"
          ]
        }
      ]
    },
    {
      "cell_type": "markdown",
      "metadata": {
        "id": "dklIpGbF_OwP"
      },
      "source": [
        "The score increases as the batch size decreases, however the run time increases as well. It was more noticeable when the batch size got to 16 and lower. The best score was obtained from using a batch size of 8, but it took more than twice the time.\n",
        "\n",
        "Choosing between batch sizes, I would recommend using a batch size of 64 because it provides an accuracy that is almost just as good as having a batch size of 8 but also executing in less than half the time it took for the 8 batch size model to run.\n",
        "\n"
      ]
    },
    {
      "cell_type": "markdown",
      "metadata": {
        "id": "Pfe8N4cP_R-w"
      },
      "source": [
        "# ReLU Activation, SGD Loss, Batchsize of 64, and Changing the Amount of Neurons¶\n"
      ]
    },
    {
      "cell_type": "code",
      "metadata": {
        "colab": {
          "base_uri": "https://localhost:8080/"
        },
        "id": "5p30Hndl_Gs2",
        "outputId": "a0c6820e-fd5f-466c-9742-b26a3c350507"
      },
      "source": [
        "# Having constant amount of 32 neurons throughout entire model until output layer\n",
        "model = Sequential()\n",
        "model.add(Dense(32, input_dim=X_train.shape[1], activation=\"relu\"))\n",
        "model.add(Dense(32, activation=\"relu\"))\n",
        "model.add(Dense(32, activation=\"relu\"))\n",
        "model.add(Dense(32, activation=\"relu\"))\n",
        "model.add(Dense(32, activation=\"relu\"))\n",
        "model.add(Dense(32, activation=\"relu\"))\n",
        "model.add(Dense(10, activation=\"softmax\"))\n",
        "\n",
        "model.compile(optimizer=\"sgd\", loss=\"categorical_crossentropy\", metrics=[\"accuracy\"])\n",
        "\n",
        "model.fit(X_train, y_train, batch_size=64, epochs=20, verbose=1)\n"
      ],
      "execution_count": 39,
      "outputs": [
        {
          "output_type": "stream",
          "name": "stdout",
          "text": [
            "Epoch 1/20\n",
            "938/938 [==============================] - 4s 4ms/step - loss: 1.5308 - accuracy: 0.4685\n",
            "Epoch 2/20\n",
            "938/938 [==============================] - 4s 4ms/step - loss: 0.4928 - accuracy: 0.8496\n",
            "Epoch 3/20\n",
            "938/938 [==============================] - 4s 4ms/step - loss: 0.3406 - accuracy: 0.8991\n",
            "Epoch 4/20\n",
            "938/938 [==============================] - 4s 4ms/step - loss: 0.2810 - accuracy: 0.9174\n",
            "Epoch 5/20\n",
            "938/938 [==============================] - 4s 4ms/step - loss: 0.2405 - accuracy: 0.9288\n",
            "Epoch 6/20\n",
            "938/938 [==============================] - 4s 4ms/step - loss: 0.2151 - accuracy: 0.9352\n",
            "Epoch 7/20\n",
            "938/938 [==============================] - 4s 4ms/step - loss: 0.1954 - accuracy: 0.9414\n",
            "Epoch 8/20\n",
            "938/938 [==============================] - 4s 4ms/step - loss: 0.1780 - accuracy: 0.9471\n",
            "Epoch 9/20\n",
            "938/938 [==============================] - 4s 4ms/step - loss: 0.1658 - accuracy: 0.9512\n",
            "Epoch 10/20\n",
            "938/938 [==============================] - 4s 4ms/step - loss: 0.1541 - accuracy: 0.9542\n",
            "Epoch 11/20\n",
            "938/938 [==============================] - 4s 4ms/step - loss: 0.1456 - accuracy: 0.9574\n",
            "Epoch 12/20\n",
            "938/938 [==============================] - 4s 4ms/step - loss: 0.1358 - accuracy: 0.9593\n",
            "Epoch 13/20\n",
            "938/938 [==============================] - 4s 4ms/step - loss: 0.1273 - accuracy: 0.9620\n",
            "Epoch 14/20\n",
            "938/938 [==============================] - 4s 4ms/step - loss: 0.1217 - accuracy: 0.9642\n",
            "Epoch 15/20\n",
            "938/938 [==============================] - 4s 4ms/step - loss: 0.1167 - accuracy: 0.9651\n",
            "Epoch 16/20\n",
            "938/938 [==============================] - 4s 4ms/step - loss: 0.1119 - accuracy: 0.9671\n",
            "Epoch 17/20\n",
            "938/938 [==============================] - 4s 4ms/step - loss: 0.1075 - accuracy: 0.9675\n",
            "Epoch 18/20\n",
            "938/938 [==============================] - 4s 4ms/step - loss: 0.1028 - accuracy: 0.9692\n",
            "Epoch 19/20\n",
            "938/938 [==============================] - 4s 4ms/step - loss: 0.0987 - accuracy: 0.9704\n",
            "Epoch 20/20\n",
            "938/938 [==============================] - 4s 4ms/step - loss: 0.0948 - accuracy: 0.9721\n"
          ]
        },
        {
          "output_type": "execute_result",
          "data": {
            "text/plain": [
              "<keras.callbacks.History at 0x7fcac93dd1d0>"
            ]
          },
          "metadata": {},
          "execution_count": 39
        }
      ]
    },
    {
      "cell_type": "code",
      "metadata": {
        "colab": {
          "base_uri": "https://localhost:8080/"
        },
        "id": "UgHSEsDz_Ur0",
        "outputId": "f8998800-b2b8-43a0-8c92-dc7f822c34e0"
      },
      "source": [
        "score = model.evaluate(X_test, y_test, verbose=0)\n",
        "print(\"Test score:\", score[0])\n",
        "print(\"Test accuracy:\", score[1])\n"
      ],
      "execution_count": 40,
      "outputs": [
        {
          "output_type": "stream",
          "name": "stdout",
          "text": [
            "Test score: 0.12300928682088852\n",
            "Test accuracy: 0.9639999866485596\n"
          ]
        }
      ]
    },
    {
      "cell_type": "code",
      "metadata": {
        "colab": {
          "base_uri": "https://localhost:8080/"
        },
        "id": "tC4Vp4Ii_WpC",
        "outputId": "c288e248-49ee-4d77-f30c-343b3a9f343b"
      },
      "source": [
        "# Having constant amount of 64 neurons throughout entire model until output layer\n",
        "model = Sequential()\n",
        "model.add(Dense(64, input_dim=X_train.shape[1], activation=\"relu\"))\n",
        "model.add(Dense(64, activation=\"relu\"))\n",
        "model.add(Dense(64, activation=\"relu\"))\n",
        "model.add(Dense(64, activation=\"relu\"))\n",
        "model.add(Dense(64, activation=\"relu\"))\n",
        "model.add(Dense(64, activation=\"relu\"))\n",
        "model.add(Dense(10, activation=\"softmax\"))\n",
        "\n",
        "model.compile(optimizer=\"sgd\", loss=\"categorical_crossentropy\", metrics=[\"accuracy\"])\n",
        "\n",
        "model.fit(X_train, y_train, batch_size=64, epochs=20, verbose=1)\n"
      ],
      "execution_count": 41,
      "outputs": [
        {
          "output_type": "stream",
          "name": "stdout",
          "text": [
            "Epoch 1/20\n",
            "938/938 [==============================] - 4s 4ms/step - loss: 1.4956 - accuracy: 0.5310\n",
            "Epoch 2/20\n",
            "938/938 [==============================] - 4s 4ms/step - loss: 0.4314 - accuracy: 0.8691\n",
            "Epoch 3/20\n",
            "938/938 [==============================] - 4s 4ms/step - loss: 0.3122 - accuracy: 0.9076\n",
            "Epoch 4/20\n",
            "938/938 [==============================] - 4s 4ms/step - loss: 0.2479 - accuracy: 0.9268\n",
            "Epoch 5/20\n",
            "938/938 [==============================] - 4s 4ms/step - loss: 0.2075 - accuracy: 0.9390\n",
            "Epoch 6/20\n",
            "938/938 [==============================] - 4s 4ms/step - loss: 0.1800 - accuracy: 0.9470\n",
            "Epoch 7/20\n",
            "938/938 [==============================] - 4s 4ms/step - loss: 0.1595 - accuracy: 0.9525\n",
            "Epoch 8/20\n",
            "938/938 [==============================] - 4s 4ms/step - loss: 0.1445 - accuracy: 0.9564\n",
            "Epoch 9/20\n",
            "938/938 [==============================] - 4s 4ms/step - loss: 0.1321 - accuracy: 0.9605\n",
            "Epoch 10/20\n",
            "938/938 [==============================] - 4s 4ms/step - loss: 0.1217 - accuracy: 0.9632\n",
            "Epoch 11/20\n",
            "938/938 [==============================] - 4s 4ms/step - loss: 0.1122 - accuracy: 0.9663\n",
            "Epoch 12/20\n",
            "938/938 [==============================] - 4s 4ms/step - loss: 0.1040 - accuracy: 0.9690\n",
            "Epoch 13/20\n",
            "938/938 [==============================] - 4s 4ms/step - loss: 0.0971 - accuracy: 0.9705\n",
            "Epoch 14/20\n",
            "938/938 [==============================] - 4s 4ms/step - loss: 0.0914 - accuracy: 0.9724\n",
            "Epoch 15/20\n",
            "938/938 [==============================] - 4s 4ms/step - loss: 0.0854 - accuracy: 0.9742\n",
            "Epoch 16/20\n",
            "938/938 [==============================] - 4s 4ms/step - loss: 0.0818 - accuracy: 0.9758\n",
            "Epoch 17/20\n",
            "938/938 [==============================] - 4s 4ms/step - loss: 0.0761 - accuracy: 0.9775\n",
            "Epoch 18/20\n",
            "938/938 [==============================] - 4s 4ms/step - loss: 0.0719 - accuracy: 0.9786\n",
            "Epoch 19/20\n",
            "938/938 [==============================] - 4s 4ms/step - loss: 0.0682 - accuracy: 0.9798\n",
            "Epoch 20/20\n",
            "938/938 [==============================] - 4s 4ms/step - loss: 0.0638 - accuracy: 0.9810\n"
          ]
        },
        {
          "output_type": "execute_result",
          "data": {
            "text/plain": [
              "<keras.callbacks.History at 0x7fcac386a250>"
            ]
          },
          "metadata": {},
          "execution_count": 41
        }
      ]
    },
    {
      "cell_type": "code",
      "metadata": {
        "colab": {
          "base_uri": "https://localhost:8080/"
        },
        "id": "XuoWXki-_WsI",
        "outputId": "6a73141c-0a8e-4f59-e56e-9300eeb74726"
      },
      "source": [
        "score = model.evaluate(X_test, y_test, verbose=0)\n",
        "print(\"Test score:\", score[0])\n",
        "print(\"Test accuracy:\", score[1])\n"
      ],
      "execution_count": 42,
      "outputs": [
        {
          "output_type": "stream",
          "name": "stdout",
          "text": [
            "Test score: 0.11846434324979782\n",
            "Test accuracy: 0.9625999927520752\n"
          ]
        }
      ]
    },
    {
      "cell_type": "code",
      "metadata": {
        "colab": {
          "base_uri": "https://localhost:8080/"
        },
        "id": "nyFkTHcg_WuJ",
        "outputId": "9b318ee6-78fe-4828-bfc5-eca04901d712"
      },
      "source": [
        "# Having constant amount of 128 neurons throughout entire model until output layer\n",
        "model = Sequential()\n",
        "model.add(Dense(128, input_dim=X_train.shape[1], activation=\"relu\"))\n",
        "model.add(Dense(128, activation=\"relu\"))\n",
        "model.add(Dense(128, activation=\"relu\"))\n",
        "model.add(Dense(128, activation=\"relu\"))\n",
        "model.add(Dense(128, activation=\"relu\"))\n",
        "model.add(Dense(128, activation=\"relu\"))\n",
        "model.add(Dense(10, activation=\"softmax\"))\n",
        "\n",
        "model.compile(optimizer=\"sgd\", loss=\"categorical_crossentropy\", metrics=[\"accuracy\"])\n",
        "\n",
        "model.fit(X_train, y_train, batch_size=64, epochs=20, verbose=1)\n"
      ],
      "execution_count": 43,
      "outputs": [
        {
          "output_type": "stream",
          "name": "stdout",
          "text": [
            "Epoch 1/20\n",
            "938/938 [==============================] - 4s 4ms/step - loss: 1.2725 - accuracy: 0.6110\n",
            "Epoch 2/20\n",
            "938/938 [==============================] - 4s 4ms/step - loss: 0.3524 - accuracy: 0.8946\n",
            "Epoch 3/20\n",
            "938/938 [==============================] - 4s 4ms/step - loss: 0.2575 - accuracy: 0.9239\n",
            "Epoch 4/20\n",
            "938/938 [==============================] - 4s 4ms/step - loss: 0.2058 - accuracy: 0.9388\n",
            "Epoch 5/20\n",
            "938/938 [==============================] - 4s 4ms/step - loss: 0.1727 - accuracy: 0.9485\n",
            "Epoch 6/20\n",
            "938/938 [==============================] - 4s 4ms/step - loss: 0.1504 - accuracy: 0.9557\n",
            "Epoch 7/20\n",
            "938/938 [==============================] - 4s 4ms/step - loss: 0.1326 - accuracy: 0.9601\n",
            "Epoch 8/20\n",
            "938/938 [==============================] - 4s 4ms/step - loss: 0.1194 - accuracy: 0.9646\n",
            "Epoch 9/20\n",
            "938/938 [==============================] - 4s 4ms/step - loss: 0.1071 - accuracy: 0.9682\n",
            "Epoch 10/20\n",
            "938/938 [==============================] - 4s 4ms/step - loss: 0.0992 - accuracy: 0.9704\n",
            "Epoch 11/20\n",
            "938/938 [==============================] - 4s 4ms/step - loss: 0.0902 - accuracy: 0.9732\n",
            "Epoch 12/20\n",
            "938/938 [==============================] - 4s 4ms/step - loss: 0.0824 - accuracy: 0.9757\n",
            "Epoch 13/20\n",
            "938/938 [==============================] - 4s 4ms/step - loss: 0.0759 - accuracy: 0.9772\n",
            "Epoch 14/20\n",
            "938/938 [==============================] - 4s 4ms/step - loss: 0.0706 - accuracy: 0.9787\n",
            "Epoch 15/20\n",
            "938/938 [==============================] - 4s 4ms/step - loss: 0.0647 - accuracy: 0.9807\n",
            "Epoch 16/20\n",
            "938/938 [==============================] - 4s 4ms/step - loss: 0.0602 - accuracy: 0.9817\n",
            "Epoch 17/20\n",
            "938/938 [==============================] - 4s 4ms/step - loss: 0.0554 - accuracy: 0.9839\n",
            "Epoch 18/20\n",
            "938/938 [==============================] - 4s 4ms/step - loss: 0.0516 - accuracy: 0.9850\n",
            "Epoch 19/20\n",
            "938/938 [==============================] - 4s 4ms/step - loss: 0.0474 - accuracy: 0.9860\n",
            "Epoch 20/20\n",
            "938/938 [==============================] - 4s 4ms/step - loss: 0.0442 - accuracy: 0.9869\n"
          ]
        },
        {
          "output_type": "execute_result",
          "data": {
            "text/plain": [
              "<keras.callbacks.History at 0x7fcac374fa10>"
            ]
          },
          "metadata": {},
          "execution_count": 43
        }
      ]
    },
    {
      "cell_type": "code",
      "metadata": {
        "colab": {
          "base_uri": "https://localhost:8080/"
        },
        "id": "ZvA-2jmj_co-",
        "outputId": "71aa4609-2766-47b6-e992-6d0bb9dc8791"
      },
      "source": [
        "score = model.evaluate(X_test, y_test, verbose=0)\n",
        "print(\"Test score:\", score[0])\n",
        "print(\"Test accuracy:\", score[1])\n"
      ],
      "execution_count": 44,
      "outputs": [
        {
          "output_type": "stream",
          "name": "stdout",
          "text": [
            "Test score: 0.10092046856880188\n",
            "Test accuracy: 0.9710000157356262\n"
          ]
        }
      ]
    },
    {
      "cell_type": "code",
      "metadata": {
        "colab": {
          "base_uri": "https://localhost:8080/"
        },
        "id": "I_cVNhGv_ezo",
        "outputId": "9fe5c9cc-aa4c-4007-e6d9-6a60faf5e3ac"
      },
      "source": [
        "# Having constant amount of 256 neurons throughout entire model until output layer\n",
        "model = Sequential()\n",
        "model.add(Dense(256, input_dim=X_train.shape[1], activation=\"relu\"))\n",
        "model.add(Dense(256, activation=\"relu\"))\n",
        "model.add(Dense(256, activation=\"relu\"))\n",
        "model.add(Dense(256, activation=\"relu\"))\n",
        "model.add(Dense(256, activation=\"relu\"))\n",
        "model.add(Dense(256, activation=\"relu\"))\n",
        "model.add(Dense(10, activation=\"softmax\"))\n",
        "\n",
        "model.compile(optimizer=\"sgd\", loss=\"categorical_crossentropy\", metrics=[\"accuracy\"])\n",
        "\n",
        "model.fit(X_train, y_train, batch_size=64, epochs=20, verbose=1)\n"
      ],
      "execution_count": 45,
      "outputs": [
        {
          "output_type": "stream",
          "name": "stdout",
          "text": [
            "Epoch 1/20\n",
            "938/938 [==============================] - 5s 5ms/step - loss: 1.2622 - accuracy: 0.6288\n",
            "Epoch 2/20\n",
            "938/938 [==============================] - 4s 5ms/step - loss: 0.3374 - accuracy: 0.9013\n",
            "Epoch 3/20\n",
            "938/938 [==============================] - 4s 4ms/step - loss: 0.2412 - accuracy: 0.9307\n",
            "Epoch 4/20\n",
            "938/938 [==============================] - 4s 5ms/step - loss: 0.1913 - accuracy: 0.9442\n",
            "Epoch 5/20\n",
            "938/938 [==============================] - 4s 5ms/step - loss: 0.1597 - accuracy: 0.9533\n",
            "Epoch 6/20\n",
            "938/938 [==============================] - 4s 5ms/step - loss: 0.1371 - accuracy: 0.9607\n",
            "Epoch 7/20\n",
            "938/938 [==============================] - 4s 5ms/step - loss: 0.1197 - accuracy: 0.9651\n",
            "Epoch 8/20\n",
            "938/938 [==============================] - 4s 5ms/step - loss: 0.1048 - accuracy: 0.9696\n",
            "Epoch 9/20\n",
            "938/938 [==============================] - 4s 4ms/step - loss: 0.0937 - accuracy: 0.9720\n",
            "Epoch 10/20\n",
            "938/938 [==============================] - 4s 5ms/step - loss: 0.0838 - accuracy: 0.9758\n",
            "Epoch 11/20\n",
            "938/938 [==============================] - 4s 5ms/step - loss: 0.0758 - accuracy: 0.9773\n",
            "Epoch 12/20\n",
            "938/938 [==============================] - 4s 5ms/step - loss: 0.0675 - accuracy: 0.9798\n",
            "Epoch 13/20\n",
            "938/938 [==============================] - 4s 5ms/step - loss: 0.0605 - accuracy: 0.9822\n",
            "Epoch 14/20\n",
            "938/938 [==============================] - 4s 4ms/step - loss: 0.0552 - accuracy: 0.9840\n",
            "Epoch 15/20\n",
            "938/938 [==============================] - 4s 5ms/step - loss: 0.0500 - accuracy: 0.9855\n",
            "Epoch 16/20\n",
            "938/938 [==============================] - 4s 4ms/step - loss: 0.0448 - accuracy: 0.9868\n",
            "Epoch 17/20\n",
            "938/938 [==============================] - 4s 4ms/step - loss: 0.0408 - accuracy: 0.9879\n",
            "Epoch 18/20\n",
            "938/938 [==============================] - 4s 4ms/step - loss: 0.0366 - accuracy: 0.9893\n",
            "Epoch 19/20\n",
            "938/938 [==============================] - 4s 4ms/step - loss: 0.0324 - accuracy: 0.9906\n",
            "Epoch 20/20\n",
            "938/938 [==============================] - 4s 4ms/step - loss: 0.0291 - accuracy: 0.9919\n"
          ]
        },
        {
          "output_type": "execute_result",
          "data": {
            "text/plain": [
              "<keras.callbacks.History at 0x7fcabd503d10>"
            ]
          },
          "metadata": {},
          "execution_count": 45
        }
      ]
    },
    {
      "cell_type": "code",
      "metadata": {
        "colab": {
          "base_uri": "https://localhost:8080/"
        },
        "id": "XE77NJ8W_gyL",
        "outputId": "0fb32646-ffce-4cc1-9c21-e2926d7ed7f6"
      },
      "source": [
        "score = model.evaluate(X_test, y_test, verbose=0)\n",
        "print(\"Test score:\", score[0])\n",
        "print(\"Test accuracy:\", score[1])\n"
      ],
      "execution_count": 46,
      "outputs": [
        {
          "output_type": "stream",
          "name": "stdout",
          "text": [
            "Test score: 0.08184363692998886\n",
            "Test accuracy: 0.9761999845504761\n"
          ]
        }
      ]
    },
    {
      "cell_type": "code",
      "metadata": {
        "colab": {
          "base_uri": "https://localhost:8080/"
        },
        "id": "04nPHr2n_jq7",
        "outputId": "27ceb31a-21ad-46ff-dd7f-07feda243abd"
      },
      "source": [
        "# Having constant amount of 512 neurons throughout entire model until output layer\n",
        "model = Sequential()\n",
        "model.add(Dense(512, input_dim=X_train.shape[1], activation=\"relu\"))\n",
        "model.add(Dense(512, activation=\"relu\"))\n",
        "model.add(Dense(512, activation=\"relu\"))\n",
        "model.add(Dense(512, activation=\"relu\"))\n",
        "model.add(Dense(512, activation=\"relu\"))\n",
        "model.add(Dense(512, activation=\"relu\"))\n",
        "model.add(Dense(10, activation=\"softmax\"))\n",
        "\n",
        "model.compile(optimizer=\"sgd\", loss=\"categorical_crossentropy\", metrics=[\"accuracy\"])\n",
        "\n",
        "model.fit(X_train, y_train, batch_size=64, epochs=20, verbose=1)\n"
      ],
      "execution_count": 47,
      "outputs": [
        {
          "output_type": "stream",
          "name": "stdout",
          "text": [
            "Epoch 1/20\n",
            "938/938 [==============================] - 6s 6ms/step - loss: 1.0332 - accuracy: 0.6894\n",
            "Epoch 2/20\n",
            "938/938 [==============================] - 5s 5ms/step - loss: 0.2944 - accuracy: 0.9131\n",
            "Epoch 3/20\n",
            "938/938 [==============================] - 5s 5ms/step - loss: 0.2177 - accuracy: 0.9362\n",
            "Epoch 4/20\n",
            "938/938 [==============================] - 5s 5ms/step - loss: 0.1735 - accuracy: 0.9492\n",
            "Epoch 5/20\n",
            "938/938 [==============================] - 5s 5ms/step - loss: 0.1445 - accuracy: 0.9579\n",
            "Epoch 6/20\n",
            "938/938 [==============================] - 5s 5ms/step - loss: 0.1229 - accuracy: 0.9642\n",
            "Epoch 7/20\n",
            "938/938 [==============================] - 5s 5ms/step - loss: 0.1056 - accuracy: 0.9689\n",
            "Epoch 8/20\n",
            "938/938 [==============================] - 5s 5ms/step - loss: 0.0925 - accuracy: 0.9725\n",
            "Epoch 9/20\n",
            "938/938 [==============================] - 5s 5ms/step - loss: 0.0809 - accuracy: 0.9762\n",
            "Epoch 10/20\n",
            "938/938 [==============================] - 5s 6ms/step - loss: 0.0718 - accuracy: 0.9783\n",
            "Epoch 11/20\n",
            "938/938 [==============================] - 5s 5ms/step - loss: 0.0624 - accuracy: 0.9816\n",
            "Epoch 12/20\n",
            "938/938 [==============================] - 5s 5ms/step - loss: 0.0560 - accuracy: 0.9830\n",
            "Epoch 13/20\n",
            "938/938 [==============================] - 5s 5ms/step - loss: 0.0487 - accuracy: 0.9858\n",
            "Epoch 14/20\n",
            "938/938 [==============================] - 5s 5ms/step - loss: 0.0427 - accuracy: 0.9876\n",
            "Epoch 15/20\n",
            "938/938 [==============================] - 5s 5ms/step - loss: 0.0377 - accuracy: 0.9890\n",
            "Epoch 16/20\n",
            "938/938 [==============================] - 5s 5ms/step - loss: 0.0322 - accuracy: 0.9915\n",
            "Epoch 17/20\n",
            "938/938 [==============================] - 5s 5ms/step - loss: 0.0289 - accuracy: 0.9921\n",
            "Epoch 18/20\n",
            "938/938 [==============================] - 5s 6ms/step - loss: 0.0248 - accuracy: 0.9934\n",
            "Epoch 19/20\n",
            "938/938 [==============================] - 5s 6ms/step - loss: 0.0212 - accuracy: 0.9946\n",
            "Epoch 20/20\n",
            "938/938 [==============================] - 5s 5ms/step - loss: 0.0184 - accuracy: 0.9956\n"
          ]
        },
        {
          "output_type": "execute_result",
          "data": {
            "text/plain": [
              "<keras.callbacks.History at 0x7fcabd342710>"
            ]
          },
          "metadata": {},
          "execution_count": 47
        }
      ]
    },
    {
      "cell_type": "code",
      "metadata": {
        "colab": {
          "base_uri": "https://localhost:8080/"
        },
        "id": "NtXTQFOa_kYP",
        "outputId": "b56e3dbb-a849-4f83-b814-18592a52bb16"
      },
      "source": [
        "score = model.evaluate(X_test, y_test, verbose=0)\n",
        "print(\"Test score:\", score[0])\n",
        "print(\"Test accuracy:\", score[1])\n"
      ],
      "execution_count": 48,
      "outputs": [
        {
          "output_type": "stream",
          "name": "stdout",
          "text": [
            "Test score: 0.0779823511838913\n",
            "Test accuracy: 0.9754999876022339\n"
          ]
        }
      ]
    },
    {
      "cell_type": "code",
      "metadata": {
        "colab": {
          "base_uri": "https://localhost:8080/"
        },
        "id": "1HdSkz-A_njB",
        "outputId": "d04ec9cd-e566-41f4-94c7-5c092bc0cc54"
      },
      "source": [
        "# Having neurons decrease throughout model\n",
        "model = Sequential()\n",
        "model.add(Dense(512, input_dim=X_train.shape[1], activation=\"relu\"))\n",
        "model.add(Dense(256, activation=\"relu\"))\n",
        "model.add(Dense(128, activation=\"relu\"))\n",
        "model.add(Dense(64, activation=\"relu\"))\n",
        "model.add(Dense(32, activation=\"relu\"))\n",
        "model.add(Dense(16, activation=\"relu\"))\n",
        "model.add(Dense(10, activation=\"softmax\"))\n",
        "\n",
        "model.compile(optimizer=\"sgd\", loss=\"categorical_crossentropy\", metrics=[\"accuracy\"])\n",
        "\n",
        "model.fit(X_train, y_train, batch_size=64, epochs=20, verbose=1)\n"
      ],
      "execution_count": 49,
      "outputs": [
        {
          "output_type": "stream",
          "name": "stdout",
          "text": [
            "Epoch 1/20\n",
            "938/938 [==============================] - 5s 4ms/step - loss: 1.2320 - accuracy: 0.6041\n",
            "Epoch 2/20\n",
            "938/938 [==============================] - 4s 4ms/step - loss: 0.3578 - accuracy: 0.8938\n",
            "Epoch 3/20\n",
            "938/938 [==============================] - 4s 4ms/step - loss: 0.2317 - accuracy: 0.9323\n",
            "Epoch 4/20\n",
            "938/938 [==============================] - 4s 4ms/step - loss: 0.1739 - accuracy: 0.9496\n",
            "Epoch 5/20\n",
            "938/938 [==============================] - 4s 4ms/step - loss: 0.1401 - accuracy: 0.9598\n",
            "Epoch 6/20\n",
            "938/938 [==============================] - 4s 4ms/step - loss: 0.1168 - accuracy: 0.9660\n",
            "Epoch 7/20\n",
            "938/938 [==============================] - 4s 4ms/step - loss: 0.1013 - accuracy: 0.9701\n",
            "Epoch 8/20\n",
            "938/938 [==============================] - 4s 4ms/step - loss: 0.0862 - accuracy: 0.9749\n",
            "Epoch 9/20\n",
            "938/938 [==============================] - 4s 4ms/step - loss: 0.0751 - accuracy: 0.9784\n",
            "Epoch 10/20\n",
            "938/938 [==============================] - 4s 4ms/step - loss: 0.0661 - accuracy: 0.9808\n",
            "Epoch 11/20\n",
            "938/938 [==============================] - 4s 4ms/step - loss: 0.0579 - accuracy: 0.9837\n",
            "Epoch 12/20\n",
            "938/938 [==============================] - 4s 4ms/step - loss: 0.0503 - accuracy: 0.9858\n",
            "Epoch 13/20\n",
            "938/938 [==============================] - 4s 4ms/step - loss: 0.0439 - accuracy: 0.9881\n",
            "Epoch 14/20\n",
            "938/938 [==============================] - 4s 4ms/step - loss: 0.0383 - accuracy: 0.9892\n",
            "Epoch 15/20\n",
            "938/938 [==============================] - 4s 4ms/step - loss: 0.0327 - accuracy: 0.9909\n",
            "Epoch 16/20\n",
            "938/938 [==============================] - 4s 4ms/step - loss: 0.0278 - accuracy: 0.9929\n",
            "Epoch 17/20\n",
            "938/938 [==============================] - 4s 4ms/step - loss: 0.0250 - accuracy: 0.9933\n",
            "Epoch 18/20\n",
            "938/938 [==============================] - 4s 4ms/step - loss: 0.0207 - accuracy: 0.9951\n",
            "Epoch 19/20\n",
            "938/938 [==============================] - 4s 4ms/step - loss: 0.0176 - accuracy: 0.9956\n",
            "Epoch 20/20\n",
            "938/938 [==============================] - 4s 4ms/step - loss: 0.0146 - accuracy: 0.9966\n"
          ]
        },
        {
          "output_type": "execute_result",
          "data": {
            "text/plain": [
              "<keras.callbacks.History at 0x7fcabd237990>"
            ]
          },
          "metadata": {},
          "execution_count": 49
        }
      ]
    },
    {
      "cell_type": "code",
      "metadata": {
        "colab": {
          "base_uri": "https://localhost:8080/"
        },
        "id": "KQYikyLe_oYo",
        "outputId": "90376572-35bb-4d0e-a476-9127e95bb639"
      },
      "source": [
        "score = model.evaluate(X_test, y_test, verbose=0)\n",
        "print(\"Test score:\", score[0])\n",
        "print(\"Test accuracy:\", score[1])\n"
      ],
      "execution_count": 50,
      "outputs": [
        {
          "output_type": "stream",
          "name": "stdout",
          "text": [
            "Test score: 0.09678570926189423\n",
            "Test accuracy: 0.9740999937057495\n"
          ]
        }
      ]
    },
    {
      "cell_type": "markdown",
      "metadata": {
        "id": "Kdr6QXJ5_qB4"
      },
      "source": [
        "When using constant amounts of neurons the test accuracy increases as the neurons increase, however, once the neurons get too high the run time starts to take longer to execute. The models all appear to have similar accuracies, but the model with a constant amound of 256 neurons performs the best in the most optimal run time. It even has a better accuracy than the model with neurons that decrease within each layer.\n",
        "\n",
        "# Conclusion\n",
        "Overall, each model is able to reach a very high accuracy, usually over 0.95. models that achieve an accuracy higher than 0.97 start to take a lot longer to execute, and only have a small increase in accuracy. Additionally, whenever the layers were increased the accuracy would increase, however once the layers got past 7 the accuracy would barely increase and the run time would take much longer. Therefore, I figured the most optimal amount of layers would be 7.\n",
        "\n",
        "It appears the best activation function was the ReLU activation. I was able to obtain an accuracy score of around 0.977 with a quick run time using a constant amound of 256 neurons, ReLU activation, 7 layers, and SGD loss function.\n",
        "\n",
        "# Possible Next Steps¶\n",
        "Some next steps that could be done for improving the models would be to change the loss functions (incorporate a hinge loss function instead of categorical). Additionally, I could change the optimizer to something other than sgd (adam)."
      ]
    }
  ]
}