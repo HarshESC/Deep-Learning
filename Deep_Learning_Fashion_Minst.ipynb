{
  "nbformat": 4,
  "nbformat_minor": 0,
  "metadata": {
    "colab": {
      "name": "Deep Learning Fashion Minst.ipynb",
      "provenance": [],
      "collapsed_sections": [],
      "authorship_tag": "ABX9TyMQblYrqtHVrsN3zd4pQaU1",
      "include_colab_link": true
    },
    "kernelspec": {
      "name": "python3",
      "display_name": "Python 3"
    },
    "language_info": {
      "name": "python"
    }
  },
  "cells": [
    {
      "cell_type": "markdown",
      "metadata": {
        "id": "view-in-github",
        "colab_type": "text"
      },
      "source": [
        "<a href=\"https://colab.research.google.com/github/HarshESC/Deep-Learning/blob/main/Deep_Learning_Fashion_Minst.ipynb\" target=\"_parent\"><img src=\"https://colab.research.google.com/assets/colab-badge.svg\" alt=\"Open In Colab\"/></a>"
      ]
    },
    {
      "cell_type": "code",
      "metadata": {
        "id": "XLe0rA7N5lFu"
      },
      "source": [
        "\n",
        "import warnings\n",
        "\n",
        "warnings.filterwarnings(\"ignore\")\n",
        "\n",
        "from tensorflow.keras.datasets import mnist\n",
        "from tensorflow.keras.utils import to_categorical\n",
        "from tensorflow.keras.models import Sequential\n",
        "from tensorflow.keras.layers import Dense\n",
        "from tensorflow.keras.optimizers import SGD\n",
        "\n"
      ],
      "execution_count": 1,
      "outputs": []
    },
    {
      "cell_type": "code",
      "metadata": {
        "id": "vvRlu_uJ5lxu",
        "colab": {
          "base_uri": "https://localhost:8080/"
        },
        "outputId": "4ecd938d-16bf-491c-84dd-211179d59816"
      },
      "source": [
        "(X_train, y_train), (X_test, y_test) = mnist.load_data()\n",
        "input_dim = 784  # 28*28\n",
        "output_dim = nb_classes = 10\n",
        "batch_size = 128\n",
        "nb_epoch = 20\n",
        "\n",
        "X_train = X_train.reshape(60000, input_dim)\n",
        "X_test = X_test.reshape(10000, input_dim)\n",
        "X_train = X_train.astype(\"float32\")\n",
        "X_test = X_test.astype(\"float32\")\n",
        "X_train /= 255\n",
        "X_test /= 255\n",
        "\n",
        "y_train = to_categorical(y_train, nb_classes)\n",
        "y_test = to_categorical(y_test, nb_classes)\n"
      ],
      "execution_count": 2,
      "outputs": [
        {
          "output_type": "stream",
          "name": "stdout",
          "text": [
            "Downloading data from https://storage.googleapis.com/tensorflow/tf-keras-datasets/mnist.npz\n",
            "11493376/11490434 [==============================] - 0s 0us/step\n",
            "11501568/11490434 [==============================] - 0s 0us/step\n"
          ]
        }
      ]
    },
    {
      "cell_type": "code",
      "metadata": {
        "id": "hbNjf5iy82el"
      },
      "source": [
        ""
      ],
      "execution_count": null,
      "outputs": []
    },
    {
      "cell_type": "code",
      "metadata": {
        "id": "-9XkYnkc8uhc"
      },
      "source": [
        "# 3 Layers\n",
        "model = Sequential()\n",
        "model.add(Dense(128, input_dim=X_train.shape[1], activation=\"relu\"))\n",
        "model.add(Dense(64, activation=\"relu\"))\n",
        "model.add(Dense(10, activation=\"softmax\"))\n"
      ],
      "execution_count": 3,
      "outputs": []
    },
    {
      "cell_type": "code",
      "metadata": {
        "id": "_IvlaDKb8vkV"
      },
      "source": [
        "model.compile(optimizer=\"sgd\", loss=\"categorical_crossentropy\", metrics=[\"accuracy\"])\n"
      ],
      "execution_count": 4,
      "outputs": []
    },
    {
      "cell_type": "code",
      "metadata": {
        "colab": {
          "base_uri": "https://localhost:8080/"
        },
        "id": "7PkZ-2J_8zOM",
        "outputId": "4607628c-59cb-4e1d-ab3d-c88e4f891e77"
      },
      "source": [
        "model.fit(X_train, y_train, batch_size=128, epochs=20, verbose=1)\n"
      ],
      "execution_count": 5,
      "outputs": [
        {
          "output_type": "stream",
          "name": "stdout",
          "text": [
            "Epoch 1/20\n",
            "469/469 [==============================] - 2s 3ms/step - loss: 1.2869 - accuracy: 0.6612\n",
            "Epoch 2/20\n",
            "469/469 [==============================] - 2s 3ms/step - loss: 0.5024 - accuracy: 0.8690\n",
            "Epoch 3/20\n",
            "469/469 [==============================] - 2s 3ms/step - loss: 0.3882 - accuracy: 0.8925\n",
            "Epoch 4/20\n",
            "469/469 [==============================] - 2s 3ms/step - loss: 0.3419 - accuracy: 0.9025\n",
            "Epoch 5/20\n",
            "469/469 [==============================] - 1s 3ms/step - loss: 0.3137 - accuracy: 0.9109\n",
            "Epoch 6/20\n",
            "469/469 [==============================] - 1s 3ms/step - loss: 0.2936 - accuracy: 0.9157\n",
            "Epoch 7/20\n",
            "469/469 [==============================] - 1s 3ms/step - loss: 0.2777 - accuracy: 0.9208\n",
            "Epoch 8/20\n",
            "469/469 [==============================] - 1s 3ms/step - loss: 0.2640 - accuracy: 0.9246\n",
            "Epoch 9/20\n",
            "469/469 [==============================] - 1s 3ms/step - loss: 0.2522 - accuracy: 0.9282\n",
            "Epoch 10/20\n",
            "469/469 [==============================] - 2s 3ms/step - loss: 0.2418 - accuracy: 0.9307\n",
            "Epoch 11/20\n",
            "469/469 [==============================] - 2s 3ms/step - loss: 0.2322 - accuracy: 0.9336\n",
            "Epoch 12/20\n",
            "469/469 [==============================] - 1s 3ms/step - loss: 0.2232 - accuracy: 0.9366\n",
            "Epoch 13/20\n",
            "469/469 [==============================] - 2s 3ms/step - loss: 0.2150 - accuracy: 0.9382\n",
            "Epoch 14/20\n",
            "469/469 [==============================] - 2s 3ms/step - loss: 0.2069 - accuracy: 0.9413\n",
            "Epoch 15/20\n",
            "469/469 [==============================] - 2s 3ms/step - loss: 0.1997 - accuracy: 0.9431\n",
            "Epoch 16/20\n",
            "469/469 [==============================] - 2s 3ms/step - loss: 0.1930 - accuracy: 0.9443\n",
            "Epoch 17/20\n",
            "469/469 [==============================] - 2s 3ms/step - loss: 0.1866 - accuracy: 0.9469\n",
            "Epoch 18/20\n",
            "469/469 [==============================] - 2s 3ms/step - loss: 0.1805 - accuracy: 0.9488\n",
            "Epoch 19/20\n",
            "469/469 [==============================] - 2s 3ms/step - loss: 0.1747 - accuracy: 0.9503\n",
            "Epoch 20/20\n",
            "469/469 [==============================] - 2s 3ms/step - loss: 0.1695 - accuracy: 0.9519\n"
          ]
        },
        {
          "output_type": "execute_result",
          "data": {
            "text/plain": [
              "<keras.callbacks.History at 0x7f2fb0c1c7d0>"
            ]
          },
          "metadata": {},
          "execution_count": 5
        }
      ]
    },
    {
      "cell_type": "code",
      "metadata": {
        "colab": {
          "base_uri": "https://localhost:8080/"
        },
        "id": "2yUQBELk839Z",
        "outputId": "ed3baa82-5e85-4975-a7ac-98afba9bdfba"
      },
      "source": [
        "score = model.evaluate(X_test, y_test, verbose=0)\n",
        "print(\"Test score:\", score[0])\n",
        "print(\"Test accuracy:\", score[1])\n"
      ],
      "execution_count": 6,
      "outputs": [
        {
          "output_type": "stream",
          "name": "stdout",
          "text": [
            "Test score: 0.1698606014251709\n",
            "Test accuracy: 0.9521999955177307\n"
          ]
        }
      ]
    },
    {
      "cell_type": "code",
      "metadata": {
        "colab": {
          "base_uri": "https://localhost:8080/"
        },
        "id": "yXTNnzMg86KT",
        "outputId": "5e85a5d5-17d0-4801-dff5-cdc923cfd7b8"
      },
      "source": [
        "# 5 Layers\n",
        "model = Sequential()\n",
        "model.add(Dense(128, input_dim=X_train.shape[1], activation=\"relu\"))\n",
        "model.add(Dense(64, activation=\"relu\"))\n",
        "model.add(Dense(32, activation=\"relu\"))\n",
        "model.add(Dense(16, activation=\"relu\"))\n",
        "model.add(Dense(10, activation=\"softmax\"))\n",
        "\n",
        "model.compile(optimizer=\"sgd\", loss=\"categorical_crossentropy\", metrics=[\"accuracy\"])\n",
        "\n",
        "model.fit(X_train, y_train, batch_size=128, epochs=20, verbose=1)\n"
      ],
      "execution_count": 7,
      "outputs": [
        {
          "output_type": "stream",
          "name": "stdout",
          "text": [
            "Epoch 1/20\n",
            "469/469 [==============================] - 2s 4ms/step - loss: 1.7078 - accuracy: 0.4629\n",
            "Epoch 2/20\n",
            "469/469 [==============================] - 2s 4ms/step - loss: 0.6752 - accuracy: 0.7937\n",
            "Epoch 3/20\n",
            "469/469 [==============================] - 2s 3ms/step - loss: 0.4375 - accuracy: 0.8712\n",
            "Epoch 4/20\n",
            "469/469 [==============================] - 2s 3ms/step - loss: 0.3477 - accuracy: 0.8979\n",
            "Epoch 5/20\n",
            "469/469 [==============================] - 2s 4ms/step - loss: 0.3025 - accuracy: 0.9114\n",
            "Epoch 6/20\n",
            "469/469 [==============================] - 2s 3ms/step - loss: 0.2717 - accuracy: 0.9201\n",
            "Epoch 7/20\n",
            "469/469 [==============================] - 1s 3ms/step - loss: 0.2470 - accuracy: 0.9279\n",
            "Epoch 8/20\n",
            "469/469 [==============================] - 2s 4ms/step - loss: 0.2269 - accuracy: 0.9336\n",
            "Epoch 9/20\n",
            "469/469 [==============================] - 2s 3ms/step - loss: 0.2101 - accuracy: 0.9383\n",
            "Epoch 10/20\n",
            "469/469 [==============================] - 2s 4ms/step - loss: 0.1958 - accuracy: 0.9426\n",
            "Epoch 11/20\n",
            "469/469 [==============================] - 2s 3ms/step - loss: 0.1832 - accuracy: 0.9465\n",
            "Epoch 12/20\n",
            "469/469 [==============================] - 2s 3ms/step - loss: 0.1717 - accuracy: 0.9498\n",
            "Epoch 13/20\n",
            "469/469 [==============================] - 2s 3ms/step - loss: 0.1627 - accuracy: 0.9525\n",
            "Epoch 14/20\n",
            "469/469 [==============================] - 2s 3ms/step - loss: 0.1532 - accuracy: 0.9559\n",
            "Epoch 15/20\n",
            "469/469 [==============================] - 2s 4ms/step - loss: 0.1454 - accuracy: 0.9577\n",
            "Epoch 16/20\n",
            "469/469 [==============================] - 2s 4ms/step - loss: 0.1380 - accuracy: 0.9601\n",
            "Epoch 17/20\n",
            "469/469 [==============================] - 2s 3ms/step - loss: 0.1319 - accuracy: 0.9612\n",
            "Epoch 18/20\n",
            "469/469 [==============================] - 2s 4ms/step - loss: 0.1265 - accuracy: 0.9633\n",
            "Epoch 19/20\n",
            "469/469 [==============================] - 2s 4ms/step - loss: 0.1201 - accuracy: 0.9653\n",
            "Epoch 20/20\n",
            "469/469 [==============================] - 2s 3ms/step - loss: 0.1156 - accuracy: 0.9662\n"
          ]
        },
        {
          "output_type": "execute_result",
          "data": {
            "text/plain": [
              "<keras.callbacks.History at 0x7f2fb0aa7c10>"
            ]
          },
          "metadata": {},
          "execution_count": 7
        }
      ]
    },
    {
      "cell_type": "code",
      "metadata": {
        "colab": {
          "base_uri": "https://localhost:8080/"
        },
        "id": "bIJFczxU88gU",
        "outputId": "720dd6ac-a64c-4eb8-e5c6-1ad01912f427"
      },
      "source": [
        "score = model.evaluate(X_test, y_test, verbose=0)\n",
        "print(\"Test score:\", score[0])\n",
        "print(\"Test accuracy:\", score[1])\n"
      ],
      "execution_count": 8,
      "outputs": [
        {
          "output_type": "stream",
          "name": "stdout",
          "text": [
            "Test score: 0.12715891003608704\n",
            "Test accuracy: 0.9607999920845032\n"
          ]
        }
      ]
    },
    {
      "cell_type": "code",
      "metadata": {
        "colab": {
          "base_uri": "https://localhost:8080/"
        },
        "id": "SxEXSqRz8-Rd",
        "outputId": "05a8f7e9-826b-42b0-9ce4-f439eabc9fb5"
      },
      "source": [
        "# 7 Layers\n",
        "model = Sequential()\n",
        "model.add(Dense(512, input_dim=X_train.shape[1], activation=\"relu\"))\n",
        "model.add(Dense(256, activation=\"relu\"))\n",
        "model.add(Dense(128, activation=\"relu\"))\n",
        "model.add(Dense(64, activation=\"relu\"))\n",
        "model.add(Dense(32, activation=\"relu\"))\n",
        "model.add(Dense(16, activation=\"relu\"))\n",
        "model.add(Dense(10, activation=\"softmax\"))\n",
        "\n",
        "model.compile(optimizer=\"sgd\", loss=\"categorical_crossentropy\", metrics=[\"accuracy\"])\n",
        "\n",
        "model.fit(X_train, y_train, batch_size=128, epochs=20, verbose=1)\n"
      ],
      "execution_count": 9,
      "outputs": [
        {
          "output_type": "stream",
          "name": "stdout",
          "text": [
            "Epoch 1/20\n",
            "469/469 [==============================] - 6s 11ms/step - loss: 1.9243 - accuracy: 0.3727\n",
            "Epoch 2/20\n",
            "469/469 [==============================] - 5s 11ms/step - loss: 0.6496 - accuracy: 0.8115\n",
            "Epoch 3/20\n",
            "469/469 [==============================] - 5s 11ms/step - loss: 0.3891 - accuracy: 0.8882\n",
            "Epoch 4/20\n",
            "469/469 [==============================] - 5s 11ms/step - loss: 0.2950 - accuracy: 0.9164\n",
            "Epoch 5/20\n",
            "469/469 [==============================] - 5s 11ms/step - loss: 0.2430 - accuracy: 0.9308\n",
            "Epoch 6/20\n",
            "469/469 [==============================] - 5s 11ms/step - loss: 0.2066 - accuracy: 0.9410\n",
            "Epoch 7/20\n",
            "469/469 [==============================] - 5s 11ms/step - loss: 0.1798 - accuracy: 0.9488\n",
            "Epoch 8/20\n",
            "469/469 [==============================] - 5s 11ms/step - loss: 0.1603 - accuracy: 0.9546\n",
            "Epoch 9/20\n",
            "469/469 [==============================] - 5s 11ms/step - loss: 0.1433 - accuracy: 0.9597\n",
            "Epoch 10/20\n",
            "469/469 [==============================] - 5s 11ms/step - loss: 0.1303 - accuracy: 0.9625\n",
            "Epoch 11/20\n",
            "469/469 [==============================] - 5s 11ms/step - loss: 0.1179 - accuracy: 0.9663\n",
            "Epoch 12/20\n",
            "469/469 [==============================] - 5s 11ms/step - loss: 0.1068 - accuracy: 0.9693\n",
            "Epoch 13/20\n",
            "469/469 [==============================] - 5s 11ms/step - loss: 0.0998 - accuracy: 0.9710\n",
            "Epoch 14/20\n",
            "469/469 [==============================] - 5s 11ms/step - loss: 0.0901 - accuracy: 0.9742\n",
            "Epoch 15/20\n",
            "469/469 [==============================] - 5s 11ms/step - loss: 0.0830 - accuracy: 0.9762\n",
            "Epoch 16/20\n",
            "469/469 [==============================] - 5s 11ms/step - loss: 0.0758 - accuracy: 0.9783\n",
            "Epoch 17/20\n",
            "469/469 [==============================] - 5s 11ms/step - loss: 0.0696 - accuracy: 0.9798\n",
            "Epoch 18/20\n",
            "469/469 [==============================] - 5s 11ms/step - loss: 0.0641 - accuracy: 0.9820\n",
            "Epoch 19/20\n",
            "469/469 [==============================] - 5s 11ms/step - loss: 0.0591 - accuracy: 0.9833\n",
            "Epoch 20/20\n",
            "469/469 [==============================] - 5s 11ms/step - loss: 0.0551 - accuracy: 0.9845\n"
          ]
        },
        {
          "output_type": "execute_result",
          "data": {
            "text/plain": [
              "<keras.callbacks.History at 0x7f2fb08a2fd0>"
            ]
          },
          "metadata": {},
          "execution_count": 9
        }
      ]
    },
    {
      "cell_type": "code",
      "metadata": {
        "colab": {
          "base_uri": "https://localhost:8080/"
        },
        "id": "NgGLLLji9B5E",
        "outputId": "f94ad4aa-6d58-49d2-b516-5edcbb1b85d5"
      },
      "source": [
        "score = model.evaluate(X_test, y_test, verbose=0)\n",
        "print(\"Test score:\", score[0])\n",
        "print(\"Test accuracy:\", score[1])\n"
      ],
      "execution_count": 10,
      "outputs": [
        {
          "output_type": "stream",
          "name": "stdout",
          "text": [
            "Test score: 0.10159134119749069\n",
            "Test accuracy: 0.9692999720573425\n"
          ]
        }
      ]
    },
    {
      "cell_type": "code",
      "metadata": {
        "colab": {
          "base_uri": "https://localhost:8080/"
        },
        "id": "t-ddTGcn9D00",
        "outputId": "2a7ddbff-2598-4a1c-f0fc-59f0fc8ee9be"
      },
      "source": [
        "# 9 Layers\n",
        "model = Sequential()\n",
        "model.add(Dense(2048, input_dim=X_train.shape[1], activation=\"relu\"))\n",
        "model.add(Dense(1024, activation=\"relu\"))\n",
        "model.add(Dense(512, activation=\"relu\"))\n",
        "model.add(Dense(256, activation=\"relu\"))\n",
        "model.add(Dense(128, activation=\"relu\"))\n",
        "model.add(Dense(64, activation=\"relu\"))\n",
        "model.add(Dense(32, activation=\"relu\"))\n",
        "model.add(Dense(16, activation=\"relu\"))\n",
        "model.add(Dense(10, activation=\"softmax\"))\n",
        "\n",
        "model.compile(optimizer=\"sgd\", loss=\"categorical_crossentropy\", metrics=[\"accuracy\"])\n",
        "\n",
        "model.fit(X_train, y_train, batch_size=128, epochs=20, verbose=1)\n"
      ],
      "execution_count": 11,
      "outputs": [
        {
          "output_type": "stream",
          "name": "stdout",
          "text": [
            "Epoch 1/20\n",
            "469/469 [==============================] - 42s 89ms/step - loss: 2.0738 - accuracy: 0.3304\n",
            "Epoch 2/20\n",
            "469/469 [==============================] - 44s 93ms/step - loss: 0.7792 - accuracy: 0.7678\n",
            "Epoch 3/20\n",
            "469/469 [==============================] - 43s 93ms/step - loss: 0.3829 - accuracy: 0.8889\n",
            "Epoch 4/20\n",
            "469/469 [==============================] - 43s 92ms/step - loss: 0.2653 - accuracy: 0.9269\n",
            "Epoch 5/20\n",
            "469/469 [==============================] - 43s 91ms/step - loss: 0.2098 - accuracy: 0.9417\n",
            "Epoch 6/20\n",
            "469/469 [==============================] - 43s 92ms/step - loss: 0.1665 - accuracy: 0.9533\n",
            "Epoch 7/20\n",
            "469/469 [==============================] - 43s 91ms/step - loss: 0.1388 - accuracy: 0.9606\n",
            "Epoch 8/20\n",
            "469/469 [==============================] - 42s 90ms/step - loss: 0.1172 - accuracy: 0.9672\n",
            "Epoch 9/20\n",
            "469/469 [==============================] - 43s 92ms/step - loss: 0.1019 - accuracy: 0.9709\n",
            "Epoch 10/20\n",
            "469/469 [==============================] - 42s 89ms/step - loss: 0.0859 - accuracy: 0.9758\n",
            "Epoch 11/20\n",
            "469/469 [==============================] - 43s 91ms/step - loss: 0.0754 - accuracy: 0.9785\n",
            "Epoch 12/20\n",
            "469/469 [==============================] - 43s 91ms/step - loss: 0.0645 - accuracy: 0.9821\n",
            "Epoch 13/20\n",
            "469/469 [==============================] - 41s 87ms/step - loss: 0.0570 - accuracy: 0.9842\n",
            "Epoch 14/20\n",
            "469/469 [==============================] - 42s 89ms/step - loss: 0.0482 - accuracy: 0.9869\n",
            "Epoch 15/20\n",
            "469/469 [==============================] - 42s 91ms/step - loss: 0.0396 - accuracy: 0.9899\n",
            "Epoch 16/20\n",
            "469/469 [==============================] - 43s 92ms/step - loss: 0.0332 - accuracy: 0.9918\n",
            "Epoch 17/20\n",
            "469/469 [==============================] - 43s 91ms/step - loss: 0.0270 - accuracy: 0.9933\n",
            "Epoch 18/20\n",
            "469/469 [==============================] - 41s 87ms/step - loss: 0.0232 - accuracy: 0.9945\n",
            "Epoch 19/20\n",
            "469/469 [==============================] - 41s 88ms/step - loss: 0.0213 - accuracy: 0.9951\n",
            "Epoch 20/20\n",
            "469/469 [==============================] - 42s 89ms/step - loss: 0.1097 - accuracy: 0.9847\n"
          ]
        },
        {
          "output_type": "execute_result",
          "data": {
            "text/plain": [
              "<keras.callbacks.History at 0x7f2fb0812250>"
            ]
          },
          "metadata": {},
          "execution_count": 11
        }
      ]
    },
    {
      "cell_type": "code",
      "metadata": {
        "colab": {
          "base_uri": "https://localhost:8080/"
        },
        "id": "c5-radBF9EwV",
        "outputId": "65821997-3dbd-4a15-a0eb-bb1558a70cdb"
      },
      "source": [
        "score = model.evaluate(X_test, y_test, verbose=0)\n",
        "print(\"Test score:\", score[0])\n",
        "print(\"Test accuracy:\", score[1])\n"
      ],
      "execution_count": 12,
      "outputs": [
        {
          "output_type": "stream",
          "name": "stdout",
          "text": [
            "Test score: 0.11868144571781158\n",
            "Test accuracy: 0.9700999855995178\n"
          ]
        }
      ]
    },
    {
      "cell_type": "markdown",
      "metadata": {
        "id": "23A2Peub9KT1"
      },
      "source": [
        "The most accurate model came from using 9 layers. The speed of the model was much slower. The run time of a 7 layer model was noticeably faster but performed with a worse accuracy.\n",
        "\n"
      ]
    },
    {
      "cell_type": "markdown",
      "metadata": {
        "id": "oHAH81Sz9Oc8"
      },
      "source": [
        "# Tanh activation and SGD loss\n"
      ]
    },
    {
      "cell_type": "code",
      "metadata": {
        "id": "Zk-fsMJz9N28"
      },
      "source": [
        "# 3 Layers\n",
        "model = Sequential()\n",
        "model.add(Dense(128, input_dim=X_train.shape[1], activation=\"tanh\"))\n",
        "model.add(Dense(64, activation=\"tanh\"))\n",
        "model.add(Dense(10, activation=\"softmax\"))\n"
      ],
      "execution_count": 13,
      "outputs": []
    },
    {
      "cell_type": "code",
      "metadata": {
        "id": "eYKd8s-29X0s"
      },
      "source": [
        "model.compile(optimizer=\"sgd\", loss=\"categorical_crossentropy\", metrics=[\"accuracy\"])\n"
      ],
      "execution_count": 14,
      "outputs": []
    },
    {
      "cell_type": "code",
      "metadata": {
        "colab": {
          "base_uri": "https://localhost:8080/"
        },
        "id": "1-qdvUuN9ZGl",
        "outputId": "9ca3a7e9-1544-4861-cdc9-09799e0f9e06"
      },
      "source": [
        "model.fit(X_train, y_train, batch_size=128, epochs=20, verbose=1)\n"
      ],
      "execution_count": 15,
      "outputs": [
        {
          "output_type": "stream",
          "name": "stdout",
          "text": [
            "Epoch 1/20\n",
            "469/469 [==============================] - 2s 4ms/step - loss: 1.0821 - accuracy: 0.7360\n",
            "Epoch 2/20\n",
            "469/469 [==============================] - 2s 3ms/step - loss: 0.5332 - accuracy: 0.8693\n",
            "Epoch 3/20\n",
            "469/469 [==============================] - 2s 3ms/step - loss: 0.4270 - accuracy: 0.8876\n",
            "Epoch 4/20\n",
            "469/469 [==============================] - 2s 3ms/step - loss: 0.3775 - accuracy: 0.8979\n",
            "Epoch 5/20\n",
            "469/469 [==============================] - 2s 3ms/step - loss: 0.3472 - accuracy: 0.9036\n",
            "Epoch 6/20\n",
            "469/469 [==============================] - 1s 3ms/step - loss: 0.3257 - accuracy: 0.9090\n",
            "Epoch 7/20\n",
            "469/469 [==============================] - 1s 3ms/step - loss: 0.3091 - accuracy: 0.9131\n",
            "Epoch 8/20\n",
            "469/469 [==============================] - 1s 3ms/step - loss: 0.2954 - accuracy: 0.9164\n",
            "Epoch 9/20\n",
            "469/469 [==============================] - 2s 3ms/step - loss: 0.2839 - accuracy: 0.9200\n",
            "Epoch 10/20\n",
            "469/469 [==============================] - 2s 3ms/step - loss: 0.2736 - accuracy: 0.9226\n",
            "Epoch 11/20\n",
            "469/469 [==============================] - 2s 4ms/step - loss: 0.2644 - accuracy: 0.9252\n",
            "Epoch 12/20\n",
            "469/469 [==============================] - 2s 3ms/step - loss: 0.2559 - accuracy: 0.9273\n",
            "Epoch 13/20\n",
            "469/469 [==============================] - 2s 3ms/step - loss: 0.2482 - accuracy: 0.9296\n",
            "Epoch 14/20\n",
            "469/469 [==============================] - 1s 3ms/step - loss: 0.2408 - accuracy: 0.9320\n",
            "Epoch 15/20\n",
            "469/469 [==============================] - 1s 3ms/step - loss: 0.2342 - accuracy: 0.9337\n",
            "Epoch 16/20\n",
            "469/469 [==============================] - 2s 3ms/step - loss: 0.2278 - accuracy: 0.9357\n",
            "Epoch 17/20\n",
            "469/469 [==============================] - 2s 3ms/step - loss: 0.2218 - accuracy: 0.9372\n",
            "Epoch 18/20\n",
            "469/469 [==============================] - 2s 3ms/step - loss: 0.2161 - accuracy: 0.9387\n",
            "Epoch 19/20\n",
            "469/469 [==============================] - 2s 3ms/step - loss: 0.2108 - accuracy: 0.9403\n",
            "Epoch 20/20\n",
            "469/469 [==============================] - 2s 3ms/step - loss: 0.2056 - accuracy: 0.9415\n"
          ]
        },
        {
          "output_type": "execute_result",
          "data": {
            "text/plain": [
              "<keras.callbacks.History at 0x7f2fb05c6a10>"
            ]
          },
          "metadata": {},
          "execution_count": 15
        }
      ]
    },
    {
      "cell_type": "code",
      "metadata": {
        "colab": {
          "base_uri": "https://localhost:8080/"
        },
        "id": "vnLueM3G9apG",
        "outputId": "5e297df5-3150-4bcf-99b0-f3ceb5ba748f"
      },
      "source": [
        "score = model.evaluate(X_test, y_test, verbose=0)\n",
        "print(\"Test score:\", score[0])\n",
        "print(\"Test accuracy:\", score[1])\n"
      ],
      "execution_count": 16,
      "outputs": [
        {
          "output_type": "stream",
          "name": "stdout",
          "text": [
            "Test score: 0.20351992547512054\n",
            "Test accuracy: 0.9422000050544739\n"
          ]
        }
      ]
    },
    {
      "cell_type": "code",
      "metadata": {
        "colab": {
          "base_uri": "https://localhost:8080/"
        },
        "id": "xt3VeELJ9cje",
        "outputId": "36b07800-fcec-4041-b220-02c0e8918cc6"
      },
      "source": [
        "# 5 Layers\n",
        "model = Sequential()\n",
        "model.add(Dense(128, input_dim=X_train.shape[1], activation=\"tanh\"))\n",
        "model.add(Dense(64, activation=\"tanh\"))\n",
        "model.add(Dense(32, activation=\"tanh\"))\n",
        "model.add(Dense(16, activation=\"tanh\"))\n",
        "model.add(Dense(10, activation=\"softmax\"))\n",
        "\n",
        "model.compile(optimizer=\"sgd\", loss=\"categorical_crossentropy\", metrics=[\"accuracy\"])\n",
        "\n",
        "model.fit(X_train, y_train, batch_size=128, epochs=20, verbose=1)\n"
      ],
      "execution_count": 17,
      "outputs": [
        {
          "output_type": "stream",
          "name": "stdout",
          "text": [
            "Epoch 1/20\n",
            "469/469 [==============================] - 2s 4ms/step - loss: 1.3446 - accuracy: 0.6661\n",
            "Epoch 2/20\n",
            "469/469 [==============================] - 2s 3ms/step - loss: 0.7702 - accuracy: 0.8376\n",
            "Epoch 3/20\n",
            "469/469 [==============================] - 2s 3ms/step - loss: 0.5641 - accuracy: 0.8742\n",
            "Epoch 4/20\n",
            "469/469 [==============================] - 2s 4ms/step - loss: 0.4588 - accuracy: 0.8913\n",
            "Epoch 5/20\n",
            "469/469 [==============================] - 2s 3ms/step - loss: 0.3959 - accuracy: 0.9019\n",
            "Epoch 6/20\n",
            "469/469 [==============================] - 2s 3ms/step - loss: 0.3536 - accuracy: 0.9097\n",
            "Epoch 7/20\n",
            "469/469 [==============================] - 2s 3ms/step - loss: 0.3223 - accuracy: 0.9160\n",
            "Epoch 8/20\n",
            "469/469 [==============================] - 2s 3ms/step - loss: 0.2979 - accuracy: 0.9211\n",
            "Epoch 9/20\n",
            "469/469 [==============================] - 2s 3ms/step - loss: 0.2779 - accuracy: 0.9256\n",
            "Epoch 10/20\n",
            "469/469 [==============================] - 2s 4ms/step - loss: 0.2611 - accuracy: 0.9300\n",
            "Epoch 11/20\n",
            "469/469 [==============================] - 2s 3ms/step - loss: 0.2466 - accuracy: 0.9337\n",
            "Epoch 12/20\n",
            "469/469 [==============================] - 2s 3ms/step - loss: 0.2340 - accuracy: 0.9367\n",
            "Epoch 13/20\n",
            "469/469 [==============================] - 2s 3ms/step - loss: 0.2225 - accuracy: 0.9398\n",
            "Epoch 14/20\n",
            "469/469 [==============================] - 2s 3ms/step - loss: 0.2119 - accuracy: 0.9424\n",
            "Epoch 15/20\n",
            "469/469 [==============================] - 2s 4ms/step - loss: 0.2026 - accuracy: 0.9449\n",
            "Epoch 16/20\n",
            "469/469 [==============================] - 2s 3ms/step - loss: 0.1939 - accuracy: 0.9465\n",
            "Epoch 17/20\n",
            "469/469 [==============================] - 2s 4ms/step - loss: 0.1858 - accuracy: 0.9493\n",
            "Epoch 18/20\n",
            "469/469 [==============================] - 2s 4ms/step - loss: 0.1783 - accuracy: 0.9515\n",
            "Epoch 19/20\n",
            "469/469 [==============================] - 2s 4ms/step - loss: 0.1713 - accuracy: 0.9530\n",
            "Epoch 20/20\n",
            "469/469 [==============================] - 2s 4ms/step - loss: 0.1648 - accuracy: 0.9550\n"
          ]
        },
        {
          "output_type": "execute_result",
          "data": {
            "text/plain": [
              "<keras.callbacks.History at 0x7f2fb0b5df10>"
            ]
          },
          "metadata": {},
          "execution_count": 17
        }
      ]
    },
    {
      "cell_type": "code",
      "metadata": {
        "colab": {
          "base_uri": "https://localhost:8080/"
        },
        "id": "hQARLOYw9eQs",
        "outputId": "e4321c91-5f31-4901-914e-a447589c5d8c"
      },
      "source": [
        "score = model.evaluate(X_test, y_test, verbose=0)\n",
        "print(\"Test score:\", score[0])\n",
        "print(\"Test accuracy:\", score[1])\n"
      ],
      "execution_count": 18,
      "outputs": [
        {
          "output_type": "stream",
          "name": "stdout",
          "text": [
            "Test score: 0.17027774453163147\n",
            "Test accuracy: 0.9498999714851379\n"
          ]
        }
      ]
    },
    {
      "cell_type": "code",
      "metadata": {
        "colab": {
          "base_uri": "https://localhost:8080/"
        },
        "id": "AOcd488y9ekd",
        "outputId": "099cdff8-8c99-4852-8a04-2e09d8bc4d07"
      },
      "source": [
        "# 7 Layers\n",
        "model = Sequential()\n",
        "model.add(Dense(512, input_dim=X_train.shape[1], activation=\"tanh\"))\n",
        "model.add(Dense(256, activation=\"tanh\"))\n",
        "model.add(Dense(128, activation=\"tanh\"))\n",
        "model.add(Dense(64, activation=\"tanh\"))\n",
        "model.add(Dense(32, activation=\"tanh\"))\n",
        "model.add(Dense(16, activation=\"tanh\"))\n",
        "model.add(Dense(10, activation=\"softmax\"))\n",
        "\n",
        "model.compile(optimizer=\"sgd\", loss=\"categorical_crossentropy\", metrics=[\"accuracy\"])\n",
        "\n",
        "model.fit(X_train, y_train, batch_size=128, epochs=20, verbose=1)\n"
      ],
      "execution_count": 19,
      "outputs": [
        {
          "output_type": "stream",
          "name": "stdout",
          "text": [
            "Epoch 1/20\n",
            "469/469 [==============================] - 5s 11ms/step - loss: 1.2148 - accuracy: 0.7202\n",
            "Epoch 2/20\n",
            "469/469 [==============================] - 5s 11ms/step - loss: 0.6218 - accuracy: 0.8772\n",
            "Epoch 3/20\n",
            "469/469 [==============================] - 5s 11ms/step - loss: 0.4403 - accuracy: 0.9023\n",
            "Epoch 4/20\n",
            "469/469 [==============================] - 5s 11ms/step - loss: 0.3568 - accuracy: 0.9151\n",
            "Epoch 5/20\n",
            "469/469 [==============================] - 5s 11ms/step - loss: 0.3073 - accuracy: 0.9235\n",
            "Epoch 6/20\n",
            "469/469 [==============================] - 5s 11ms/step - loss: 0.2728 - accuracy: 0.9306\n",
            "Epoch 7/20\n",
            "469/469 [==============================] - 5s 11ms/step - loss: 0.2470 - accuracy: 0.9371\n",
            "Epoch 8/20\n",
            "469/469 [==============================] - 5s 11ms/step - loss: 0.2256 - accuracy: 0.9414\n",
            "Epoch 9/20\n",
            "469/469 [==============================] - 5s 12ms/step - loss: 0.2076 - accuracy: 0.9460\n",
            "Epoch 10/20\n",
            "469/469 [==============================] - 5s 12ms/step - loss: 0.1918 - accuracy: 0.9490\n",
            "Epoch 11/20\n",
            "469/469 [==============================] - 5s 11ms/step - loss: 0.1785 - accuracy: 0.9528\n",
            "Epoch 12/20\n",
            "469/469 [==============================] - 5s 11ms/step - loss: 0.1666 - accuracy: 0.9561\n",
            "Epoch 13/20\n",
            "469/469 [==============================] - 5s 11ms/step - loss: 0.1558 - accuracy: 0.9595\n",
            "Epoch 14/20\n",
            "469/469 [==============================] - 5s 11ms/step - loss: 0.1461 - accuracy: 0.9616\n",
            "Epoch 15/20\n",
            "469/469 [==============================] - 5s 11ms/step - loss: 0.1377 - accuracy: 0.9639\n",
            "Epoch 16/20\n",
            "469/469 [==============================] - 5s 11ms/step - loss: 0.1301 - accuracy: 0.9660\n",
            "Epoch 17/20\n",
            "469/469 [==============================] - 5s 11ms/step - loss: 0.1226 - accuracy: 0.9684\n",
            "Epoch 18/20\n",
            "469/469 [==============================] - 5s 11ms/step - loss: 0.1162 - accuracy: 0.9696\n",
            "Epoch 19/20\n",
            "469/469 [==============================] - 5s 11ms/step - loss: 0.1105 - accuracy: 0.9714\n",
            "Epoch 20/20\n",
            "469/469 [==============================] - 5s 10ms/step - loss: 0.1047 - accuracy: 0.9732\n"
          ]
        },
        {
          "output_type": "execute_result",
          "data": {
            "text/plain": [
              "<keras.callbacks.History at 0x7f2fb0437210>"
            ]
          },
          "metadata": {},
          "execution_count": 19
        }
      ]
    },
    {
      "cell_type": "code",
      "metadata": {
        "colab": {
          "base_uri": "https://localhost:8080/"
        },
        "id": "W8ah0qJn9gRd",
        "outputId": "0d312771-4fea-4327-bf29-6f23a2353c71"
      },
      "source": [
        "score = model.evaluate(X_test, y_test, verbose=0)\n",
        "print(\"Test score:\", score[0])\n",
        "print(\"Test accuracy:\", score[1])\n"
      ],
      "execution_count": 20,
      "outputs": [
        {
          "output_type": "stream",
          "name": "stdout",
          "text": [
            "Test score: 0.12417525798082352\n",
            "Test accuracy: 0.9650999903678894\n"
          ]
        }
      ]
    },
    {
      "cell_type": "code",
      "metadata": {
        "colab": {
          "base_uri": "https://localhost:8080/"
        },
        "id": "QMQzEIlD9i_9",
        "outputId": "9dfeb2ea-e7cc-419c-c10b-1fea4e061a23"
      },
      "source": [
        "# 9 Layers\n",
        "model = Sequential()\n",
        "model.add(Dense(2048, input_dim=X_train.shape[1], activation=\"tanh\"))\n",
        "model.add(Dense(1024, activation=\"tanh\"))\n",
        "model.add(Dense(512, activation=\"tanh\"))\n",
        "model.add(Dense(256, activation=\"tanh\"))\n",
        "model.add(Dense(128, activation=\"tanh\"))\n",
        "model.add(Dense(64, activation=\"tanh\"))\n",
        "model.add(Dense(32, activation=\"tanh\"))\n",
        "model.add(Dense(16, activation=\"tanh\"))\n",
        "model.add(Dense(10, activation=\"softmax\"))\n",
        "\n",
        "model.compile(optimizer=\"sgd\", loss=\"categorical_crossentropy\", metrics=[\"accuracy\"])\n",
        "\n",
        "model.fit(X_train, y_train, batch_size=128, epochs=20, verbose=1)\n"
      ],
      "execution_count": 21,
      "outputs": [
        {
          "output_type": "stream",
          "name": "stdout",
          "text": [
            "Epoch 1/20\n",
            "469/469 [==============================] - 43s 91ms/step - loss: 0.9482 - accuracy: 0.8125\n",
            "Epoch 2/20\n",
            "469/469 [==============================] - 43s 92ms/step - loss: 0.4863 - accuracy: 0.9001\n",
            "Epoch 3/20\n",
            "469/469 [==============================] - 43s 91ms/step - loss: 0.3564 - accuracy: 0.9186\n",
            "Epoch 4/20\n",
            "469/469 [==============================] - 44s 94ms/step - loss: 0.2904 - accuracy: 0.9310\n",
            "Epoch 5/20\n",
            "469/469 [==============================] - 42s 90ms/step - loss: 0.2484 - accuracy: 0.9388\n",
            "Epoch 6/20\n",
            "469/469 [==============================] - 42s 89ms/step - loss: 0.2168 - accuracy: 0.9457\n",
            "Epoch 7/20\n",
            "469/469 [==============================] - 42s 90ms/step - loss: 0.1928 - accuracy: 0.9512\n",
            "Epoch 8/20\n",
            "469/469 [==============================] - 43s 92ms/step - loss: 0.1719 - accuracy: 0.9569\n",
            "Epoch 9/20\n",
            "469/469 [==============================] - 44s 94ms/step - loss: 0.1546 - accuracy: 0.9602\n",
            "Epoch 10/20\n",
            "469/469 [==============================] - 44s 93ms/step - loss: 0.1395 - accuracy: 0.9640\n",
            "Epoch 11/20\n",
            "469/469 [==============================] - 44s 94ms/step - loss: 0.1273 - accuracy: 0.9682\n",
            "Epoch 12/20\n",
            "469/469 [==============================] - 43s 91ms/step - loss: 0.1162 - accuracy: 0.9705\n",
            "Epoch 13/20\n",
            "469/469 [==============================] - 42s 91ms/step - loss: 0.1069 - accuracy: 0.9730\n",
            "Epoch 14/20\n",
            "469/469 [==============================] - 44s 93ms/step - loss: 0.0988 - accuracy: 0.9756\n",
            "Epoch 15/20\n",
            "469/469 [==============================] - 44s 93ms/step - loss: 0.0910 - accuracy: 0.9783\n",
            "Epoch 16/20\n",
            "469/469 [==============================] - 44s 94ms/step - loss: 0.0844 - accuracy: 0.9800\n",
            "Epoch 17/20\n",
            "469/469 [==============================] - 43s 92ms/step - loss: 0.0786 - accuracy: 0.9809\n",
            "Epoch 18/20\n",
            "469/469 [==============================] - 45s 95ms/step - loss: 0.0737 - accuracy: 0.9824\n",
            "Epoch 19/20\n",
            "469/469 [==============================] - 44s 94ms/step - loss: 0.0689 - accuracy: 0.9836\n",
            "Epoch 20/20\n",
            "469/469 [==============================] - 44s 94ms/step - loss: 0.0644 - accuracy: 0.9848\n"
          ]
        },
        {
          "output_type": "execute_result",
          "data": {
            "text/plain": [
              "<keras.callbacks.History at 0x7f2fa7b22f50>"
            ]
          },
          "metadata": {},
          "execution_count": 21
        }
      ]
    },
    {
      "cell_type": "code",
      "metadata": {
        "colab": {
          "base_uri": "https://localhost:8080/"
        },
        "id": "dBfGYPSB9mo1",
        "outputId": "33e56b34-a4d1-459b-a547-07de53092d0b"
      },
      "source": [
        "score = model.evaluate(X_test, y_test, verbose=0)\n",
        "print(\"Test score:\", score[0])\n",
        "print(\"Test accuracy:\", score[1])\n"
      ],
      "execution_count": 22,
      "outputs": [
        {
          "output_type": "stream",
          "name": "stdout",
          "text": [
            "Test score: 0.09245689958333969\n",
            "Test accuracy: 0.973800003528595\n"
          ]
        }
      ]
    },
    {
      "cell_type": "markdown",
      "metadata": {
        "id": "e1XmBTTj-SOt"
      },
      "source": [
        "The model with 9 layers had the best test accuracy, however it was noticeably slower. Additionally, the accuracy was only better by around 0.01. Using tanh activation provided very similar results and the accuracy was just barely lower than when using ReLU.\n",
        "\n"
      ]
    },
    {
      "cell_type": "markdown",
      "metadata": {
        "id": "B5ewmij492Qu"
      },
      "source": [
        "# Sigmoid activation and SGD loss¶\n"
      ]
    },
    {
      "cell_type": "code",
      "metadata": {
        "colab": {
          "base_uri": "https://localhost:8080/"
        },
        "id": "WvWSJeiR91uG",
        "outputId": "7f774cae-2fdc-4704-ac67-38426acdb511"
      },
      "source": [
        "# 3 Layers\n",
        "model = Sequential()\n",
        "model.add(Dense(128, input_dim=X_train.shape[1], activation=\"sigmoid\"))\n",
        "model.add(Dense(64, activation=\"sigmoid\"))\n",
        "model.add(Dense(10, activation=\"softmax\"))\n",
        "\n",
        "model.compile(optimizer=\"sgd\", loss=\"categorical_crossentropy\", metrics=[\"accuracy\"])\n",
        "model.fit(X_train, y_train, batch_size=128, epochs=20, verbose=1)\n"
      ],
      "execution_count": 23,
      "outputs": [
        {
          "output_type": "stream",
          "name": "stdout",
          "text": [
            "Epoch 1/20\n",
            "469/469 [==============================] - 2s 4ms/step - loss: 2.2785 - accuracy: 0.1497\n",
            "Epoch 2/20\n",
            "469/469 [==============================] - 2s 3ms/step - loss: 2.2191 - accuracy: 0.3472\n",
            "Epoch 3/20\n",
            "469/469 [==============================] - 2s 3ms/step - loss: 2.1490 - accuracy: 0.5147\n",
            "Epoch 4/20\n",
            "469/469 [==============================] - 2s 3ms/step - loss: 2.0495 - accuracy: 0.5922\n",
            "Epoch 5/20\n",
            "469/469 [==============================] - 2s 3ms/step - loss: 1.9096 - accuracy: 0.6316\n",
            "Epoch 6/20\n",
            "469/469 [==============================] - 2s 3ms/step - loss: 1.7323 - accuracy: 0.6595\n",
            "Epoch 7/20\n",
            "469/469 [==============================] - 2s 3ms/step - loss: 1.5395 - accuracy: 0.6862\n",
            "Epoch 8/20\n",
            "469/469 [==============================] - 2s 4ms/step - loss: 1.3595 - accuracy: 0.7127\n",
            "Epoch 9/20\n",
            "469/469 [==============================] - 2s 3ms/step - loss: 1.2077 - accuracy: 0.7352\n",
            "Epoch 10/20\n",
            "469/469 [==============================] - 2s 3ms/step - loss: 1.0847 - accuracy: 0.7540\n",
            "Epoch 11/20\n",
            "469/469 [==============================] - 2s 3ms/step - loss: 0.9852 - accuracy: 0.7726\n",
            "Epoch 12/20\n",
            "469/469 [==============================] - 2s 4ms/step - loss: 0.9034 - accuracy: 0.7882\n",
            "Epoch 13/20\n",
            "469/469 [==============================] - 2s 3ms/step - loss: 0.8353 - accuracy: 0.8008\n",
            "Epoch 14/20\n",
            "469/469 [==============================] - 2s 3ms/step - loss: 0.7780 - accuracy: 0.8108\n",
            "Epoch 15/20\n",
            "469/469 [==============================] - 2s 4ms/step - loss: 0.7293 - accuracy: 0.8207\n",
            "Epoch 16/20\n",
            "469/469 [==============================] - 2s 3ms/step - loss: 0.6879 - accuracy: 0.8289\n",
            "Epoch 17/20\n",
            "469/469 [==============================] - 2s 4ms/step - loss: 0.6523 - accuracy: 0.8358\n",
            "Epoch 18/20\n",
            "469/469 [==============================] - 2s 4ms/step - loss: 0.6215 - accuracy: 0.8426\n",
            "Epoch 19/20\n",
            "469/469 [==============================] - 2s 3ms/step - loss: 0.5948 - accuracy: 0.8478\n",
            "Epoch 20/20\n",
            "469/469 [==============================] - 2s 3ms/step - loss: 0.5713 - accuracy: 0.8528\n"
          ]
        },
        {
          "output_type": "execute_result",
          "data": {
            "text/plain": [
              "<keras.callbacks.History at 0x7f2fa7968e50>"
            ]
          },
          "metadata": {},
          "execution_count": 23
        }
      ]
    },
    {
      "cell_type": "code",
      "metadata": {
        "id": "Mv2Di1tc981l"
      },
      "source": [
        "score = model.evaluate(X_test, y_test, verbose=0)\n",
        "print(\"Test score:\", score[0])\n",
        "print(\"Test accuracy:\", score[1])\n"
      ],
      "execution_count": null,
      "outputs": []
    },
    {
      "cell_type": "code",
      "metadata": {
        "id": "xRHFilFW9_tE"
      },
      "source": [
        "# 5 Layers\n",
        "model = Sequential()\n",
        "model.add(Dense(128, input_dim=X_train.shape[1], activation=\"sigmoid\"))\n",
        "model.add(Dense(64, activation=\"sigmoid\"))\n",
        "model.add(Dense(32, activation=\"sigmoid\"))\n",
        "model.add(Dense(16, activation=\"sigmoid\"))\n",
        "model.add(Dense(10, activation=\"softmax\"))\n",
        "\n",
        "model.compile(optimizer=\"sgd\", loss=\"categorical_crossentropy\", metrics=[\"accuracy\"])\n",
        "\n",
        "model.fit(X_train, y_train, batch_size=128, epochs=20, verbose=1)\n"
      ],
      "execution_count": null,
      "outputs": []
    },
    {
      "cell_type": "code",
      "metadata": {
        "colab": {
          "base_uri": "https://localhost:8080/"
        },
        "id": "lbahrZi8-B_t",
        "outputId": "b6a6d9e0-5a0a-435a-d4b9-bae684781c4c"
      },
      "source": [
        "score = model.evaluate(X_test, y_test, verbose=0)\n",
        "print(\"Test score:\", score[0])\n",
        "print(\"Test accuracy:\", score[1])\n"
      ],
      "execution_count": 26,
      "outputs": [
        {
          "output_type": "stream",
          "name": "stdout",
          "text": [
            "Test score: 2.2970941066741943\n",
            "Test accuracy: 0.11349999904632568\n"
          ]
        }
      ]
    },
    {
      "cell_type": "code",
      "metadata": {
        "id": "ykVz95S2-DjI"
      },
      "source": [
        "# 7 Layers\n",
        "model = Sequential()\n",
        "model.add(Dense(512, input_dim=X_train.shape[1], activation=\"sigmoid\"))\n",
        "model.add(Dense(256, activation=\"sigmoid\"))\n",
        "model.add(Dense(128, activation=\"sigmoid\"))\n",
        "model.add(Dense(64, activation=\"sigmoid\"))\n",
        "model.add(Dense(32, activation=\"sigmoid\"))\n",
        "model.add(Dense(16, activation=\"sigmoid\"))\n",
        "model.add(Dense(10, activation=\"softmax\"))\n",
        "\n",
        "model.compile(optimizer=\"sgd\", loss=\"categorical_crossentropy\", metrics=[\"accuracy\"])\n",
        "\n",
        "model.fit(X_train, y_train, batch_size=128, epochs=20, verbose=1)\n"
      ],
      "execution_count": null,
      "outputs": []
    },
    {
      "cell_type": "code",
      "metadata": {
        "id": "vfNtTUry-FOt"
      },
      "source": [
        "score = model.evaluate(X_test, y_test, verbose=0)\n",
        "print(\"Test score:\", score[0])\n",
        "print(\"Test accuracy:\", score[1])\n"
      ],
      "execution_count": null,
      "outputs": []
    },
    {
      "cell_type": "code",
      "metadata": {
        "id": "InVtspCJ-Gxd"
      },
      "source": [
        "# 9 Layers\n",
        "model = Sequential()\n",
        "model.add(Dense(2048, input_dim=X_train.shape[1], activation=\"sigmoid\"))\n",
        "model.add(Dense(1024, activation=\"sigmoid\"))\n",
        "model.add(Dense(512, activation=\"sigmoid\"))\n",
        "model.add(Dense(256, activation=\"sigmoid\"))\n",
        "model.add(Dense(128, activation=\"sigmoid\"))\n",
        "model.add(Dense(64, activation=\"sigmoid\"))\n",
        "model.add(Dense(32, activation=\"sigmoid\"))\n",
        "model.add(Dense(16, activation=\"sigmoid\"))\n",
        "model.add(Dense(10, activation=\"softmax\"))\n",
        "\n",
        "model.compile(optimizer=\"sgd\", loss=\"categorical_crossentropy\", metrics=[\"accuracy\"])\n",
        "\n",
        "model.fit(X_train, y_train, batch_size=128, epochs=20, verbose=1)\n"
      ],
      "execution_count": null,
      "outputs": []
    },
    {
      "cell_type": "code",
      "metadata": {
        "id": "QVuO3bHx-IpJ"
      },
      "source": [
        "score = model.evaluate(X_test, y_test, verbose=0)\n",
        "print(\"Test score:\", score[0])\n",
        "print(\"Test accuracy:\", score[1])\n"
      ],
      "execution_count": null,
      "outputs": []
    },
    {
      "cell_type": "markdown",
      "metadata": {
        "id": "xX6ayGic-KJe"
      },
      "source": [
        "The test accuracy for the sigmoid tests are all pretty low. It appears using sigmoid activation is not a good idea for this model.\n",
        "\n"
      ]
    },
    {
      "cell_type": "markdown",
      "metadata": {
        "id": "mq5WpCBQ-0Gm"
      },
      "source": [
        "#ReLU activation and SGD loss Changing Batch Sizes¶\n"
      ]
    },
    {
      "cell_type": "code",
      "metadata": {
        "id": "yHO1jc0W-1an"
      },
      "source": [
        "# Using 64 as a batch size\n",
        "model = Sequential()\n",
        "model.add(Dense(512, input_dim=X_train.shape[1], activation=\"relu\"))\n",
        "model.add(Dense(256, activation=\"relu\"))\n",
        "model.add(Dense(128, activation=\"relu\"))\n",
        "model.add(Dense(64, activation=\"relu\"))\n",
        "model.add(Dense(32, activation=\"relu\"))\n",
        "model.add(Dense(16, activation=\"relu\"))\n",
        "model.add(Dense(10, activation=\"softmax\"))\n",
        "\n",
        "model.compile(optimizer=\"sgd\", loss=\"categorical_crossentropy\", metrics=[\"accuracy\"])\n",
        "\n",
        "model.fit(X_train, y_train, batch_size=64, epochs=20, verbose=1)\n"
      ],
      "execution_count": null,
      "outputs": []
    },
    {
      "cell_type": "code",
      "metadata": {
        "id": "hFjxv6oQ-4e2"
      },
      "source": [
        "score = model.evaluate(X_test, y_test, verbose=0)\n",
        "print(\"Test score:\", score[0])\n",
        "print(\"Test accuracy:\", score[1])\n"
      ],
      "execution_count": null,
      "outputs": []
    },
    {
      "cell_type": "code",
      "metadata": {
        "id": "Fx1d_g1p-6aZ"
      },
      "source": [
        "# Using 32 as a batch size\n",
        "model = Sequential()\n",
        "model.add(Dense(512, input_dim=X_train.shape[1], activation=\"relu\"))\n",
        "model.add(Dense(256, activation=\"relu\"))\n",
        "model.add(Dense(128, activation=\"relu\"))\n",
        "model.add(Dense(64, activation=\"relu\"))\n",
        "model.add(Dense(32, activation=\"relu\"))\n",
        "model.add(Dense(16, activation=\"relu\"))\n",
        "model.add(Dense(10, activation=\"softmax\"))\n",
        "\n",
        "model.compile(optimizer=\"sgd\", loss=\"categorical_crossentropy\", metrics=[\"accuracy\"])\n",
        "\n",
        "model.fit(X_train, y_train, batch_size=32, epochs=20, verbose=1)\n"
      ],
      "execution_count": null,
      "outputs": []
    },
    {
      "cell_type": "code",
      "metadata": {
        "id": "ZOyBcu2--9ym"
      },
      "source": [
        "score = model.evaluate(X_test, y_test, verbose=0)\n",
        "print(\"Test score:\", score[0])\n",
        "print(\"Test accuracy:\", score[1])\n"
      ],
      "execution_count": null,
      "outputs": []
    },
    {
      "cell_type": "code",
      "metadata": {
        "id": "vDQtg0wA-_y_"
      },
      "source": [
        "# Using 16 as a batch size\n",
        "model = Sequential()\n",
        "model.add(Dense(512, input_dim=X_train.shape[1], activation=\"relu\"))\n",
        "model.add(Dense(256, activation=\"relu\"))\n",
        "model.add(Dense(128, activation=\"relu\"))\n",
        "model.add(Dense(64, activation=\"relu\"))\n",
        "model.add(Dense(32, activation=\"relu\"))\n",
        "model.add(Dense(16, activation=\"relu\"))\n",
        "model.add(Dense(10, activation=\"softmax\"))\n",
        "\n",
        "model.compile(optimizer=\"sgd\", loss=\"categorical_crossentropy\", metrics=[\"accuracy\"])\n",
        "\n",
        "model.fit(X_train, y_train, batch_size=16, epochs=20, verbose=1)\n"
      ],
      "execution_count": null,
      "outputs": []
    },
    {
      "cell_type": "code",
      "metadata": {
        "id": "MUaYxHsR_ATQ"
      },
      "source": [
        "score = model.evaluate(X_test, y_test, verbose=0)\n",
        "print(\"Test score:\", score[0])\n",
        "print(\"Test accuracy:\", score[1])\n"
      ],
      "execution_count": null,
      "outputs": []
    },
    {
      "cell_type": "code",
      "metadata": {
        "id": "qL_rJbzo_CxN"
      },
      "source": [
        "# Using 8 as a batch size\n",
        "model = Sequential()\n",
        "model.add(Dense(512, input_dim=X_train.shape[1], activation=\"relu\"))\n",
        "model.add(Dense(256, activation=\"relu\"))\n",
        "model.add(Dense(128, activation=\"relu\"))\n",
        "model.add(Dense(64, activation=\"relu\"))\n",
        "model.add(Dense(32, activation=\"relu\"))\n",
        "model.add(Dense(16, activation=\"relu\"))\n",
        "model.add(Dense(10, activation=\"softmax\"))\n",
        "\n",
        "model.compile(optimizer=\"sgd\", loss=\"categorical_crossentropy\", metrics=[\"accuracy\"])\n",
        "\n",
        "model.fit(X_train, y_train, batch_size=8, epochs=20, verbose=1)\n"
      ],
      "execution_count": null,
      "outputs": []
    },
    {
      "cell_type": "code",
      "metadata": {
        "id": "ZN4r3J40_E3I"
      },
      "source": [
        "score = model.evaluate(X_test, y_test, verbose=0)\n",
        "print(\"Test score:\", score[0])\n",
        "print(\"Test accuracy:\", score[1])\n"
      ],
      "execution_count": null,
      "outputs": []
    },
    {
      "cell_type": "markdown",
      "metadata": {
        "id": "dklIpGbF_OwP"
      },
      "source": [
        "The score increases as the batch size decreases, however the run time increases as well. It was more noticeable when the batch size got to 16 and lower. The best score was obtained from using a batch size of 8, but it took more than twice the time.\n",
        "\n",
        "Choosing between batch sizes, I would recommend using a batch size of 64 because it provides an accuracy that is almost just as good as having a batch size of 8 but also executing in less than half the time it took for the 8 batch size model to run.\n",
        "\n"
      ]
    },
    {
      "cell_type": "markdown",
      "metadata": {
        "id": "Pfe8N4cP_R-w"
      },
      "source": [
        "# ReLU Activation, SGD Loss, Batchsize of 64, and Changing the Amount of Neurons¶\n"
      ]
    },
    {
      "cell_type": "code",
      "metadata": {
        "id": "5p30Hndl_Gs2"
      },
      "source": [
        "# Having constant amount of 32 neurons throughout entire model until output layer\n",
        "model = Sequential()\n",
        "model.add(Dense(32, input_dim=X_train.shape[1], activation=\"relu\"))\n",
        "model.add(Dense(32, activation=\"relu\"))\n",
        "model.add(Dense(32, activation=\"relu\"))\n",
        "model.add(Dense(32, activation=\"relu\"))\n",
        "model.add(Dense(32, activation=\"relu\"))\n",
        "model.add(Dense(32, activation=\"relu\"))\n",
        "model.add(Dense(10, activation=\"softmax\"))\n",
        "\n",
        "model.compile(optimizer=\"sgd\", loss=\"categorical_crossentropy\", metrics=[\"accuracy\"])\n",
        "\n",
        "model.fit(X_train, y_train, batch_size=64, epochs=20, verbose=1)\n"
      ],
      "execution_count": null,
      "outputs": []
    },
    {
      "cell_type": "code",
      "metadata": {
        "id": "UgHSEsDz_Ur0"
      },
      "source": [
        "score = model.evaluate(X_test, y_test, verbose=0)\n",
        "print(\"Test score:\", score[0])\n",
        "print(\"Test accuracy:\", score[1])\n"
      ],
      "execution_count": null,
      "outputs": []
    },
    {
      "cell_type": "code",
      "metadata": {
        "id": "tC4Vp4Ii_WpC"
      },
      "source": [
        "# Having constant amount of 64 neurons throughout entire model until output layer\n",
        "model = Sequential()\n",
        "model.add(Dense(64, input_dim=X_train.shape[1], activation=\"relu\"))\n",
        "model.add(Dense(64, activation=\"relu\"))\n",
        "model.add(Dense(64, activation=\"relu\"))\n",
        "model.add(Dense(64, activation=\"relu\"))\n",
        "model.add(Dense(64, activation=\"relu\"))\n",
        "model.add(Dense(64, activation=\"relu\"))\n",
        "model.add(Dense(10, activation=\"softmax\"))\n",
        "\n",
        "model.compile(optimizer=\"sgd\", loss=\"categorical_crossentropy\", metrics=[\"accuracy\"])\n",
        "\n",
        "model.fit(X_train, y_train, batch_size=64, epochs=20, verbose=1)\n"
      ],
      "execution_count": null,
      "outputs": []
    },
    {
      "cell_type": "code",
      "metadata": {
        "id": "XuoWXki-_WsI"
      },
      "source": [
        "score = model.evaluate(X_test, y_test, verbose=0)\n",
        "print(\"Test score:\", score[0])\n",
        "print(\"Test accuracy:\", score[1])\n"
      ],
      "execution_count": null,
      "outputs": []
    },
    {
      "cell_type": "code",
      "metadata": {
        "id": "nyFkTHcg_WuJ"
      },
      "source": [
        "# Having constant amount of 128 neurons throughout entire model until output layer\n",
        "model = Sequential()\n",
        "model.add(Dense(128, input_dim=X_train.shape[1], activation=\"relu\"))\n",
        "model.add(Dense(128, activation=\"relu\"))\n",
        "model.add(Dense(128, activation=\"relu\"))\n",
        "model.add(Dense(128, activation=\"relu\"))\n",
        "model.add(Dense(128, activation=\"relu\"))\n",
        "model.add(Dense(128, activation=\"relu\"))\n",
        "model.add(Dense(10, activation=\"softmax\"))\n",
        "\n",
        "model.compile(optimizer=\"sgd\", loss=\"categorical_crossentropy\", metrics=[\"accuracy\"])\n",
        "\n",
        "model.fit(X_train, y_train, batch_size=64, epochs=20, verbose=1)\n"
      ],
      "execution_count": null,
      "outputs": []
    },
    {
      "cell_type": "code",
      "metadata": {
        "id": "ZvA-2jmj_co-"
      },
      "source": [
        "score = model.evaluate(X_test, y_test, verbose=0)\n",
        "print(\"Test score:\", score[0])\n",
        "print(\"Test accuracy:\", score[1])\n"
      ],
      "execution_count": null,
      "outputs": []
    },
    {
      "cell_type": "code",
      "metadata": {
        "id": "I_cVNhGv_ezo"
      },
      "source": [
        "# Having constant amount of 256 neurons throughout entire model until output layer\n",
        "model = Sequential()\n",
        "model.add(Dense(256, input_dim=X_train.shape[1], activation=\"relu\"))\n",
        "model.add(Dense(256, activation=\"relu\"))\n",
        "model.add(Dense(256, activation=\"relu\"))\n",
        "model.add(Dense(256, activation=\"relu\"))\n",
        "model.add(Dense(256, activation=\"relu\"))\n",
        "model.add(Dense(256, activation=\"relu\"))\n",
        "model.add(Dense(10, activation=\"softmax\"))\n",
        "\n",
        "model.compile(optimizer=\"sgd\", loss=\"categorical_crossentropy\", metrics=[\"accuracy\"])\n",
        "\n",
        "model.fit(X_train, y_train, batch_size=64, epochs=20, verbose=1)\n"
      ],
      "execution_count": null,
      "outputs": []
    },
    {
      "cell_type": "code",
      "metadata": {
        "id": "XE77NJ8W_gyL"
      },
      "source": [
        "score = model.evaluate(X_test, y_test, verbose=0)\n",
        "print(\"Test score:\", score[0])\n",
        "print(\"Test accuracy:\", score[1])\n"
      ],
      "execution_count": null,
      "outputs": []
    },
    {
      "cell_type": "code",
      "metadata": {
        "id": "04nPHr2n_jq7"
      },
      "source": [
        "# Having constant amount of 512 neurons throughout entire model until output layer\n",
        "model = Sequential()\n",
        "model.add(Dense(512, input_dim=X_train.shape[1], activation=\"relu\"))\n",
        "model.add(Dense(512, activation=\"relu\"))\n",
        "model.add(Dense(512, activation=\"relu\"))\n",
        "model.add(Dense(512, activation=\"relu\"))\n",
        "model.add(Dense(512, activation=\"relu\"))\n",
        "model.add(Dense(512, activation=\"relu\"))\n",
        "model.add(Dense(10, activation=\"softmax\"))\n",
        "\n",
        "model.compile(optimizer=\"sgd\", loss=\"categorical_crossentropy\", metrics=[\"accuracy\"])\n",
        "\n",
        "model.fit(X_train, y_train, batch_size=64, epochs=20, verbose=1)\n"
      ],
      "execution_count": null,
      "outputs": []
    },
    {
      "cell_type": "code",
      "metadata": {
        "id": "NtXTQFOa_kYP"
      },
      "source": [
        "score = model.evaluate(X_test, y_test, verbose=0)\n",
        "print(\"Test score:\", score[0])\n",
        "print(\"Test accuracy:\", score[1])\n"
      ],
      "execution_count": null,
      "outputs": []
    },
    {
      "cell_type": "code",
      "metadata": {
        "id": "1HdSkz-A_njB"
      },
      "source": [
        "# Having neurons decrease throughout model\n",
        "model = Sequential()\n",
        "model.add(Dense(512, input_dim=X_train.shape[1], activation=\"relu\"))\n",
        "model.add(Dense(256, activation=\"relu\"))\n",
        "model.add(Dense(128, activation=\"relu\"))\n",
        "model.add(Dense(64, activation=\"relu\"))\n",
        "model.add(Dense(32, activation=\"relu\"))\n",
        "model.add(Dense(16, activation=\"relu\"))\n",
        "model.add(Dense(10, activation=\"softmax\"))\n",
        "\n",
        "model.compile(optimizer=\"sgd\", loss=\"categorical_crossentropy\", metrics=[\"accuracy\"])\n",
        "\n",
        "model.fit(X_train, y_train, batch_size=64, epochs=20, verbose=1)\n"
      ],
      "execution_count": null,
      "outputs": []
    },
    {
      "cell_type": "code",
      "metadata": {
        "id": "KQYikyLe_oYo"
      },
      "source": [
        "score = model.evaluate(X_test, y_test, verbose=0)\n",
        "print(\"Test score:\", score[0])\n",
        "print(\"Test accuracy:\", score[1])\n"
      ],
      "execution_count": null,
      "outputs": []
    },
    {
      "cell_type": "markdown",
      "metadata": {
        "id": "Kdr6QXJ5_qB4"
      },
      "source": [
        "When using constant amounts of neurons the test accuracy increases as the neurons increase, however, once the neurons get too high the run time starts to take longer to execute. The models all appear to have similar accuracies, but the model with a constant amound of 256 neurons performs the best in the most optimal run time. It even has a better accuracy than the model with neurons that decrease within each layer.\n",
        "\n",
        "# Conclusion\n",
        "Overall, each model is able to reach a very high accuracy, usually over 0.95. models that achieve an accuracy higher than 0.97 start to take a lot longer to execute, and only have a small increase in accuracy. Additionally, whenever the layers were increased the accuracy would increase, however once the layers got past 7 the accuracy would barely increase and the run time would take much longer. Therefore, I figured the most optimal amount of layers would be 7.\n",
        "\n",
        "It appears the best activation function was the ReLU activation. I was able to obtain an accuracy score of around 0.977 with a quick run time using a constant amound of 256 neurons, ReLU activation, 7 layers, and SGD loss function.\n",
        "\n",
        "# Possible Next Steps¶\n",
        "Some next steps that could be done for improving the models would be to change the loss functions (incorporate a hinge loss function instead of categorical). Additionally, I could change the optimizer to something other than sgd (adam)."
      ]
    }
  ]
}