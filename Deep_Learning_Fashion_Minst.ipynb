{
  "nbformat": 4,
  "nbformat_minor": 0,
  "metadata": {
    "colab": {
      "name": "Deep Learning Fashion Minst.ipynb",
      "provenance": [],
      "authorship_tag": "ABX9TyMhGGO/rRLHtimmtOurPCc1",
      "include_colab_link": true
    },
    "kernelspec": {
      "name": "python3",
      "display_name": "Python 3"
    },
    "language_info": {
      "name": "python"
    }
  },
  "cells": [
    {
      "cell_type": "markdown",
      "metadata": {
        "id": "view-in-github",
        "colab_type": "text"
      },
      "source": [
        "<a href=\"https://colab.research.google.com/github/HarshESC/Deep-Learning/blob/main/Deep_Learning_Fashion_Minst.ipynb\" target=\"_parent\"><img src=\"https://colab.research.google.com/assets/colab-badge.svg\" alt=\"Open In Colab\"/></a>"
      ]
    },
    {
      "cell_type": "code",
      "metadata": {
        "id": "XLe0rA7N5lFu"
      },
      "source": [
        "import numpy as np\n",
        "import datetime\n",
        "import tensorflow as tf\n",
        "from tensorflow.keras.datasets import fashion_mnist\n"
      ],
      "execution_count": 9,
      "outputs": []
    },
    {
      "cell_type": "markdown",
      "metadata": {
        "id": "dAepHsAG5nbm"
      },
      "source": [
        "### Data Preprocessing"
      ]
    },
    {
      "cell_type": "code",
      "metadata": {
        "id": "vvRlu_uJ5lxu"
      },
      "source": [
        "(X_train, y_train), (X_test, y_test) = fashion_mnist.load_data()\n"
      ],
      "execution_count": 10,
      "outputs": []
    },
    {
      "cell_type": "markdown",
      "metadata": {
        "id": "vl-_19cc5yDf"
      },
      "source": [
        "#Normalizing the images\n",
        "We divide each pixel of the image in the training and test sets by the maximum number of pixels (255).\n",
        "\n",
        "In this way each pixel will be in the range [0, 1]. By normalizing images we make sure that our model (ANN) trains faster.\n",
        "\n"
      ]
    },
    {
      "cell_type": "code",
      "metadata": {
        "id": "Jb3Bqu4y5zRG"
      },
      "source": [
        "X_train = X_train / 255.0\n",
        "X_test = X_test / 255.0\n"
      ],
      "execution_count": 11,
      "outputs": []
    },
    {
      "cell_type": "code",
      "metadata": {
        "id": "VVZFVT11525o"
      },
      "source": [
        "# Since each image's dimension is 28x28, we reshape the full dataset to [-1 (all elements), height * width]\n",
        "X_train = X_train.reshape(-1, 28*28)\n"
      ],
      "execution_count": 12,
      "outputs": []
    },
    {
      "cell_type": "code",
      "metadata": {
        "colab": {
          "base_uri": "https://localhost:8080/"
        },
        "id": "UF51Y1La55mH",
        "outputId": "17c055f1-dddc-4ec7-c392-6edc0d0e7143"
      },
      "source": [
        "X_train.shape\n"
      ],
      "execution_count": 13,
      "outputs": [
        {
          "output_type": "execute_result",
          "data": {
            "text/plain": [
              "(60000, 784)"
            ]
          },
          "metadata": {},
          "execution_count": 13
        }
      ]
    },
    {
      "cell_type": "code",
      "metadata": {
        "colab": {
          "base_uri": "https://localhost:8080/"
        },
        "id": "Oy_EIkk_57RP",
        "outputId": "626b2569-f312-42fd-eb4a-2ec399a4fee7"
      },
      "source": [
        "X_test.shape\n"
      ],
      "execution_count": 14,
      "outputs": [
        {
          "output_type": "execute_result",
          "data": {
            "text/plain": [
              "(10000, 28, 28)"
            ]
          },
          "metadata": {},
          "execution_count": 14
        }
      ]
    },
    {
      "cell_type": "code",
      "metadata": {
        "id": "RliFYwOX59Dn"
      },
      "source": [
        "# We reshape the test set the same way as train set\n",
        "X_test = X_test.reshape(-1, 28*28)\n"
      ],
      "execution_count": 15,
      "outputs": []
    },
    {
      "cell_type": "code",
      "metadata": {
        "colab": {
          "base_uri": "https://localhost:8080/"
        },
        "id": "nInDccEP5-7Q",
        "outputId": "af75517f-abfb-4de2-badb-614856f4f046"
      },
      "source": [
        "X_test.shape\n"
      ],
      "execution_count": 16,
      "outputs": [
        {
          "output_type": "execute_result",
          "data": {
            "text/plain": [
              "(10000, 784)"
            ]
          },
          "metadata": {},
          "execution_count": 16
        }
      ]
    },
    {
      "cell_type": "markdown",
      "metadata": {
        "id": "BCdWNnzy6A2_"
      },
      "source": [
        " Building an Artificial Neural Network\n"
      ]
    },
    {
      "cell_type": "markdown",
      "metadata": {
        "id": "j8aWRTmU6KFx"
      },
      "source": [
        "Defining the model\n"
      ]
    },
    {
      "cell_type": "code",
      "metadata": {
        "id": "VgFTZpfD6BSf"
      },
      "source": [
        "model = tf.keras.models.Sequential()\n"
      ],
      "execution_count": 17,
      "outputs": []
    },
    {
      "cell_type": "markdown",
      "metadata": {
        "id": "QdU8dkk96ObX"
      },
      "source": [
        "Adding a first fully-connected hidden layer\n",
        "Layer hyper-parameters to be used:\n",
        "\n",
        "number of units/neurons: 128\n",
        "activation function: ReLU\n",
        "input_shape: (784, )\n"
      ]
    },
    {
      "cell_type": "code",
      "metadata": {
        "id": "h7UP2G0h6PKx"
      },
      "source": [
        "model.add(tf.keras.layers.Dense(units=128, activation='relu', input_shape=(784, )))\n"
      ],
      "execution_count": 18,
      "outputs": []
    },
    {
      "cell_type": "code",
      "metadata": {
        "id": "qFh-SOer6adI"
      },
      "source": [
        "model.add(tf.keras.layers.Dense(units=24, activation='relu'))\n"
      ],
      "execution_count": 19,
      "outputs": []
    },
    {
      "cell_type": "markdown",
      "metadata": {
        "id": "chjwPDq-6d4h"
      },
      "source": [
        "#Adding a Dropout layer\n",
        "Dropout is being used as it is a Regularization technique where we randomly set neurons in a layer to zero. That way while training those neurons won't be updated. Because some percentage of neurons won't be updated the whole training process is long and we have less chance for overfitting.\n",
        "\n"
      ]
    },
    {
      "cell_type": "code",
      "metadata": {
        "id": "JodWl1cm6oJJ"
      },
      "source": [
        "model.add(tf.keras.layers.Dropout(0.2))\n"
      ],
      "execution_count": 20,
      "outputs": []
    },
    {
      "cell_type": "markdown",
      "metadata": {
        "id": "Ffej8YwE6fc5"
      },
      "source": [
        "Adding the output layer\n",
        "units: number of classes (10 in the Fashion MNIST dataset)\n",
        "activation: softmax\n"
      ]
    },
    {
      "cell_type": "code",
      "metadata": {
        "id": "mbMOQefy6qrJ"
      },
      "source": [
        "model.add(tf.keras.layers.Dense(units=10, activation='softmax'))\n"
      ],
      "execution_count": 21,
      "outputs": []
    },
    {
      "cell_type": "markdown",
      "metadata": {
        "id": "R0oG9MAP6swZ"
      },
      "source": [
        "Compiling the model\n",
        "Optimizer: Adam\n",
        "Loss: Sparse softmax (categorical) crossentropy\n"
      ]
    },
    {
      "cell_type": "code",
      "metadata": {
        "id": "DWoDSFOv6udR"
      },
      "source": [
        "model.compile(optimizer='adam', loss='sparse_categorical_crossentropy', metrics=['sparse_categorical_accuracy'])\n"
      ],
      "execution_count": 22,
      "outputs": []
    },
    {
      "cell_type": "code",
      "metadata": {
        "colab": {
          "base_uri": "https://localhost:8080/"
        },
        "id": "s-aaq9BZ6xQJ",
        "outputId": "1c4c80f8-7fce-41db-f152-f5110d39e27c"
      },
      "source": [
        "model.summary()\n"
      ],
      "execution_count": 23,
      "outputs": [
        {
          "output_type": "stream",
          "name": "stdout",
          "text": [
            "Model: \"sequential\"\n",
            "_________________________________________________________________\n",
            "Layer (type)                 Output Shape              Param #   \n",
            "=================================================================\n",
            "dense (Dense)                (None, 128)               100480    \n",
            "_________________________________________________________________\n",
            "dense_1 (Dense)              (None, 24)                3096      \n",
            "_________________________________________________________________\n",
            "dropout (Dropout)            (None, 24)                0         \n",
            "_________________________________________________________________\n",
            "dense_2 (Dense)              (None, 10)                250       \n",
            "=================================================================\n",
            "Total params: 103,826\n",
            "Trainable params: 103,826\n",
            "Non-trainable params: 0\n",
            "_________________________________________________________________\n"
          ]
        }
      ]
    },
    {
      "cell_type": "markdown",
      "metadata": {
        "id": "_s-IMiU560NI"
      },
      "source": [
        "Training the model\n"
      ]
    },
    {
      "cell_type": "code",
      "metadata": {
        "colab": {
          "base_uri": "https://localhost:8080/"
        },
        "id": "mZ7v2qlh60lI",
        "outputId": "91502629-058f-42d0-b48a-f0ebf81e0636"
      },
      "source": [
        "model.fit(X_train, y_train, epochs=10)\n"
      ],
      "execution_count": 24,
      "outputs": [
        {
          "output_type": "stream",
          "name": "stdout",
          "text": [
            "Epoch 1/10\n",
            "1875/1875 [==============================] - 4s 2ms/step - loss: 0.5873 - sparse_categorical_accuracy: 0.7933\n",
            "Epoch 2/10\n",
            "1875/1875 [==============================] - 4s 2ms/step - loss: 0.4283 - sparse_categorical_accuracy: 0.8464\n",
            "Epoch 3/10\n",
            "1875/1875 [==============================] - 4s 2ms/step - loss: 0.3938 - sparse_categorical_accuracy: 0.8588\n",
            "Epoch 4/10\n",
            "1875/1875 [==============================] - 4s 2ms/step - loss: 0.3639 - sparse_categorical_accuracy: 0.8689\n",
            "Epoch 5/10\n",
            "1875/1875 [==============================] - 4s 2ms/step - loss: 0.3443 - sparse_categorical_accuracy: 0.8747\n",
            "Epoch 6/10\n",
            "1875/1875 [==============================] - 4s 2ms/step - loss: 0.3313 - sparse_categorical_accuracy: 0.8797\n",
            "Epoch 7/10\n",
            "1875/1875 [==============================] - 4s 2ms/step - loss: 0.3149 - sparse_categorical_accuracy: 0.8842\n",
            "Epoch 8/10\n",
            "1875/1875 [==============================] - 4s 2ms/step - loss: 0.3059 - sparse_categorical_accuracy: 0.8887\n",
            "Epoch 9/10\n",
            "1875/1875 [==============================] - 4s 2ms/step - loss: 0.2951 - sparse_categorical_accuracy: 0.8914\n",
            "Epoch 10/10\n",
            "1875/1875 [==============================] - 4s 2ms/step - loss: 0.2871 - sparse_categorical_accuracy: 0.8940\n"
          ]
        },
        {
          "output_type": "execute_result",
          "data": {
            "text/plain": [
              "<keras.callbacks.History at 0x7fac4ec90310>"
            ]
          },
          "metadata": {},
          "execution_count": 24
        }
      ]
    },
    {
      "cell_type": "markdown",
      "metadata": {
        "id": "AJdM3xOH64Pw"
      },
      "source": [
        "Model evaluation and prediction\n"
      ]
    },
    {
      "cell_type": "code",
      "metadata": {
        "colab": {
          "base_uri": "https://localhost:8080/"
        },
        "id": "e99a6G0S64nZ",
        "outputId": "a4875a0a-770a-48c4-d1a3-03e8d319a4d4"
      },
      "source": [
        "test_loss, test_accuracy = model.evaluate(X_test, y_test)\n"
      ],
      "execution_count": 26,
      "outputs": [
        {
          "output_type": "stream",
          "name": "stdout",
          "text": [
            "313/313 [==============================] - 0s 1ms/step - loss: 0.3364 - sparse_categorical_accuracy: 0.8841\n"
          ]
        }
      ]
    },
    {
      "cell_type": "code",
      "metadata": {
        "colab": {
          "base_uri": "https://localhost:8080/"
        },
        "id": "EQoLhg2n67Qx",
        "outputId": "58f29c14-56b2-44ed-9f93-2eed32409a87"
      },
      "source": [
        "print(\"Test accuracy: {}\".format(test_accuracy))\n"
      ],
      "execution_count": 27,
      "outputs": [
        {
          "output_type": "stream",
          "name": "stdout",
          "text": [
            "Test accuracy: 0.8841000199317932\n"
          ]
        }
      ]
    },
    {
      "cell_type": "markdown",
      "metadata": {
        "id": "tkSo1Fzv7DJC"
      },
      "source": [
        "From the above ANN, we see that our model makes the accuracy of 88.15% in test dataset which is almost similar to the last epoch in training set. With adding one hidden layer and increasing the eopch from 5 to 10, the predictions increase by approx 1% in both training and test.\n",
        "\n",
        "From this two models we can see that with careful parameter tuning, better model can be made. If it was for the production purpose, this model can be further improved by trying different parameters tuning as done in this model."
      ]
    }
  ]
}